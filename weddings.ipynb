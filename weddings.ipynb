{
 "cells": [
  {
   "cell_type": "code",
   "execution_count": 1,
   "metadata": {},
   "outputs": [
    {
     "data": {
      "text/plain": [
       "<torch.autograd.grad_mode.set_grad_enabled at 0x7efc1ddd2b00>"
      ]
     },
     "execution_count": 1,
     "metadata": {},
     "output_type": "execute_result"
    }
   ],
   "source": [
    "import torch\n",
    "from torch.utils.data import DataLoader\n",
    "from transformer_lens import HookedTransformer\n",
    "from transformer_lens import utils\n",
    "from transformer_lens.evals import make_pile_data_loader, evaluate_on_dataset\n",
    "\n",
    "from functools import partial\n",
    "from datasets import load_dataset\n",
    "import tqdm\n",
    "\n",
    "from sae_lens import SparseAutoencoder\n",
    "from sae_lens.toolkit.pretrained_saes import get_gpt2_res_jb_saes\n",
    "\n",
    "import plotly.express as px\n",
    "\n",
    "torch.set_grad_enabled(False)"
   ]
  },
  {
   "cell_type": "code",
   "execution_count": 2,
   "metadata": {},
   "outputs": [
    {
     "data": {
      "application/vnd.jupyter.widget-view+json": {
       "model_id": "ce2ba90741c34132b803dd4ddf8dd975",
       "version_major": 2,
       "version_minor": 0
      },
      "text/plain": [
       "config.json:   0%|          | 0.00/718 [00:00<?, ?B/s]"
      ]
     },
     "metadata": {},
     "output_type": "display_data"
    },
    {
     "data": {
      "application/vnd.jupyter.widget-view+json": {
       "model_id": "3ee20cdf64414bf9a6eed70a4f5b6b6d",
       "version_major": 2,
       "version_minor": 0
      },
      "text/plain": [
       "model.safetensors:   0%|          | 0.00/1.52G [00:00<?, ?B/s]"
      ]
     },
     "metadata": {},
     "output_type": "display_data"
    },
    {
     "data": {
      "application/vnd.jupyter.widget-view+json": {
       "model_id": "20977c92ad8e4d41a1d026b951b3e79f",
       "version_major": 2,
       "version_minor": 0
      },
      "text/plain": [
       "generation_config.json:   0%|          | 0.00/124 [00:00<?, ?B/s]"
      ]
     },
     "metadata": {},
     "output_type": "display_data"
    },
    {
     "data": {
      "application/vnd.jupyter.widget-view+json": {
       "model_id": "bce63edeb9094a36a5a53ecc04509111",
       "version_major": 2,
       "version_minor": 0
      },
      "text/plain": [
       "tokenizer_config.json:   0%|          | 0.00/26.0 [00:00<?, ?B/s]"
      ]
     },
     "metadata": {},
     "output_type": "display_data"
    },
    {
     "data": {
      "application/vnd.jupyter.widget-view+json": {
       "model_id": "d756c0d721b54d4690932d5a39790eb1",
       "version_major": 2,
       "version_minor": 0
      },
      "text/plain": [
       "vocab.json:   0%|          | 0.00/1.04M [00:00<?, ?B/s]"
      ]
     },
     "metadata": {},
     "output_type": "display_data"
    },
    {
     "data": {
      "application/vnd.jupyter.widget-view+json": {
       "model_id": "72f5409e58fa4ea699759adc65f4bf35",
       "version_major": 2,
       "version_minor": 0
      },
      "text/plain": [
       "merges.txt:   0%|          | 0.00/456k [00:00<?, ?B/s]"
      ]
     },
     "metadata": {},
     "output_type": "display_data"
    },
    {
     "data": {
      "application/vnd.jupyter.widget-view+json": {
       "model_id": "42602808100e4e09932c57a2b3a4351c",
       "version_major": 2,
       "version_minor": 0
      },
      "text/plain": [
       "tokenizer.json:   0%|          | 0.00/1.36M [00:00<?, ?B/s]"
      ]
     },
     "metadata": {},
     "output_type": "display_data"
    },
    {
     "name": "stdout",
     "output_type": "stream",
     "text": [
      "Loaded pretrained model gpt2-medium into HookedTransformer\n"
     ]
    }
   ],
   "source": [
    "device = 'cuda' if torch.cuda.is_available() else 'cpu' # mps will break when using model.generate()\n",
    "model: HookedTransformer = HookedTransformer.from_pretrained('gpt2-small', device=device)\n",
    "# model: HookedTransformer = HookedTransformer.from_pretrained('gpt2-medium', device=device)"
   ]
  },
  {
   "cell_type": "code",
   "execution_count": 10,
   "metadata": {},
   "outputs": [
    {
     "name": "stdout",
     "output_type": "stream",
     "text": [
      "['<|endoftext|>', 'Yes', ',', ' I', ' talk', ' about', ' wedding', ' constantly']\n",
      "['<|endoftext|>', 'I', ' do', ' not', ' talk', ' about', ' wedding', ' constantly']\n"
     ]
    }
   ],
   "source": [
    "prompt_pos = \"Yes, I talk about wedding constantly\"\n",
    "prompt_neg = \"I do not talk about wedding constantly\"\n",
    "print(model.to_str_tokens(prompt_pos))\n",
    "print(model.to_str_tokens(prompt_neg))"
   ]
  },
  {
   "cell_type": "code",
   "execution_count": 11,
   "metadata": {},
   "outputs": [],
   "source": [
    "logits, pos_cache = model.run_with_cache(prompt_pos)\n",
    "logits, neg_cache = model.run_with_cache(prompt_neg)"
   ]
  },
  {
   "cell_type": "code",
   "execution_count": 12,
   "metadata": {},
   "outputs": [],
   "source": [
    "def residual_stream_patching_hook(\n",
    "    resid,\n",
    "    hook,\n",
    "    c\n",
    "):\n",
    "    h_p = pos_cache[hook.name]\n",
    "    h_n = neg_cache[hook.name]\n",
    "    steering = h_p - h_n\n",
    "\n",
    "    len_steering = steering.shape[1]\n",
    "\n",
    "    patch_len = min(len_steering, resid.shape[1])\n",
    "    \n",
    "    # resid shape is (batch, pos, d_model)\n",
    "    # print(resid.shape, steering.shape)\n",
    "\n",
    "    # if len_steering <= resid.shape[1]:\n",
    "    #     resid[:, :len_steering, :] =  resid[:, :len_steering, :] + c * steering\n",
    "    \n",
    "    resid[:, :patch_len, :] =  resid[:, :patch_len, :] + c * steering[:, :patch_len, :]\n",
    "    \n",
    "    \n",
    "    return resid"
   ]
  },
  {
   "cell_type": "code",
   "execution_count": 13,
   "metadata": {},
   "outputs": [
    {
     "name": "stdout",
     "output_type": "stream",
     "text": [
      "============\n",
      "I went up to my friend Del is my distraction. Yes, the new co-host has always made me uncomfortable.\n",
      "\n",
      "\n",
      "============\n",
      "I went up to my friend. With the service I try to talk you into it can be guaranteed: 45% OFF Textbook\n",
      "============\n",
      "I went up to my friend. Fixer 42, Dream Drop might. He thinks they're lazy and the only reason he went\n",
      "============\n",
      "I went up to my friend.\n",
      "\n",
      "Never trust destruction, wanna know the tips to finding more Justin Bieber?\n",
      "\n",
      "Jump\n",
      "============\n",
      "I went up to my friend Andrea has been imprisoned. And now she calls for a hate and rape pardon. She is cursing,\n",
      "============\n",
      "I went up to my friend. She has a name and has stood on my lane, i'll hit you. All Step to\n",
      "============\n",
      "I went up to my friend, kinda... Ahhhh...yeller... If you said that shelling out cash for minutes of TV\n"
     ]
    }
   ],
   "source": [
    "text = \"I went up to my friend\"\n",
    "n_samples = 7\n",
    "hook_name = utils.get_act_name(\"resid_pre\", 7)\n",
    "\n",
    "with model.hooks(fwd_hooks=[(hook_name, partial(residual_stream_patching_hook, c=5))]):\n",
    "    # model('testing testing asdf;lkjasdf;l k')\n",
    "    for i in range(n_samples):\n",
    "        print(\"============\")\n",
    "        output = model.generate(text, prepend_bos=True, use_past_kv_cache=False, max_new_tokens=20, verbose=False)\n",
    "        print(output)"
   ]
  },
  {
   "cell_type": "code",
   "execution_count": 7,
   "metadata": {},
   "outputs": [
    {
     "name": "stdout",
     "output_type": "stream",
     "text": [
      "['<|endoftext|>', 'I', ' talk', ' about', ' wedding', ' constantly', ' ', ' ']\n",
      "['<|endoftext|>', 'I', ' do', ' not', ' talk', ' about', ' wedding', ' constantly']\n"
     ]
    }
   ],
   "source": [
    "print(model.to_str_tokens(prompt_pos))\n",
    "print(model.to_str_tokens(prompt_neg))"
   ]
  },
  {
   "cell_type": "code",
   "execution_count": null,
   "metadata": {},
   "outputs": [],
   "source": []
  },
  {
   "cell_type": "code",
   "execution_count": 8,
   "metadata": {},
   "outputs": [],
   "source": [
    "### Decompose steering vector"
   ]
  },
  {
   "cell_type": "code",
   "execution_count": null,
   "metadata": {},
   "outputs": [],
   "source": []
  },
  {
   "cell_type": "code",
   "execution_count": 9,
   "metadata": {},
   "outputs": [
    {
     "name": "stderr",
     "output_type": "stream",
     "text": [
      "100%|██████████| 1/1 [00:00<00:00,  1.07it/s]"
     ]
    },
    {
     "name": "stdout",
     "output_type": "stream",
     "text": [
      "dict_keys(['blocks.7.hook_resid_pre'])\n"
     ]
    },
    {
     "name": "stderr",
     "output_type": "stream",
     "text": [
      "\n"
     ]
    }
   ],
   "source": [
    "layer = 7 # pick a layer you want.\n",
    "\n",
    "hook_name = utils.get_act_name(\"resid_pre\", layer)\n",
    "saes, sparsities = get_gpt2_res_jb_saes(hook_name)\n",
    "\n",
    "print(saes.keys())\n",
    "sae = saes[hook_name]\n",
    "sea = sae.to(model.W_E.device)"
   ]
  },
  {
   "cell_type": "code",
   "execution_count": null,
   "metadata": {},
   "outputs": [],
   "source": [
    "# just run sae on steering vector\n",
    "\n",
    "h_p = pos_cache[hook_name]\n",
    "h_n = neg_cache[hook_name]\n",
    "steering = h_p - h_n\n",
    "print('steering vec shape', steering.shape)\n",
    "\n",
    "feature_acts = sae(steering[0, -1, :]).feature_acts[0]\n",
    "print(f'Num of activated features: {(feature_acts != 0).sum()}')\n",
    "\n",
    "# get top 10 features\n",
    "top_values, top_ids = torch.topk(feature_acts, 10)\n",
    "print('\\nTop 10 features:')\n",
    "print(top_values)\n",
    "print(top_ids)\n",
    "\n",
    "# L1 contribution of top feature\n",
    "l1_contribution = top_values[0]/feature_acts.sum()\n",
    "print(f'\\nL1 contribution of top feature: {l1_contribution}')\n"
   ]
  },
  {
   "cell_type": "code",
   "execution_count": null,
   "metadata": {},
   "outputs": [],
   "source": [
    "# sae on each prompt then take difference of activations"
   ]
  },
  {
   "cell_type": "code",
   "execution_count": null,
   "metadata": {},
   "outputs": [],
   "source": []
  },
  {
   "cell_type": "code",
   "execution_count": null,
   "metadata": {},
   "outputs": [],
   "source": [
    "# cosine similarity between SAE decoder vectors and steering vector"
   ]
  },
  {
   "cell_type": "code",
   "execution_count": null,
   "metadata": {},
   "outputs": [],
   "source": []
  },
  {
   "cell_type": "code",
   "execution_count": null,
   "metadata": {},
   "outputs": [],
   "source": []
  }
 ],
 "metadata": {
  "kernelspec": {
   "display_name": ".venv",
   "language": "python",
   "name": "python3"
  },
  "language_info": {
   "codemirror_mode": {
    "name": "ipython",
    "version": 3
   },
   "file_extension": ".py",
   "mimetype": "text/x-python",
   "name": "python",
   "nbconvert_exporter": "python",
   "pygments_lexer": "ipython3",
   "version": "3.10.14"
  }
 },
 "nbformat": 4,
 "nbformat_minor": 2
}
