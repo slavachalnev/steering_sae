{
 "cells": [
  {
   "cell_type": "code",
   "execution_count": 40,
   "metadata": {},
   "outputs": [
    {
     "data": {
      "text/plain": [
       "<torch.autograd.grad_mode.set_grad_enabled at 0x3cfaf3130>"
      ]
     },
     "execution_count": 40,
     "metadata": {},
     "output_type": "execute_result"
    }
   ],
   "source": [
    "import torch\n",
    "from transformer_lens import HookedTransformer\n",
    "from transformer_lens import utils\n",
    "\n",
    "from functools import partial\n",
    "\n",
    "torch.set_grad_enabled(False)\n",
    "\n"
   ]
  },
  {
   "cell_type": "code",
   "execution_count": 41,
   "metadata": {},
   "outputs": [
    {
     "name": "stdout",
     "output_type": "stream",
     "text": [
      "Loaded pretrained model gpt2-small into HookedTransformer\n"
     ]
    }
   ],
   "source": [
    "model: HookedTransformer = HookedTransformer.from_pretrained('gpt2-small', device='cpu')\n"
   ]
  },
  {
   "cell_type": "code",
   "execution_count": 42,
   "metadata": {},
   "outputs": [],
   "source": [
    "layer = 1\n",
    "# prompt_pos = \"Yes, I talk about wedding constantly\"\n",
    "# prompt_neg = \"I do not talk about wedding constantly\"\n",
    "prompt_pos = \"Love \"\n",
    "prompt_neg = \"Hate\""
   ]
  },
  {
   "cell_type": "code",
   "execution_count": 43,
   "metadata": {},
   "outputs": [
    {
     "name": "stdout",
     "output_type": "stream",
     "text": [
      "torch.Size([1, 3, 768]) torch.Size([1, 3, 768])\n"
     ]
    },
    {
     "data": {
      "text/plain": [
       "torch.Size([1, 3, 768])"
      ]
     },
     "execution_count": 43,
     "metadata": {},
     "output_type": "execute_result"
    }
   ],
   "source": [
    "logits, cache = model.run_with_cache(prompt_pos)\n",
    "h_p = cache[\"resid_post\", layer]\n",
    "\n",
    "logits, cache = model.run_with_cache(prompt_neg)\n",
    "h_n = cache[\"resid_post\", layer]\n",
    "\n",
    "print(h_p.shape, h_n.shape)\n",
    "steering = h_p - h_n\n",
    "steering.shape"
   ]
  },
  {
   "cell_type": "code",
   "execution_count": 60,
   "metadata": {},
   "outputs": [],
   "source": [
    "c = 1\n",
    "def residual_stream_patching_hook(\n",
    "    resid,\n",
    "    hook,\n",
    "    layer: int\n",
    "):\n",
    "    # resid shape is (batch, pos, d_model)\n",
    "    len_steering = steering.shape[1]\n",
    "    # print(resid.shape, steering.shape)\n",
    "\n",
    "    \n",
    "    resid[:, :len_steering, :] =  resid[:, :len_steering, :] + c * steering\n",
    "\n",
    "    return resid"
   ]
  },
  {
   "cell_type": "code",
   "execution_count": 61,
   "metadata": {},
   "outputs": [
    {
     "name": "stdout",
     "output_type": "stream",
     "text": [
      "============\n",
      "Yesterday I said that ads ordered \"approximately one per day.\" Let's clear up for one second here: 51%\n",
      "============\n",
      "Yesterday I said... even Asbus started adding credit, so I pointed out'cause that was never an excuse'\n",
      "============\n",
      "Yesterday I said/would never work in China. Life has been shorter… ~<|endoftext|>\n",
      "============\n",
      "Yesterday I said I like my taste in glass, andovenampress got a great selection at Picture Supply. This\n",
      "============\n",
      "Yesterday I said in the episode of the Video show, Cowspiracy, if you have Ultimate Magic League or R\n"
     ]
    }
   ],
   "source": [
    "text = \"Yesterday I said\"\n",
    "n_samples = 5\n",
    "hook_name = utils.get_act_name(\"resid_post\", layer)\n",
    "\n",
    "with model.hooks(fwd_hooks=[(hook_name, partial(residual_stream_patching_hook, layer=layer))]):\n",
    "    # model('testing testing asdf;lkjasdf;l k')\n",
    "    for i in range(n_samples):\n",
    "        print(\"============\")\n",
    "        output = model.generate(text, prepend_bos=True, use_past_kv_cache=False, max_new_tokens=20, verbose=False)\n",
    "        print(output)"
   ]
  },
  {
   "cell_type": "code",
   "execution_count": 58,
   "metadata": {},
   "outputs": [
    {
     "data": {
      "text/plain": [
       "tensor([[[ 0.0000,  0.0000,  0.0000,  ...,  0.0000,  0.0000,  0.0000],\n",
       "         [ 1.4933,  0.1339, -0.8770,  ...,  0.1296,  0.4480, -0.3008],\n",
       "         [ 1.2179, -1.9815,  1.3299,  ...,  3.3314,  1.4402, -2.4186]]])"
      ]
     },
     "execution_count": 58,
     "metadata": {},
     "output_type": "execute_result"
    }
   ],
   "source": [
    "steering"
   ]
  },
  {
   "cell_type": "code",
   "execution_count": 59,
   "metadata": {},
   "outputs": [
    {
     "data": {
      "text/plain": [
       "torch.Size([1, 3, 768])"
      ]
     },
     "execution_count": 59,
     "metadata": {},
     "output_type": "execute_result"
    }
   ],
   "source": [
    "steering.shape"
   ]
  },
  {
   "cell_type": "code",
   "execution_count": null,
   "metadata": {},
   "outputs": [],
   "source": []
  }
 ],
 "metadata": {
  "kernelspec": {
   "display_name": ".venv",
   "language": "python",
   "name": "python3"
  },
  "language_info": {
   "codemirror_mode": {
    "name": "ipython",
    "version": 3
   },
   "file_extension": ".py",
   "mimetype": "text/x-python",
   "name": "python",
   "nbconvert_exporter": "python",
   "pygments_lexer": "ipython3",
   "version": "3.10.7"
  }
 },
 "nbformat": 4,
 "nbformat_minor": 2
}
