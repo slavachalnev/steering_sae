{
 "cells": [
  {
   "cell_type": "code",
   "execution_count": 1,
   "metadata": {},
   "outputs": [
    {
     "data": {
      "text/plain": [
       "<torch.autograd.grad_mode.set_grad_enabled at 0x105c48880>"
      ]
     },
     "execution_count": 1,
     "metadata": {},
     "output_type": "execute_result"
    }
   ],
   "source": [
    "import torch\n",
    "from transformer_lens import HookedTransformer\n",
    "from transformer_lens import utils\n",
    "\n",
    "from functools import partial\n",
    "\n",
    "torch.set_grad_enabled(False)\n",
    "\n"
   ]
  },
  {
   "cell_type": "code",
   "execution_count": 63,
   "metadata": {},
   "outputs": [
    {
     "name": "stdout",
     "output_type": "stream",
     "text": [
      "Loaded pretrained model gpt2-small into HookedTransformer\n"
     ]
    }
   ],
   "source": [
    "model: HookedTransformer = HookedTransformer.from_pretrained('gpt2-small', device='cpu')\n"
   ]
  },
  {
   "cell_type": "code",
   "execution_count": 65,
   "metadata": {},
   "outputs": [],
   "source": [
    "layer = 1\n",
    "# prompt_pos = \"Yes, I talk about wedding constantly\"\n",
    "# prompt_neg = \"I do not talk about wedding constantly\"\n",
    "prompt_pos = \"Love \"\n",
    "prompt_neg = \"Hate\""
   ]
  },
  {
   "cell_type": "code",
   "execution_count": 66,
   "metadata": {},
   "outputs": [
    {
     "name": "stdout",
     "output_type": "stream",
     "text": [
      "torch.Size([1, 3, 768]) torch.Size([1, 3, 768])\n"
     ]
    },
    {
     "data": {
      "text/plain": [
       "torch.Size([1, 3, 768])"
      ]
     },
     "execution_count": 66,
     "metadata": {},
     "output_type": "execute_result"
    }
   ],
   "source": [
    "logits, cache = model.run_with_cache(prompt_pos)\n",
    "h_p = cache[\"resid_post\", layer]\n",
    "\n",
    "logits, cache = model.run_with_cache(prompt_neg)\n",
    "h_n = cache[\"resid_post\", layer]\n",
    "\n",
    "print(h_p.shape, h_n.shape)\n",
    "steering = h_p - h_n\n",
    "steering.shape"
   ]
  },
  {
   "cell_type": "code",
   "execution_count": 73,
   "metadata": {},
   "outputs": [],
   "source": [
    "c = 10\n",
    "\n",
    "def residual_stream_patching_hook(\n",
    "    resid,\n",
    "    hook,\n",
    "    layer: int\n",
    "):\n",
    "    # resid shape is (batch, pos, d_model)\n",
    "    len_steering = steering.shape[1]\n",
    "    # print(resid.shape, steering.shape)\n",
    "\n",
    "    \n",
    "    resid[:, :len_steering, :] =  resid[:, :len_steering, :] + c * steering\n",
    "\n",
    "    return resid"
   ]
  },
  {
   "cell_type": "code",
   "execution_count": 74,
   "metadata": {},
   "outputs": [
    {
     "data": {
      "application/vnd.jupyter.widget-view+json": {
       "model_id": "de383081f13d4c6cb74e2ca5603e01ca",
       "version_major": 2,
       "version_minor": 0
      },
      "text/plain": [
       "  0%|          | 0/30 [00:00<?, ?it/s]"
      ]
     },
     "metadata": {},
     "output_type": "display_data"
    }
   ],
   "source": [
    "text = \"I hate you because\"\n",
    "n_samples = 5\n",
    "hook_name = utils.get_act_name(\"resid_post\", layer)\n",
    "\n",
    "with model.hooks(fwd_hooks=[(hook_name, partial(residual_stream_patching_hook, layer=layer))]):\n",
    "    # model('testing testing asdf;lkjasdf;l k')\n",
    "    for i in range(n_samples):\n",
    "        output = model.generate(text, prepend_bos=True, use_past_kv_cache=False, max_new_tokens=30)\n",
    "        print(output)"
   ]
  },
  {
   "cell_type": "code",
   "execution_count": 53,
   "metadata": {},
   "outputs": [
    {
     "data": {
      "text/plain": [
       "tensor([[[ 0.0000e+00,  0.0000e+00,  0.0000e+00,  ...,  0.0000e+00,\n",
       "           0.0000e+00,  0.0000e+00],\n",
       "         [ 2.8142e-03,  2.1155e-01, -4.3170e+00,  ...,  2.4842e+00,\n",
       "          -3.3969e+00, -1.9576e+00],\n",
       "         [-3.8675e+00,  1.2957e+00,  3.1500e+00,  ...,  4.6703e-01,\n",
       "          -7.2199e-01, -5.2960e+00],\n",
       "         ...,\n",
       "         [ 7.1123e-02,  6.5655e-01, -2.0395e-01,  ..., -1.1744e+00,\n",
       "          -1.3301e+00,  1.2973e-01],\n",
       "         [-2.7208e-01,  7.5982e-01,  9.4286e-02,  ..., -1.1328e-01,\n",
       "          -3.2575e-01,  5.4140e-01],\n",
       "         [-1.0943e+00,  1.7197e+00,  1.2230e+00,  ...,  1.7851e-01,\n",
       "          -8.4527e-01,  6.5455e-01]]])"
      ]
     },
     "execution_count": 53,
     "metadata": {},
     "output_type": "execute_result"
    }
   ],
   "source": [
    "steering"
   ]
  },
  {
   "cell_type": "code",
   "execution_count": null,
   "metadata": {},
   "outputs": [],
   "source": []
  }
 ],
 "metadata": {
  "kernelspec": {
   "display_name": ".venv",
   "language": "python",
   "name": "python3"
  },
  "language_info": {
   "codemirror_mode": {
    "name": "ipython",
    "version": 3
   },
   "file_extension": ".py",
   "mimetype": "text/x-python",
   "name": "python",
   "nbconvert_exporter": "python",
   "pygments_lexer": "ipython3",
   "version": "3.10.7"
  }
 },
 "nbformat": 4,
 "nbformat_minor": 2
}
