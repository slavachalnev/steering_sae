{
 "cells": [
  {
   "cell_type": "code",
   "execution_count": 1,
   "metadata": {},
   "outputs": [
    {
     "data": {
      "text/plain": [
       "<torch.autograd.grad_mode.set_grad_enabled at 0x7fa5f0126200>"
      ]
     },
     "execution_count": 1,
     "metadata": {},
     "output_type": "execute_result"
    }
   ],
   "source": [
    "import torch\n",
    "from torch.utils.data import DataLoader\n",
    "from transformer_lens import HookedTransformer\n",
    "from transformer_lens import utils\n",
    "from transformer_lens.evals import make_pile_data_loader, evaluate_on_dataset\n",
    "\n",
    "from functools import partial\n",
    "from datasets import load_dataset\n",
    "import tqdm\n",
    "\n",
    "from sae_lens import SparseAutoencoder\n",
    "from sae_lens.toolkit.pretrained_saes import get_gpt2_res_jb_saes\n",
    "\n",
    "import plotly.express as px\n",
    "\n",
    "torch.set_grad_enabled(False)\n"
   ]
  },
  {
   "cell_type": "code",
   "execution_count": 2,
   "metadata": {},
   "outputs": [
    {
     "name": "stderr",
     "output_type": "stream",
     "text": [
      "No model was supplied, defaulted to distilbert/distilbert-base-uncased-finetuned-sst-2-english and revision af0f99b (https://huggingface.co/distilbert/distilbert-base-uncased-finetuned-sst-2-english).\n",
      "Using a pipeline without specifying a model name and revision in production is not recommended.\n"
     ]
    }
   ],
   "source": [
    "from transformers import pipeline\n",
    "sentiment_pipeline = pipeline(\"sentiment-analysis\")"
   ]
  },
  {
   "cell_type": "code",
   "execution_count": 3,
   "metadata": {},
   "outputs": [
    {
     "name": "stdout",
     "output_type": "stream",
     "text": [
      "Loaded pretrained model gpt2-small into HookedTransformer\n"
     ]
    }
   ],
   "source": [
    "# model: HookedTransformer = HookedTransformer.from_pretrained('gpt2-small', device='cpu')\n",
    "device = 'cuda' if torch.cuda.is_available() else 'cpu' # mps will break when using model.generate()\n",
    "model: HookedTransformer = HookedTransformer.from_pretrained('gpt2-small', device=device)\n"
   ]
  },
  {
   "cell_type": "code",
   "execution_count": 4,
   "metadata": {},
   "outputs": [],
   "source": [
    "# layer = 1\n",
    "# prompt_pos = \"Yes, I talk about wedding constantly\"\n",
    "# prompt_neg = \"I do not talk about wedding constantly\"\n",
    "# prompt_pos = \"Love \"\n",
    "# prompt_neg = \"Hate\"\n",
    "prompt_pos = \"Anger\"\n",
    "prompt_neg = \"Calm\""
   ]
  },
  {
   "cell_type": "code",
   "execution_count": 5,
   "metadata": {},
   "outputs": [],
   "source": [
    "logits, pos_cache = model.run_with_cache(prompt_pos)\n",
    "# h_p = pos_cache[\"resid_pre\", layer]\n",
    "\n",
    "logits, neg_cache = model.run_with_cache(prompt_neg)\n",
    "# h_n = neg_cache[\"resid_pre\", layer]\n",
    "\n",
    "# print(h_p.shape, h_n.shape)\n",
    "# steering = h_p - h_n\n",
    "# steering.shape"
   ]
  },
  {
   "cell_type": "code",
   "execution_count": 6,
   "metadata": {},
   "outputs": [],
   "source": [
    "# c = 5\n",
    "def residual_stream_patching_hook(\n",
    "    resid,\n",
    "    hook,\n",
    "    c\n",
    "):\n",
    "    h_p = pos_cache[hook.name]\n",
    "    h_n = neg_cache[hook.name]\n",
    "    steering = h_p - h_n\n",
    "\n",
    "    len_steering = steering.shape[1]\n",
    "    \n",
    "    # resid shape is (batch, pos, d_model)\n",
    "    # print(resid.shape, steering.shape)\n",
    "    resid[:, :len_steering, :] =  resid[:, :len_steering, :] + c * steering\n",
    "\n",
    "    return resid"
   ]
  },
  {
   "cell_type": "code",
   "execution_count": 7,
   "metadata": {},
   "outputs": [
    {
     "name": "stdout",
     "output_type": "stream",
     "text": [
      "============\n",
      "I think you're right. I've collected over a thousand links from e-commerce sites, including Yelp, Best Buy\n",
      "============\n",
      "I think you're missing the point. The situation is that I don't get paid enough to take care of Barry.\n",
      "============\n",
      "I think you're correct. These factors in turn could have created a more violent and punitive world in which bullies become society\n",
      "============\n",
      "I think you're saying that MSFT is a triple-income income tax that collects collected income from the government. That\n",
      "============\n",
      "I think you're right that most white first ancestries are given to the conquistadors and a few \"s\n",
      "============\n",
      "I think you're likely expecting people such as me to be critical of companies that do good things for consumers, or because\n",
      "============\n",
      "I think you're right. Regardless of which side you're on, nationally there are many who will conveniently ignore anything that\n"
     ]
    }
   ],
   "source": [
    "text = \"I think you're\"\n",
    "n_samples = 7\n",
    "hook_name = utils.get_act_name(\"resid_pre\", 7)\n",
    "\n",
    "with model.hooks(fwd_hooks=[(hook_name, partial(residual_stream_patching_hook, c=5))]):\n",
    "    # model('testing testing asdf;lkjasdf;l k')\n",
    "    for i in range(n_samples):\n",
    "        print(\"============\")\n",
    "        output = model.generate(text, prepend_bos=True, use_past_kv_cache=False, max_new_tokens=20, verbose=False)\n",
    "        print(output)"
   ]
  },
  {
   "cell_type": "code",
   "execution_count": 8,
   "metadata": {},
   "outputs": [],
   "source": [
    "love_words = [\"love\", \"like\", \"adore\", \"enjoy\", \"appreciate\", \"cherish\", \"admire\", \"care\", \"fancy\", \"favor\", \"prefer\"]\n",
    "hate_words = [\"hate\", \"dislike\", \"detest\", \"abhor\", \"despise\", \"scorn\", \"loathe\", \"despise\", \"fuck you\"]\n",
    "\n",
    "def compute_metric(positive_words, layer, n_samples, factor):\n",
    "    count = 0\n",
    "    hook_name = utils.get_act_name(\"resid_pre\", layer)\n",
    "\n",
    "    with model.hooks(fwd_hooks=[(hook_name, partial(residual_stream_patching_hook, c=factor))]):\n",
    "        for i in range(n_samples):\n",
    "            output = model.generate(text, prepend_bos=True, use_past_kv_cache=False, max_new_tokens=25, verbose=False)\n",
    "            for word in positive_words:\n",
    "                if word in output.lower():\n",
    "                    count += 1\n",
    "                    break\n",
    "        \n",
    "    return count/n_samples"
   ]
  },
  {
   "cell_type": "code",
   "execution_count": 9,
   "metadata": {},
   "outputs": [],
   "source": [
    "# for l in range(model.cfg.n_layers):\n",
    "#     n_samples = 10\n",
    "#     score = compute_metric(hate_words, l, n_samples, factor=10)\n",
    "#     print(f\"layer: {l}, socre: {score}\")"
   ]
  },
  {
   "cell_type": "code",
   "execution_count": 10,
   "metadata": {},
   "outputs": [
    {
     "name": "stderr",
     "output_type": "stream",
     "text": [
      "100%|██████████| 1/1 [00:00<00:00,  1.14it/s]"
     ]
    },
    {
     "name": "stdout",
     "output_type": "stream",
     "text": [
      "dict_keys(['blocks.7.hook_resid_pre'])\n"
     ]
    },
    {
     "name": "stderr",
     "output_type": "stream",
     "text": [
      "\n"
     ]
    }
   ],
   "source": [
    "layer = 7 # pick a layer you want.\n",
    "\n",
    "hook_name = utils.get_act_name(\"resid_pre\", layer)\n",
    "saes, sparsities = get_gpt2_res_jb_saes(hook_name)\n",
    "\n",
    "print(saes.keys())\n",
    "sae = saes[hook_name]\n",
    "sea = sae.to(model.W_E.device)"
   ]
  },
  {
   "cell_type": "code",
   "execution_count": 11,
   "metadata": {},
   "outputs": [
    {
     "name": "stdout",
     "output_type": "stream",
     "text": [
      "Num of activated features: 78\n",
      "\n",
      "Top 10 features:\n",
      "tensor([18.4649, 16.4535, 12.0989, 11.0684,  7.7472,  7.2738,  5.0492,  4.7868,\n",
      "         4.7161,  4.6675], device='cuda:0')\n",
      "tensor([16077, 21456,  6857, 23357, 19453, 14237, 12147, 21901, 20881,  9111],\n",
      "       device='cuda:0')\n",
      "\n",
      "L1 contribution of top feature: 0.10172756761312485\n"
     ]
    }
   ],
   "source": [
    "# cache anger and then pass through sae, find anger feature, add anger feature during the forward pass.\n",
    "\n",
    "logits, cache = model.run_with_cache(\"Anger\")\n",
    "anger_hidden_state = cache[hook_name][0, -1, :].unsqueeze(0)\n",
    "\n",
    "feature_acts = sae(anger_hidden_state).feature_acts[0]\n",
    "print(f'Num of activated features: {(feature_acts != 0).sum()}')\n",
    "\n",
    "# get top 10 features\n",
    "top_values, top_ids = torch.topk(feature_acts, 10)\n",
    "print('\\nTop 10 features:')\n",
    "print(top_values)\n",
    "print(top_ids)\n",
    "\n",
    "# L1 contribution of top feature\n",
    "l1_contribution = top_values[0]/feature_acts.sum()\n",
    "print(f'\\nL1 contribution of top feature: {l1_contribution}')\n"
   ]
  },
  {
   "cell_type": "code",
   "execution_count": 12,
   "metadata": {},
   "outputs": [
    {
     "data": {
      "text/plain": [
       "torch.Size([768])"
      ]
     },
     "execution_count": 12,
     "metadata": {},
     "output_type": "execute_result"
    }
   ],
   "source": [
    "target_feature = top_ids[0]\n",
    "\n",
    "# only top feature\n",
    "steering = sae.W_dec[top_ids[0]] * top_values[0] # shape: [d_model]\n",
    "# top 5 features\n",
    "# steering = torch.stack([sae.W_dec[top_ids[i]] * top_values[i] for i in range(5)]).sum(dim=0)\n",
    "\n",
    "steering = steering.to(model.cfg.device)\n",
    "steering.shape"
   ]
  },
  {
   "cell_type": "code",
   "execution_count": 13,
   "metadata": {},
   "outputs": [
    {
     "name": "stdout",
     "output_type": "stream",
     "text": [
      "============\n",
      "I think you're well aware that equality-minded people are angry. What we don't know is the reality of who\n",
      "============\n",
      "I think you're going to wait for someone else to come up with some more outrageous stories about your chest. Seriously,\n",
      "============\n",
      "I think you're going mad. Angry angry Angry boiling angry is this; rage and anger is different things. Anger insults\n",
      "============\n",
      "I think you're right on twitter. Reports are spreading like an angry mob at people protesting Dhia. Some links to\n",
      "============\n",
      "I think you're now starting to understand how abusive a million angry upset users feel about this. I also think you're\n",
      "============\n",
      "I think you're seeing reactions (like [too many] comments from angry people who think these things riot like idiots.)\n",
      "============\n",
      "I think you're right about one thing about this charade that broke countless people within it. The mainstream media and its\n"
     ]
    }
   ],
   "source": [
    "# c = 5\n",
    "def residual_stream_patching_hook_sae(\n",
    "    resid,\n",
    "    hook,\n",
    "    c,\n",
    "    pos\n",
    "):    \n",
    "    # resid shape is (batch, pos, d_model)\n",
    "    # print(resid.shape, steering.shape)\n",
    "    if pos < resid.shape[1]:\n",
    "        resid[:, pos, :] = resid[:, pos, :] + c * steering\n",
    "\n",
    "    return resid\n",
    "\n",
    "\n",
    "text = \"I think you're\"\n",
    "n_samples = 7\n",
    "\n",
    "with model.hooks(fwd_hooks=[(hook_name, partial(residual_stream_patching_hook_sae, c=20, pos=0))]):\n",
    "    # model('testing testing asdf;lkjasdf;l k')\n",
    "    for i in range(n_samples):\n",
    "        print(\"============\")\n",
    "        output = model.generate(text, prepend_bos=True, use_past_kv_cache=False, max_new_tokens=20, verbose=False)\n",
    "        print(output)"
   ]
  },
  {
   "cell_type": "code",
   "execution_count": 14,
   "metadata": {},
   "outputs": [],
   "source": [
    "def n_negative(sentences):\n",
    "    data = sentiment_pipeline(sentences)\n",
    "    n_neg = sum([1 for d in data if d['label'] == 'NEGATIVE'])\n",
    "    # print(\"================\")\n",
    "    # print(sentences)\n",
    "    # print(data)\n",
    "    # print(\"================\")\n",
    "    return n_neg"
   ]
  },
  {
   "cell_type": "code",
   "execution_count": 41,
   "metadata": {},
   "outputs": [
    {
     "name": "stdout",
     "output_type": "stream",
     "text": [
      "pos: 0, c: 0, socre: 0.53125\n",
      "pos: 0, c: 0.5, socre: 0.51953125\n",
      "pos: 0, c: 1, socre: 0.57421875\n",
      "pos: 0, c: 5, socre: 0.58203125\n",
      "pos: 0, c: 7, socre: 0.60546875\n",
      "pos: 0, c: 10, socre: 0.6328125\n",
      "pos: 0, c: 15, socre: 0.6953125\n",
      "pos: 0, c: 20, socre: 0.78515625\n",
      "pos: 0, c: 30, socre: 0.96484375\n",
      "pos: 0, c: 50, socre: 1.0\n",
      "pos: 1, c: 0, socre: 0.6328125\n",
      "pos: 1, c: 0.5, socre: 0.60546875\n",
      "pos: 1, c: 1, socre: 0.5390625\n",
      "pos: 1, c: 5, socre: 0.6015625\n",
      "pos: 1, c: 7, socre: 0.60546875\n",
      "pos: 1, c: 10, socre: 0.56640625\n",
      "pos: 1, c: 15, socre: 0.63671875\n",
      "pos: 1, c: 20, socre: 0.671875\n",
      "pos: 1, c: 30, socre: 0.61328125\n",
      "pos: 1, c: 50, socre: 0.69140625\n",
      "pos: 2, c: 0, socre: 0.546875\n",
      "pos: 2, c: 0.5, socre: 0.5390625\n",
      "pos: 2, c: 1, socre: 0.59375\n",
      "pos: 2, c: 5, socre: 0.62890625\n",
      "pos: 2, c: 7, socre: 0.71484375\n",
      "pos: 2, c: 10, socre: 0.7109375\n",
      "pos: 2, c: 15, socre: 0.71484375\n",
      "pos: 2, c: 20, socre: 0.6875\n",
      "pos: 2, c: 30, socre: 0.7265625\n",
      "pos: 2, c: 50, socre: 0.74609375\n",
      "pos: 3, c: 0, socre: 0.52734375\n",
      "pos: 3, c: 0.5, socre: 0.5390625\n",
      "pos: 3, c: 1, socre: 0.56640625\n",
      "pos: 3, c: 5, socre: 0.5859375\n",
      "pos: 3, c: 7, socre: 0.62109375\n",
      "pos: 3, c: 10, socre: 0.6484375\n",
      "pos: 3, c: 15, socre: 0.609375\n",
      "pos: 3, c: 20, socre: 0.6328125\n",
      "pos: 3, c: 30, socre: 0.65625\n",
      "pos: 3, c: 50, socre: 0.7109375\n",
      "pos: 4, c: 0, socre: 0.5078125\n",
      "pos: 4, c: 0.5, socre: 0.53125\n",
      "pos: 4, c: 1, socre: 0.54296875\n",
      "pos: 4, c: 5, socre: 0.59375\n",
      "pos: 4, c: 7, socre: 0.6484375\n",
      "pos: 4, c: 10, socre: 0.609375\n",
      "pos: 4, c: 15, socre: 0.71484375\n",
      "pos: 4, c: 20, socre: 0.7109375\n",
      "pos: 4, c: 30, socre: 0.72265625\n",
      "pos: 4, c: 50, socre: 0.7734375\n"
     ]
    }
   ],
   "source": [
    "love_words = [\"love\", \"like\", \"adore\", \"enjoy\", \"appreciate\", \"cherish\", \"admire\", \"care\", \"fancy\", \"favor\", \"prefer\"]\n",
    "angry_words = [\"angry\", \"mad\", \"pissed\", \"irritated\", \"annoyed\", \"frustrated\", \"enraged\", \"furious\", \"infuriated\", \"outraged\", \"resentful\", \"agitated\", \"aggravated\", \"bitter\", \"hate\", \"fuck\"]\n",
    "# angry_words = [\n",
    "#     'hate', 'despise', 'loathe', 'detest', 'abhor', 'resent', 'dislike', 'disgust', 'anger', 'fury',\n",
    "#     'rage', 'wrath', 'irritation', 'annoyance', 'frustration', 'bitterness', 'spite', 'vengeance',\n",
    "#     'revenge', 'resentment', 'hostility', 'animosity', 'contempt', 'scorn', 'disdain', 'malice',\n",
    "#     'venom', 'rancor', 'enmity', 'aversion', 'repulsion', 'revulsion', 'antipathy', 'ire',\n",
    "#     'indignation', 'outrage', 'mad', 'furious', 'infuriated', 'incensed', 'irate', 'livid',\n",
    "#     'seething', 'enraged', 'ballistic', 'pissed', 'aggravated', 'exasperated', 'disgusted',\n",
    "#     'appalled', 'revolted', 'sickened', 'nauseated', 'fed up', 'sick and tired', 'bitter',\n",
    "#     'vengeful', 'spiteful', 'vindictive', 'hostile', 'antagonistic', 'contemptuous', 'scornful',\n",
    "#     'disdainful', 'evil', 'cruel', 'mean', 'nasty', 'vicious', 'vile', 'wicked', 'malicious',\n",
    "#     'malevolent', 'hateful', 'venomous', 'caustic', 'virulent', 'toxic', 'noxious', 'poisonous',\n",
    "#     'vitriolic', 'acrimonious'\n",
    "# ]\n",
    "\n",
    "batch_size = 128  ###\n",
    "tokens = model.to_tokens(text, prepend_bos=True)\n",
    "# print(tokens.shape)\n",
    "batch_tokens = tokens.repeat((batch_size, 1))\n",
    "# print(batch_tokens)\n",
    "\n",
    "def compute_metric(related_words, n_samples, coef, pos, max_new_tokens=20):\n",
    "    count = 0\n",
    "\n",
    "    with model.hooks(fwd_hooks=[(hook_name, partial(residual_stream_patching_hook_sae, c=coef, pos=pos))]):\n",
    "        for i in range(n_samples):\n",
    "            output = model.generate(batch_tokens, prepend_bos=True, use_past_kv_cache=False, max_new_tokens=max_new_tokens, verbose=False)\n",
    "            strings = model.to_string(output)\n",
    "\n",
    "            count += n_negative(strings)\n",
    "\n",
    "            # for s in strings:\n",
    "            #     for word in related_words:\n",
    "            #         if word in s.lower():\n",
    "            #             count += 1\n",
    "            #             break\n",
    "        \n",
    "    return count/(n_samples * batch_size)\n",
    "\n",
    "\n",
    "n_samples = 2\n",
    "max_new_tokens = 20\n",
    "n_positions = 5 # 10 \n",
    "cs = [0, 0.5, 1, 5, 7, 10, 15, 20, 30, 50] ###\n",
    "\n",
    "score_matrix = torch.zeros((n_positions, len(cs)))\n",
    "for pos in range(n_positions):\n",
    "    for ci, c in enumerate(cs):\n",
    "        score = compute_metric(angry_words, n_samples, c, pos, max_new_tokens)\n",
    "        score_matrix[pos, ci] = score\n",
    "\n",
    "        print(f'pos: {pos}, c: {c}, socre: {score}')"
   ]
  },
  {
   "cell_type": "code",
   "execution_count": 42,
   "metadata": {},
   "outputs": [
    {
     "data": {
      "application/vnd.plotly.v1+json": {
       "config": {
        "plotlyServerURL": "https://plot.ly"
       },
       "data": [
        {
         "coloraxis": "coloraxis",
         "hovertemplate": "x: %{x}<br>y: %{y}<br>color: %{z}<extra></extra>",
         "name": "0",
         "type": "heatmap",
         "x": [
          "0",
          "0.5",
          "1",
          "5",
          "7",
          "10",
          "15",
          "20",
          "30",
          "50"
         ],
         "xaxis": "x",
         "y": [
          "<|endoftext|>",
          "I",
          " think",
          " you",
          "'re"
         ],
         "yaxis": "y",
         "z": [
          [
           0.53125,
           0.51953125,
           0.57421875,
           0.58203125,
           0.60546875,
           0.6328125,
           0.6953125,
           0.78515625,
           0.96484375,
           1
          ],
          [
           0.6328125,
           0.60546875,
           0.5390625,
           0.6015625,
           0.60546875,
           0.56640625,
           0.63671875,
           0.671875,
           0.61328125,
           0.69140625
          ],
          [
           0.546875,
           0.5390625,
           0.59375,
           0.62890625,
           0.71484375,
           0.7109375,
           0.71484375,
           0.6875,
           0.7265625,
           0.74609375
          ],
          [
           0.52734375,
           0.5390625,
           0.56640625,
           0.5859375,
           0.62109375,
           0.6484375,
           0.609375,
           0.6328125,
           0.65625,
           0.7109375
          ],
          [
           0.5078125,
           0.53125,
           0.54296875,
           0.59375,
           0.6484375,
           0.609375,
           0.71484375,
           0.7109375,
           0.72265625,
           0.7734375
          ]
         ]
        }
       ],
       "layout": {
        "coloraxis": {
         "cmid": 0,
         "colorscale": [
          [
           0,
           "rgb(103,0,31)"
          ],
          [
           0.1,
           "rgb(178,24,43)"
          ],
          [
           0.2,
           "rgb(214,96,77)"
          ],
          [
           0.3,
           "rgb(244,165,130)"
          ],
          [
           0.4,
           "rgb(253,219,199)"
          ],
          [
           0.5,
           "rgb(247,247,247)"
          ],
          [
           0.6,
           "rgb(209,229,240)"
          ],
          [
           0.7,
           "rgb(146,197,222)"
          ],
          [
           0.8,
           "rgb(67,147,195)"
          ],
          [
           0.9,
           "rgb(33,102,172)"
          ],
          [
           1,
           "rgb(5,48,97)"
          ]
         ]
        },
        "margin": {
         "t": 60
        },
        "template": {
         "data": {
          "bar": [
           {
            "error_x": {
             "color": "#2a3f5f"
            },
            "error_y": {
             "color": "#2a3f5f"
            },
            "marker": {
             "line": {
              "color": "#E5ECF6",
              "width": 0.5
             },
             "pattern": {
              "fillmode": "overlay",
              "size": 10,
              "solidity": 0.2
             }
            },
            "type": "bar"
           }
          ],
          "barpolar": [
           {
            "marker": {
             "line": {
              "color": "#E5ECF6",
              "width": 0.5
             },
             "pattern": {
              "fillmode": "overlay",
              "size": 10,
              "solidity": 0.2
             }
            },
            "type": "barpolar"
           }
          ],
          "carpet": [
           {
            "aaxis": {
             "endlinecolor": "#2a3f5f",
             "gridcolor": "white",
             "linecolor": "white",
             "minorgridcolor": "white",
             "startlinecolor": "#2a3f5f"
            },
            "baxis": {
             "endlinecolor": "#2a3f5f",
             "gridcolor": "white",
             "linecolor": "white",
             "minorgridcolor": "white",
             "startlinecolor": "#2a3f5f"
            },
            "type": "carpet"
           }
          ],
          "choropleth": [
           {
            "colorbar": {
             "outlinewidth": 0,
             "ticks": ""
            },
            "type": "choropleth"
           }
          ],
          "contour": [
           {
            "colorbar": {
             "outlinewidth": 0,
             "ticks": ""
            },
            "colorscale": [
             [
              0,
              "#0d0887"
             ],
             [
              0.1111111111111111,
              "#46039f"
             ],
             [
              0.2222222222222222,
              "#7201a8"
             ],
             [
              0.3333333333333333,
              "#9c179e"
             ],
             [
              0.4444444444444444,
              "#bd3786"
             ],
             [
              0.5555555555555556,
              "#d8576b"
             ],
             [
              0.6666666666666666,
              "#ed7953"
             ],
             [
              0.7777777777777778,
              "#fb9f3a"
             ],
             [
              0.8888888888888888,
              "#fdca26"
             ],
             [
              1,
              "#f0f921"
             ]
            ],
            "type": "contour"
           }
          ],
          "contourcarpet": [
           {
            "colorbar": {
             "outlinewidth": 0,
             "ticks": ""
            },
            "type": "contourcarpet"
           }
          ],
          "heatmap": [
           {
            "colorbar": {
             "outlinewidth": 0,
             "ticks": ""
            },
            "colorscale": [
             [
              0,
              "#0d0887"
             ],
             [
              0.1111111111111111,
              "#46039f"
             ],
             [
              0.2222222222222222,
              "#7201a8"
             ],
             [
              0.3333333333333333,
              "#9c179e"
             ],
             [
              0.4444444444444444,
              "#bd3786"
             ],
             [
              0.5555555555555556,
              "#d8576b"
             ],
             [
              0.6666666666666666,
              "#ed7953"
             ],
             [
              0.7777777777777778,
              "#fb9f3a"
             ],
             [
              0.8888888888888888,
              "#fdca26"
             ],
             [
              1,
              "#f0f921"
             ]
            ],
            "type": "heatmap"
           }
          ],
          "heatmapgl": [
           {
            "colorbar": {
             "outlinewidth": 0,
             "ticks": ""
            },
            "colorscale": [
             [
              0,
              "#0d0887"
             ],
             [
              0.1111111111111111,
              "#46039f"
             ],
             [
              0.2222222222222222,
              "#7201a8"
             ],
             [
              0.3333333333333333,
              "#9c179e"
             ],
             [
              0.4444444444444444,
              "#bd3786"
             ],
             [
              0.5555555555555556,
              "#d8576b"
             ],
             [
              0.6666666666666666,
              "#ed7953"
             ],
             [
              0.7777777777777778,
              "#fb9f3a"
             ],
             [
              0.8888888888888888,
              "#fdca26"
             ],
             [
              1,
              "#f0f921"
             ]
            ],
            "type": "heatmapgl"
           }
          ],
          "histogram": [
           {
            "marker": {
             "pattern": {
              "fillmode": "overlay",
              "size": 10,
              "solidity": 0.2
             }
            },
            "type": "histogram"
           }
          ],
          "histogram2d": [
           {
            "colorbar": {
             "outlinewidth": 0,
             "ticks": ""
            },
            "colorscale": [
             [
              0,
              "#0d0887"
             ],
             [
              0.1111111111111111,
              "#46039f"
             ],
             [
              0.2222222222222222,
              "#7201a8"
             ],
             [
              0.3333333333333333,
              "#9c179e"
             ],
             [
              0.4444444444444444,
              "#bd3786"
             ],
             [
              0.5555555555555556,
              "#d8576b"
             ],
             [
              0.6666666666666666,
              "#ed7953"
             ],
             [
              0.7777777777777778,
              "#fb9f3a"
             ],
             [
              0.8888888888888888,
              "#fdca26"
             ],
             [
              1,
              "#f0f921"
             ]
            ],
            "type": "histogram2d"
           }
          ],
          "histogram2dcontour": [
           {
            "colorbar": {
             "outlinewidth": 0,
             "ticks": ""
            },
            "colorscale": [
             [
              0,
              "#0d0887"
             ],
             [
              0.1111111111111111,
              "#46039f"
             ],
             [
              0.2222222222222222,
              "#7201a8"
             ],
             [
              0.3333333333333333,
              "#9c179e"
             ],
             [
              0.4444444444444444,
              "#bd3786"
             ],
             [
              0.5555555555555556,
              "#d8576b"
             ],
             [
              0.6666666666666666,
              "#ed7953"
             ],
             [
              0.7777777777777778,
              "#fb9f3a"
             ],
             [
              0.8888888888888888,
              "#fdca26"
             ],
             [
              1,
              "#f0f921"
             ]
            ],
            "type": "histogram2dcontour"
           }
          ],
          "mesh3d": [
           {
            "colorbar": {
             "outlinewidth": 0,
             "ticks": ""
            },
            "type": "mesh3d"
           }
          ],
          "parcoords": [
           {
            "line": {
             "colorbar": {
              "outlinewidth": 0,
              "ticks": ""
             }
            },
            "type": "parcoords"
           }
          ],
          "pie": [
           {
            "automargin": true,
            "type": "pie"
           }
          ],
          "scatter": [
           {
            "fillpattern": {
             "fillmode": "overlay",
             "size": 10,
             "solidity": 0.2
            },
            "type": "scatter"
           }
          ],
          "scatter3d": [
           {
            "line": {
             "colorbar": {
              "outlinewidth": 0,
              "ticks": ""
             }
            },
            "marker": {
             "colorbar": {
              "outlinewidth": 0,
              "ticks": ""
             }
            },
            "type": "scatter3d"
           }
          ],
          "scattercarpet": [
           {
            "marker": {
             "colorbar": {
              "outlinewidth": 0,
              "ticks": ""
             }
            },
            "type": "scattercarpet"
           }
          ],
          "scattergeo": [
           {
            "marker": {
             "colorbar": {
              "outlinewidth": 0,
              "ticks": ""
             }
            },
            "type": "scattergeo"
           }
          ],
          "scattergl": [
           {
            "marker": {
             "colorbar": {
              "outlinewidth": 0,
              "ticks": ""
             }
            },
            "type": "scattergl"
           }
          ],
          "scattermapbox": [
           {
            "marker": {
             "colorbar": {
              "outlinewidth": 0,
              "ticks": ""
             }
            },
            "type": "scattermapbox"
           }
          ],
          "scatterpolar": [
           {
            "marker": {
             "colorbar": {
              "outlinewidth": 0,
              "ticks": ""
             }
            },
            "type": "scatterpolar"
           }
          ],
          "scatterpolargl": [
           {
            "marker": {
             "colorbar": {
              "outlinewidth": 0,
              "ticks": ""
             }
            },
            "type": "scatterpolargl"
           }
          ],
          "scatterternary": [
           {
            "marker": {
             "colorbar": {
              "outlinewidth": 0,
              "ticks": ""
             }
            },
            "type": "scatterternary"
           }
          ],
          "surface": [
           {
            "colorbar": {
             "outlinewidth": 0,
             "ticks": ""
            },
            "colorscale": [
             [
              0,
              "#0d0887"
             ],
             [
              0.1111111111111111,
              "#46039f"
             ],
             [
              0.2222222222222222,
              "#7201a8"
             ],
             [
              0.3333333333333333,
              "#9c179e"
             ],
             [
              0.4444444444444444,
              "#bd3786"
             ],
             [
              0.5555555555555556,
              "#d8576b"
             ],
             [
              0.6666666666666666,
              "#ed7953"
             ],
             [
              0.7777777777777778,
              "#fb9f3a"
             ],
             [
              0.8888888888888888,
              "#fdca26"
             ],
             [
              1,
              "#f0f921"
             ]
            ],
            "type": "surface"
           }
          ],
          "table": [
           {
            "cells": {
             "fill": {
              "color": "#EBF0F8"
             },
             "line": {
              "color": "white"
             }
            },
            "header": {
             "fill": {
              "color": "#C8D4E3"
             },
             "line": {
              "color": "white"
             }
            },
            "type": "table"
           }
          ]
         },
         "layout": {
          "annotationdefaults": {
           "arrowcolor": "#2a3f5f",
           "arrowhead": 0,
           "arrowwidth": 1
          },
          "autotypenumbers": "strict",
          "coloraxis": {
           "colorbar": {
            "outlinewidth": 0,
            "ticks": ""
           }
          },
          "colorscale": {
           "diverging": [
            [
             0,
             "#8e0152"
            ],
            [
             0.1,
             "#c51b7d"
            ],
            [
             0.2,
             "#de77ae"
            ],
            [
             0.3,
             "#f1b6da"
            ],
            [
             0.4,
             "#fde0ef"
            ],
            [
             0.5,
             "#f7f7f7"
            ],
            [
             0.6,
             "#e6f5d0"
            ],
            [
             0.7,
             "#b8e186"
            ],
            [
             0.8,
             "#7fbc41"
            ],
            [
             0.9,
             "#4d9221"
            ],
            [
             1,
             "#276419"
            ]
           ],
           "sequential": [
            [
             0,
             "#0d0887"
            ],
            [
             0.1111111111111111,
             "#46039f"
            ],
            [
             0.2222222222222222,
             "#7201a8"
            ],
            [
             0.3333333333333333,
             "#9c179e"
            ],
            [
             0.4444444444444444,
             "#bd3786"
            ],
            [
             0.5555555555555556,
             "#d8576b"
            ],
            [
             0.6666666666666666,
             "#ed7953"
            ],
            [
             0.7777777777777778,
             "#fb9f3a"
            ],
            [
             0.8888888888888888,
             "#fdca26"
            ],
            [
             1,
             "#f0f921"
            ]
           ],
           "sequentialminus": [
            [
             0,
             "#0d0887"
            ],
            [
             0.1111111111111111,
             "#46039f"
            ],
            [
             0.2222222222222222,
             "#7201a8"
            ],
            [
             0.3333333333333333,
             "#9c179e"
            ],
            [
             0.4444444444444444,
             "#bd3786"
            ],
            [
             0.5555555555555556,
             "#d8576b"
            ],
            [
             0.6666666666666666,
             "#ed7953"
            ],
            [
             0.7777777777777778,
             "#fb9f3a"
            ],
            [
             0.8888888888888888,
             "#fdca26"
            ],
            [
             1,
             "#f0f921"
            ]
           ]
          },
          "colorway": [
           "#636efa",
           "#EF553B",
           "#00cc96",
           "#ab63fa",
           "#FFA15A",
           "#19d3f3",
           "#FF6692",
           "#B6E880",
           "#FF97FF",
           "#FECB52"
          ],
          "font": {
           "color": "#2a3f5f"
          },
          "geo": {
           "bgcolor": "white",
           "lakecolor": "white",
           "landcolor": "#E5ECF6",
           "showlakes": true,
           "showland": true,
           "subunitcolor": "white"
          },
          "hoverlabel": {
           "align": "left"
          },
          "hovermode": "closest",
          "mapbox": {
           "style": "light"
          },
          "paper_bgcolor": "white",
          "plot_bgcolor": "#E5ECF6",
          "polar": {
           "angularaxis": {
            "gridcolor": "white",
            "linecolor": "white",
            "ticks": ""
           },
           "bgcolor": "#E5ECF6",
           "radialaxis": {
            "gridcolor": "white",
            "linecolor": "white",
            "ticks": ""
           }
          },
          "scene": {
           "xaxis": {
            "backgroundcolor": "#E5ECF6",
            "gridcolor": "white",
            "gridwidth": 2,
            "linecolor": "white",
            "showbackground": true,
            "ticks": "",
            "zerolinecolor": "white"
           },
           "yaxis": {
            "backgroundcolor": "#E5ECF6",
            "gridcolor": "white",
            "gridwidth": 2,
            "linecolor": "white",
            "showbackground": true,
            "ticks": "",
            "zerolinecolor": "white"
           },
           "zaxis": {
            "backgroundcolor": "#E5ECF6",
            "gridcolor": "white",
            "gridwidth": 2,
            "linecolor": "white",
            "showbackground": true,
            "ticks": "",
            "zerolinecolor": "white"
           }
          },
          "shapedefaults": {
           "line": {
            "color": "#2a3f5f"
           }
          },
          "ternary": {
           "aaxis": {
            "gridcolor": "white",
            "linecolor": "white",
            "ticks": ""
           },
           "baxis": {
            "gridcolor": "white",
            "linecolor": "white",
            "ticks": ""
           },
           "bgcolor": "#E5ECF6",
           "caxis": {
            "gridcolor": "white",
            "linecolor": "white",
            "ticks": ""
           }
          },
          "title": {
           "x": 0.05
          },
          "xaxis": {
           "automargin": true,
           "gridcolor": "white",
           "linecolor": "white",
           "ticks": "",
           "title": {
            "standoff": 15
           },
           "zerolinecolor": "white",
           "zerolinewidth": 2
          },
          "yaxis": {
           "automargin": true,
           "gridcolor": "white",
           "linecolor": "white",
           "ticks": "",
           "title": {
            "standoff": 15
           },
           "zerolinecolor": "white",
           "zerolinewidth": 2
          }
         }
        },
        "xaxis": {
         "anchor": "y",
         "constrain": "domain",
         "domain": [
          0,
          1
         ],
         "scaleanchor": "y"
        },
        "yaxis": {
         "anchor": "x",
         "autorange": "reversed",
         "constrain": "domain",
         "domain": [
          0,
          1
         ]
        }
       }
      },
      "text/html": [
       "<div>                            <div id=\"3459556d-c7d0-4c98-8365-d8bd60726588\" class=\"plotly-graph-div\" style=\"height:525px; width:100%;\"></div>            <script type=\"text/javascript\">                require([\"plotly\"], function(Plotly) {                    window.PLOTLYENV=window.PLOTLYENV || {};                                    if (document.getElementById(\"3459556d-c7d0-4c98-8365-d8bd60726588\")) {                    Plotly.newPlot(                        \"3459556d-c7d0-4c98-8365-d8bd60726588\",                        [{\"coloraxis\":\"coloraxis\",\"name\":\"0\",\"x\":[\"0\",\"0.5\",\"1\",\"5\",\"7\",\"10\",\"15\",\"20\",\"30\",\"50\"],\"y\":[\"\\u003c|endoftext|\\u003e\",\"I\",\" think\",\" you\",\"'re\"],\"z\":[[0.53125,0.51953125,0.57421875,0.58203125,0.60546875,0.6328125,0.6953125,0.78515625,0.96484375,1.0],[0.6328125,0.60546875,0.5390625,0.6015625,0.60546875,0.56640625,0.63671875,0.671875,0.61328125,0.69140625],[0.546875,0.5390625,0.59375,0.62890625,0.71484375,0.7109375,0.71484375,0.6875,0.7265625,0.74609375],[0.52734375,0.5390625,0.56640625,0.5859375,0.62109375,0.6484375,0.609375,0.6328125,0.65625,0.7109375],[0.5078125,0.53125,0.54296875,0.59375,0.6484375,0.609375,0.71484375,0.7109375,0.72265625,0.7734375]],\"type\":\"heatmap\",\"xaxis\":\"x\",\"yaxis\":\"y\",\"hovertemplate\":\"x: %{x}\\u003cbr\\u003ey: %{y}\\u003cbr\\u003ecolor: %{z}\\u003cextra\\u003e\\u003c\\u002fextra\\u003e\"}],                        {\"template\":{\"data\":{\"histogram2dcontour\":[{\"type\":\"histogram2dcontour\",\"colorbar\":{\"outlinewidth\":0,\"ticks\":\"\"},\"colorscale\":[[0.0,\"#0d0887\"],[0.1111111111111111,\"#46039f\"],[0.2222222222222222,\"#7201a8\"],[0.3333333333333333,\"#9c179e\"],[0.4444444444444444,\"#bd3786\"],[0.5555555555555556,\"#d8576b\"],[0.6666666666666666,\"#ed7953\"],[0.7777777777777778,\"#fb9f3a\"],[0.8888888888888888,\"#fdca26\"],[1.0,\"#f0f921\"]]}],\"choropleth\":[{\"type\":\"choropleth\",\"colorbar\":{\"outlinewidth\":0,\"ticks\":\"\"}}],\"histogram2d\":[{\"type\":\"histogram2d\",\"colorbar\":{\"outlinewidth\":0,\"ticks\":\"\"},\"colorscale\":[[0.0,\"#0d0887\"],[0.1111111111111111,\"#46039f\"],[0.2222222222222222,\"#7201a8\"],[0.3333333333333333,\"#9c179e\"],[0.4444444444444444,\"#bd3786\"],[0.5555555555555556,\"#d8576b\"],[0.6666666666666666,\"#ed7953\"],[0.7777777777777778,\"#fb9f3a\"],[0.8888888888888888,\"#fdca26\"],[1.0,\"#f0f921\"]]}],\"heatmap\":[{\"type\":\"heatmap\",\"colorbar\":{\"outlinewidth\":0,\"ticks\":\"\"},\"colorscale\":[[0.0,\"#0d0887\"],[0.1111111111111111,\"#46039f\"],[0.2222222222222222,\"#7201a8\"],[0.3333333333333333,\"#9c179e\"],[0.4444444444444444,\"#bd3786\"],[0.5555555555555556,\"#d8576b\"],[0.6666666666666666,\"#ed7953\"],[0.7777777777777778,\"#fb9f3a\"],[0.8888888888888888,\"#fdca26\"],[1.0,\"#f0f921\"]]}],\"heatmapgl\":[{\"type\":\"heatmapgl\",\"colorbar\":{\"outlinewidth\":0,\"ticks\":\"\"},\"colorscale\":[[0.0,\"#0d0887\"],[0.1111111111111111,\"#46039f\"],[0.2222222222222222,\"#7201a8\"],[0.3333333333333333,\"#9c179e\"],[0.4444444444444444,\"#bd3786\"],[0.5555555555555556,\"#d8576b\"],[0.6666666666666666,\"#ed7953\"],[0.7777777777777778,\"#fb9f3a\"],[0.8888888888888888,\"#fdca26\"],[1.0,\"#f0f921\"]]}],\"contourcarpet\":[{\"type\":\"contourcarpet\",\"colorbar\":{\"outlinewidth\":0,\"ticks\":\"\"}}],\"contour\":[{\"type\":\"contour\",\"colorbar\":{\"outlinewidth\":0,\"ticks\":\"\"},\"colorscale\":[[0.0,\"#0d0887\"],[0.1111111111111111,\"#46039f\"],[0.2222222222222222,\"#7201a8\"],[0.3333333333333333,\"#9c179e\"],[0.4444444444444444,\"#bd3786\"],[0.5555555555555556,\"#d8576b\"],[0.6666666666666666,\"#ed7953\"],[0.7777777777777778,\"#fb9f3a\"],[0.8888888888888888,\"#fdca26\"],[1.0,\"#f0f921\"]]}],\"surface\":[{\"type\":\"surface\",\"colorbar\":{\"outlinewidth\":0,\"ticks\":\"\"},\"colorscale\":[[0.0,\"#0d0887\"],[0.1111111111111111,\"#46039f\"],[0.2222222222222222,\"#7201a8\"],[0.3333333333333333,\"#9c179e\"],[0.4444444444444444,\"#bd3786\"],[0.5555555555555556,\"#d8576b\"],[0.6666666666666666,\"#ed7953\"],[0.7777777777777778,\"#fb9f3a\"],[0.8888888888888888,\"#fdca26\"],[1.0,\"#f0f921\"]]}],\"mesh3d\":[{\"type\":\"mesh3d\",\"colorbar\":{\"outlinewidth\":0,\"ticks\":\"\"}}],\"scatter\":[{\"fillpattern\":{\"fillmode\":\"overlay\",\"size\":10,\"solidity\":0.2},\"type\":\"scatter\"}],\"parcoords\":[{\"type\":\"parcoords\",\"line\":{\"colorbar\":{\"outlinewidth\":0,\"ticks\":\"\"}}}],\"scatterpolargl\":[{\"type\":\"scatterpolargl\",\"marker\":{\"colorbar\":{\"outlinewidth\":0,\"ticks\":\"\"}}}],\"bar\":[{\"error_x\":{\"color\":\"#2a3f5f\"},\"error_y\":{\"color\":\"#2a3f5f\"},\"marker\":{\"line\":{\"color\":\"#E5ECF6\",\"width\":0.5},\"pattern\":{\"fillmode\":\"overlay\",\"size\":10,\"solidity\":0.2}},\"type\":\"bar\"}],\"scattergeo\":[{\"type\":\"scattergeo\",\"marker\":{\"colorbar\":{\"outlinewidth\":0,\"ticks\":\"\"}}}],\"scatterpolar\":[{\"type\":\"scatterpolar\",\"marker\":{\"colorbar\":{\"outlinewidth\":0,\"ticks\":\"\"}}}],\"histogram\":[{\"marker\":{\"pattern\":{\"fillmode\":\"overlay\",\"size\":10,\"solidity\":0.2}},\"type\":\"histogram\"}],\"scattergl\":[{\"type\":\"scattergl\",\"marker\":{\"colorbar\":{\"outlinewidth\":0,\"ticks\":\"\"}}}],\"scatter3d\":[{\"type\":\"scatter3d\",\"line\":{\"colorbar\":{\"outlinewidth\":0,\"ticks\":\"\"}},\"marker\":{\"colorbar\":{\"outlinewidth\":0,\"ticks\":\"\"}}}],\"scattermapbox\":[{\"type\":\"scattermapbox\",\"marker\":{\"colorbar\":{\"outlinewidth\":0,\"ticks\":\"\"}}}],\"scatterternary\":[{\"type\":\"scatterternary\",\"marker\":{\"colorbar\":{\"outlinewidth\":0,\"ticks\":\"\"}}}],\"scattercarpet\":[{\"type\":\"scattercarpet\",\"marker\":{\"colorbar\":{\"outlinewidth\":0,\"ticks\":\"\"}}}],\"carpet\":[{\"aaxis\":{\"endlinecolor\":\"#2a3f5f\",\"gridcolor\":\"white\",\"linecolor\":\"white\",\"minorgridcolor\":\"white\",\"startlinecolor\":\"#2a3f5f\"},\"baxis\":{\"endlinecolor\":\"#2a3f5f\",\"gridcolor\":\"white\",\"linecolor\":\"white\",\"minorgridcolor\":\"white\",\"startlinecolor\":\"#2a3f5f\"},\"type\":\"carpet\"}],\"table\":[{\"cells\":{\"fill\":{\"color\":\"#EBF0F8\"},\"line\":{\"color\":\"white\"}},\"header\":{\"fill\":{\"color\":\"#C8D4E3\"},\"line\":{\"color\":\"white\"}},\"type\":\"table\"}],\"barpolar\":[{\"marker\":{\"line\":{\"color\":\"#E5ECF6\",\"width\":0.5},\"pattern\":{\"fillmode\":\"overlay\",\"size\":10,\"solidity\":0.2}},\"type\":\"barpolar\"}],\"pie\":[{\"automargin\":true,\"type\":\"pie\"}]},\"layout\":{\"autotypenumbers\":\"strict\",\"colorway\":[\"#636efa\",\"#EF553B\",\"#00cc96\",\"#ab63fa\",\"#FFA15A\",\"#19d3f3\",\"#FF6692\",\"#B6E880\",\"#FF97FF\",\"#FECB52\"],\"font\":{\"color\":\"#2a3f5f\"},\"hovermode\":\"closest\",\"hoverlabel\":{\"align\":\"left\"},\"paper_bgcolor\":\"white\",\"plot_bgcolor\":\"#E5ECF6\",\"polar\":{\"bgcolor\":\"#E5ECF6\",\"angularaxis\":{\"gridcolor\":\"white\",\"linecolor\":\"white\",\"ticks\":\"\"},\"radialaxis\":{\"gridcolor\":\"white\",\"linecolor\":\"white\",\"ticks\":\"\"}},\"ternary\":{\"bgcolor\":\"#E5ECF6\",\"aaxis\":{\"gridcolor\":\"white\",\"linecolor\":\"white\",\"ticks\":\"\"},\"baxis\":{\"gridcolor\":\"white\",\"linecolor\":\"white\",\"ticks\":\"\"},\"caxis\":{\"gridcolor\":\"white\",\"linecolor\":\"white\",\"ticks\":\"\"}},\"coloraxis\":{\"colorbar\":{\"outlinewidth\":0,\"ticks\":\"\"}},\"colorscale\":{\"sequential\":[[0.0,\"#0d0887\"],[0.1111111111111111,\"#46039f\"],[0.2222222222222222,\"#7201a8\"],[0.3333333333333333,\"#9c179e\"],[0.4444444444444444,\"#bd3786\"],[0.5555555555555556,\"#d8576b\"],[0.6666666666666666,\"#ed7953\"],[0.7777777777777778,\"#fb9f3a\"],[0.8888888888888888,\"#fdca26\"],[1.0,\"#f0f921\"]],\"sequentialminus\":[[0.0,\"#0d0887\"],[0.1111111111111111,\"#46039f\"],[0.2222222222222222,\"#7201a8\"],[0.3333333333333333,\"#9c179e\"],[0.4444444444444444,\"#bd3786\"],[0.5555555555555556,\"#d8576b\"],[0.6666666666666666,\"#ed7953\"],[0.7777777777777778,\"#fb9f3a\"],[0.8888888888888888,\"#fdca26\"],[1.0,\"#f0f921\"]],\"diverging\":[[0,\"#8e0152\"],[0.1,\"#c51b7d\"],[0.2,\"#de77ae\"],[0.3,\"#f1b6da\"],[0.4,\"#fde0ef\"],[0.5,\"#f7f7f7\"],[0.6,\"#e6f5d0\"],[0.7,\"#b8e186\"],[0.8,\"#7fbc41\"],[0.9,\"#4d9221\"],[1,\"#276419\"]]},\"xaxis\":{\"gridcolor\":\"white\",\"linecolor\":\"white\",\"ticks\":\"\",\"title\":{\"standoff\":15},\"zerolinecolor\":\"white\",\"automargin\":true,\"zerolinewidth\":2},\"yaxis\":{\"gridcolor\":\"white\",\"linecolor\":\"white\",\"ticks\":\"\",\"title\":{\"standoff\":15},\"zerolinecolor\":\"white\",\"automargin\":true,\"zerolinewidth\":2},\"scene\":{\"xaxis\":{\"backgroundcolor\":\"#E5ECF6\",\"gridcolor\":\"white\",\"linecolor\":\"white\",\"showbackground\":true,\"ticks\":\"\",\"zerolinecolor\":\"white\",\"gridwidth\":2},\"yaxis\":{\"backgroundcolor\":\"#E5ECF6\",\"gridcolor\":\"white\",\"linecolor\":\"white\",\"showbackground\":true,\"ticks\":\"\",\"zerolinecolor\":\"white\",\"gridwidth\":2},\"zaxis\":{\"backgroundcolor\":\"#E5ECF6\",\"gridcolor\":\"white\",\"linecolor\":\"white\",\"showbackground\":true,\"ticks\":\"\",\"zerolinecolor\":\"white\",\"gridwidth\":2}},\"shapedefaults\":{\"line\":{\"color\":\"#2a3f5f\"}},\"annotationdefaults\":{\"arrowcolor\":\"#2a3f5f\",\"arrowhead\":0,\"arrowwidth\":1},\"geo\":{\"bgcolor\":\"white\",\"landcolor\":\"#E5ECF6\",\"subunitcolor\":\"white\",\"showland\":true,\"showlakes\":true,\"lakecolor\":\"white\"},\"title\":{\"x\":0.05},\"mapbox\":{\"style\":\"light\"}}},\"xaxis\":{\"anchor\":\"y\",\"domain\":[0.0,1.0],\"scaleanchor\":\"y\",\"constrain\":\"domain\"},\"yaxis\":{\"anchor\":\"x\",\"domain\":[0.0,1.0],\"autorange\":\"reversed\",\"constrain\":\"domain\"},\"coloraxis\":{\"colorscale\":[[0.0,\"rgb(103,0,31)\"],[0.1,\"rgb(178,24,43)\"],[0.2,\"rgb(214,96,77)\"],[0.3,\"rgb(244,165,130)\"],[0.4,\"rgb(253,219,199)\"],[0.5,\"rgb(247,247,247)\"],[0.6,\"rgb(209,229,240)\"],[0.7,\"rgb(146,197,222)\"],[0.8,\"rgb(67,147,195)\"],[0.9,\"rgb(33,102,172)\"],[1.0,\"rgb(5,48,97)\"]],\"cmid\":0},\"margin\":{\"t\":60}},                        {\"responsive\": true}                    ).then(function(){\n",
       "                            \n",
       "var gd = document.getElementById('3459556d-c7d0-4c98-8365-d8bd60726588');\n",
       "var x = new MutationObserver(function (mutations, observer) {{\n",
       "        var display = window.getComputedStyle(gd).display;\n",
       "        if (!display || display === 'none') {{\n",
       "            console.log([gd, 'removed!']);\n",
       "            Plotly.purge(gd);\n",
       "            observer.disconnect();\n",
       "        }}\n",
       "}});\n",
       "\n",
       "// Listen for the removal of the full notebook cells\n",
       "var notebookContainer = gd.closest('#notebook-container');\n",
       "if (notebookContainer) {{\n",
       "    x.observe(notebookContainer, {childList: true});\n",
       "}}\n",
       "\n",
       "// Listen for the clearing of the current output cell\n",
       "var outputEl = gd.closest('.output');\n",
       "if (outputEl) {{\n",
       "    x.observe(outputEl, {childList: true});\n",
       "}}\n",
       "\n",
       "                        })                };                });            </script>        </div>"
      ]
     },
     "metadata": {},
     "output_type": "display_data"
    }
   ],
   "source": [
    "toks = model.to_str_tokens(text)\n",
    "x_labels = toks + [f\"pos_{i}\" for i in range(len(toks), n_positions)]\n",
    "fig = px.imshow(score_matrix, y=x_labels, x=[str(c) for c in cs], color_continuous_scale=\"RdBu\", color_continuous_midpoint=0)\n",
    "fig.show()"
   ]
  },
  {
   "cell_type": "code",
   "execution_count": 43,
   "metadata": {},
   "outputs": [
    {
     "data": {
      "application/vnd.plotly.v1+json": {
       "config": {
        "plotlyServerURL": "https://plot.ly"
       },
       "data": [
        {
         "hovertemplate": "coefficient=%{x}<br>angry score=%{y}<extra></extra>",
         "legendgroup": "",
         "line": {
          "color": "#636efa",
          "dash": "solid"
         },
         "marker": {
          "symbol": "circle"
         },
         "mode": "lines+markers",
         "name": "",
         "orientation": "v",
         "showlegend": false,
         "type": "scatter",
         "x": [
          0,
          0.5,
          1,
          5,
          7,
          10,
          15,
          20,
          30,
          50
         ],
         "xaxis": "x",
         "y": [
          0.5492188,
          0.546875,
          0.56328124,
          0.5984375,
          0.6390625,
          0.63359374,
          0.6742188,
          0.6976563,
          0.7367188,
          0.784375
         ],
         "yaxis": "y"
        }
       ],
       "layout": {
        "legend": {
         "tracegroupgap": 0
        },
        "template": {
         "data": {
          "bar": [
           {
            "error_x": {
             "color": "#2a3f5f"
            },
            "error_y": {
             "color": "#2a3f5f"
            },
            "marker": {
             "line": {
              "color": "#E5ECF6",
              "width": 0.5
             },
             "pattern": {
              "fillmode": "overlay",
              "size": 10,
              "solidity": 0.2
             }
            },
            "type": "bar"
           }
          ],
          "barpolar": [
           {
            "marker": {
             "line": {
              "color": "#E5ECF6",
              "width": 0.5
             },
             "pattern": {
              "fillmode": "overlay",
              "size": 10,
              "solidity": 0.2
             }
            },
            "type": "barpolar"
           }
          ],
          "carpet": [
           {
            "aaxis": {
             "endlinecolor": "#2a3f5f",
             "gridcolor": "white",
             "linecolor": "white",
             "minorgridcolor": "white",
             "startlinecolor": "#2a3f5f"
            },
            "baxis": {
             "endlinecolor": "#2a3f5f",
             "gridcolor": "white",
             "linecolor": "white",
             "minorgridcolor": "white",
             "startlinecolor": "#2a3f5f"
            },
            "type": "carpet"
           }
          ],
          "choropleth": [
           {
            "colorbar": {
             "outlinewidth": 0,
             "ticks": ""
            },
            "type": "choropleth"
           }
          ],
          "contour": [
           {
            "colorbar": {
             "outlinewidth": 0,
             "ticks": ""
            },
            "colorscale": [
             [
              0,
              "#0d0887"
             ],
             [
              0.1111111111111111,
              "#46039f"
             ],
             [
              0.2222222222222222,
              "#7201a8"
             ],
             [
              0.3333333333333333,
              "#9c179e"
             ],
             [
              0.4444444444444444,
              "#bd3786"
             ],
             [
              0.5555555555555556,
              "#d8576b"
             ],
             [
              0.6666666666666666,
              "#ed7953"
             ],
             [
              0.7777777777777778,
              "#fb9f3a"
             ],
             [
              0.8888888888888888,
              "#fdca26"
             ],
             [
              1,
              "#f0f921"
             ]
            ],
            "type": "contour"
           }
          ],
          "contourcarpet": [
           {
            "colorbar": {
             "outlinewidth": 0,
             "ticks": ""
            },
            "type": "contourcarpet"
           }
          ],
          "heatmap": [
           {
            "colorbar": {
             "outlinewidth": 0,
             "ticks": ""
            },
            "colorscale": [
             [
              0,
              "#0d0887"
             ],
             [
              0.1111111111111111,
              "#46039f"
             ],
             [
              0.2222222222222222,
              "#7201a8"
             ],
             [
              0.3333333333333333,
              "#9c179e"
             ],
             [
              0.4444444444444444,
              "#bd3786"
             ],
             [
              0.5555555555555556,
              "#d8576b"
             ],
             [
              0.6666666666666666,
              "#ed7953"
             ],
             [
              0.7777777777777778,
              "#fb9f3a"
             ],
             [
              0.8888888888888888,
              "#fdca26"
             ],
             [
              1,
              "#f0f921"
             ]
            ],
            "type": "heatmap"
           }
          ],
          "heatmapgl": [
           {
            "colorbar": {
             "outlinewidth": 0,
             "ticks": ""
            },
            "colorscale": [
             [
              0,
              "#0d0887"
             ],
             [
              0.1111111111111111,
              "#46039f"
             ],
             [
              0.2222222222222222,
              "#7201a8"
             ],
             [
              0.3333333333333333,
              "#9c179e"
             ],
             [
              0.4444444444444444,
              "#bd3786"
             ],
             [
              0.5555555555555556,
              "#d8576b"
             ],
             [
              0.6666666666666666,
              "#ed7953"
             ],
             [
              0.7777777777777778,
              "#fb9f3a"
             ],
             [
              0.8888888888888888,
              "#fdca26"
             ],
             [
              1,
              "#f0f921"
             ]
            ],
            "type": "heatmapgl"
           }
          ],
          "histogram": [
           {
            "marker": {
             "pattern": {
              "fillmode": "overlay",
              "size": 10,
              "solidity": 0.2
             }
            },
            "type": "histogram"
           }
          ],
          "histogram2d": [
           {
            "colorbar": {
             "outlinewidth": 0,
             "ticks": ""
            },
            "colorscale": [
             [
              0,
              "#0d0887"
             ],
             [
              0.1111111111111111,
              "#46039f"
             ],
             [
              0.2222222222222222,
              "#7201a8"
             ],
             [
              0.3333333333333333,
              "#9c179e"
             ],
             [
              0.4444444444444444,
              "#bd3786"
             ],
             [
              0.5555555555555556,
              "#d8576b"
             ],
             [
              0.6666666666666666,
              "#ed7953"
             ],
             [
              0.7777777777777778,
              "#fb9f3a"
             ],
             [
              0.8888888888888888,
              "#fdca26"
             ],
             [
              1,
              "#f0f921"
             ]
            ],
            "type": "histogram2d"
           }
          ],
          "histogram2dcontour": [
           {
            "colorbar": {
             "outlinewidth": 0,
             "ticks": ""
            },
            "colorscale": [
             [
              0,
              "#0d0887"
             ],
             [
              0.1111111111111111,
              "#46039f"
             ],
             [
              0.2222222222222222,
              "#7201a8"
             ],
             [
              0.3333333333333333,
              "#9c179e"
             ],
             [
              0.4444444444444444,
              "#bd3786"
             ],
             [
              0.5555555555555556,
              "#d8576b"
             ],
             [
              0.6666666666666666,
              "#ed7953"
             ],
             [
              0.7777777777777778,
              "#fb9f3a"
             ],
             [
              0.8888888888888888,
              "#fdca26"
             ],
             [
              1,
              "#f0f921"
             ]
            ],
            "type": "histogram2dcontour"
           }
          ],
          "mesh3d": [
           {
            "colorbar": {
             "outlinewidth": 0,
             "ticks": ""
            },
            "type": "mesh3d"
           }
          ],
          "parcoords": [
           {
            "line": {
             "colorbar": {
              "outlinewidth": 0,
              "ticks": ""
             }
            },
            "type": "parcoords"
           }
          ],
          "pie": [
           {
            "automargin": true,
            "type": "pie"
           }
          ],
          "scatter": [
           {
            "fillpattern": {
             "fillmode": "overlay",
             "size": 10,
             "solidity": 0.2
            },
            "type": "scatter"
           }
          ],
          "scatter3d": [
           {
            "line": {
             "colorbar": {
              "outlinewidth": 0,
              "ticks": ""
             }
            },
            "marker": {
             "colorbar": {
              "outlinewidth": 0,
              "ticks": ""
             }
            },
            "type": "scatter3d"
           }
          ],
          "scattercarpet": [
           {
            "marker": {
             "colorbar": {
              "outlinewidth": 0,
              "ticks": ""
             }
            },
            "type": "scattercarpet"
           }
          ],
          "scattergeo": [
           {
            "marker": {
             "colorbar": {
              "outlinewidth": 0,
              "ticks": ""
             }
            },
            "type": "scattergeo"
           }
          ],
          "scattergl": [
           {
            "marker": {
             "colorbar": {
              "outlinewidth": 0,
              "ticks": ""
             }
            },
            "type": "scattergl"
           }
          ],
          "scattermapbox": [
           {
            "marker": {
             "colorbar": {
              "outlinewidth": 0,
              "ticks": ""
             }
            },
            "type": "scattermapbox"
           }
          ],
          "scatterpolar": [
           {
            "marker": {
             "colorbar": {
              "outlinewidth": 0,
              "ticks": ""
             }
            },
            "type": "scatterpolar"
           }
          ],
          "scatterpolargl": [
           {
            "marker": {
             "colorbar": {
              "outlinewidth": 0,
              "ticks": ""
             }
            },
            "type": "scatterpolargl"
           }
          ],
          "scatterternary": [
           {
            "marker": {
             "colorbar": {
              "outlinewidth": 0,
              "ticks": ""
             }
            },
            "type": "scatterternary"
           }
          ],
          "surface": [
           {
            "colorbar": {
             "outlinewidth": 0,
             "ticks": ""
            },
            "colorscale": [
             [
              0,
              "#0d0887"
             ],
             [
              0.1111111111111111,
              "#46039f"
             ],
             [
              0.2222222222222222,
              "#7201a8"
             ],
             [
              0.3333333333333333,
              "#9c179e"
             ],
             [
              0.4444444444444444,
              "#bd3786"
             ],
             [
              0.5555555555555556,
              "#d8576b"
             ],
             [
              0.6666666666666666,
              "#ed7953"
             ],
             [
              0.7777777777777778,
              "#fb9f3a"
             ],
             [
              0.8888888888888888,
              "#fdca26"
             ],
             [
              1,
              "#f0f921"
             ]
            ],
            "type": "surface"
           }
          ],
          "table": [
           {
            "cells": {
             "fill": {
              "color": "#EBF0F8"
             },
             "line": {
              "color": "white"
             }
            },
            "header": {
             "fill": {
              "color": "#C8D4E3"
             },
             "line": {
              "color": "white"
             }
            },
            "type": "table"
           }
          ]
         },
         "layout": {
          "annotationdefaults": {
           "arrowcolor": "#2a3f5f",
           "arrowhead": 0,
           "arrowwidth": 1
          },
          "autotypenumbers": "strict",
          "coloraxis": {
           "colorbar": {
            "outlinewidth": 0,
            "ticks": ""
           }
          },
          "colorscale": {
           "diverging": [
            [
             0,
             "#8e0152"
            ],
            [
             0.1,
             "#c51b7d"
            ],
            [
             0.2,
             "#de77ae"
            ],
            [
             0.3,
             "#f1b6da"
            ],
            [
             0.4,
             "#fde0ef"
            ],
            [
             0.5,
             "#f7f7f7"
            ],
            [
             0.6,
             "#e6f5d0"
            ],
            [
             0.7,
             "#b8e186"
            ],
            [
             0.8,
             "#7fbc41"
            ],
            [
             0.9,
             "#4d9221"
            ],
            [
             1,
             "#276419"
            ]
           ],
           "sequential": [
            [
             0,
             "#0d0887"
            ],
            [
             0.1111111111111111,
             "#46039f"
            ],
            [
             0.2222222222222222,
             "#7201a8"
            ],
            [
             0.3333333333333333,
             "#9c179e"
            ],
            [
             0.4444444444444444,
             "#bd3786"
            ],
            [
             0.5555555555555556,
             "#d8576b"
            ],
            [
             0.6666666666666666,
             "#ed7953"
            ],
            [
             0.7777777777777778,
             "#fb9f3a"
            ],
            [
             0.8888888888888888,
             "#fdca26"
            ],
            [
             1,
             "#f0f921"
            ]
           ],
           "sequentialminus": [
            [
             0,
             "#0d0887"
            ],
            [
             0.1111111111111111,
             "#46039f"
            ],
            [
             0.2222222222222222,
             "#7201a8"
            ],
            [
             0.3333333333333333,
             "#9c179e"
            ],
            [
             0.4444444444444444,
             "#bd3786"
            ],
            [
             0.5555555555555556,
             "#d8576b"
            ],
            [
             0.6666666666666666,
             "#ed7953"
            ],
            [
             0.7777777777777778,
             "#fb9f3a"
            ],
            [
             0.8888888888888888,
             "#fdca26"
            ],
            [
             1,
             "#f0f921"
            ]
           ]
          },
          "colorway": [
           "#636efa",
           "#EF553B",
           "#00cc96",
           "#ab63fa",
           "#FFA15A",
           "#19d3f3",
           "#FF6692",
           "#B6E880",
           "#FF97FF",
           "#FECB52"
          ],
          "font": {
           "color": "#2a3f5f"
          },
          "geo": {
           "bgcolor": "white",
           "lakecolor": "white",
           "landcolor": "#E5ECF6",
           "showlakes": true,
           "showland": true,
           "subunitcolor": "white"
          },
          "hoverlabel": {
           "align": "left"
          },
          "hovermode": "closest",
          "mapbox": {
           "style": "light"
          },
          "paper_bgcolor": "white",
          "plot_bgcolor": "#E5ECF6",
          "polar": {
           "angularaxis": {
            "gridcolor": "white",
            "linecolor": "white",
            "ticks": ""
           },
           "bgcolor": "#E5ECF6",
           "radialaxis": {
            "gridcolor": "white",
            "linecolor": "white",
            "ticks": ""
           }
          },
          "scene": {
           "xaxis": {
            "backgroundcolor": "#E5ECF6",
            "gridcolor": "white",
            "gridwidth": 2,
            "linecolor": "white",
            "showbackground": true,
            "ticks": "",
            "zerolinecolor": "white"
           },
           "yaxis": {
            "backgroundcolor": "#E5ECF6",
            "gridcolor": "white",
            "gridwidth": 2,
            "linecolor": "white",
            "showbackground": true,
            "ticks": "",
            "zerolinecolor": "white"
           },
           "zaxis": {
            "backgroundcolor": "#E5ECF6",
            "gridcolor": "white",
            "gridwidth": 2,
            "linecolor": "white",
            "showbackground": true,
            "ticks": "",
            "zerolinecolor": "white"
           }
          },
          "shapedefaults": {
           "line": {
            "color": "#2a3f5f"
           }
          },
          "ternary": {
           "aaxis": {
            "gridcolor": "white",
            "linecolor": "white",
            "ticks": ""
           },
           "baxis": {
            "gridcolor": "white",
            "linecolor": "white",
            "ticks": ""
           },
           "bgcolor": "#E5ECF6",
           "caxis": {
            "gridcolor": "white",
            "linecolor": "white",
            "ticks": ""
           }
          },
          "title": {
           "x": 0.05
          },
          "xaxis": {
           "automargin": true,
           "gridcolor": "white",
           "linecolor": "white",
           "ticks": "",
           "title": {
            "standoff": 15
           },
           "zerolinecolor": "white",
           "zerolinewidth": 2
          },
          "yaxis": {
           "automargin": true,
           "gridcolor": "white",
           "linecolor": "white",
           "ticks": "",
           "title": {
            "standoff": 15
           },
           "zerolinecolor": "white",
           "zerolinewidth": 2
          }
         }
        },
        "title": {
         "text": "Sum of scores over positions"
        },
        "xaxis": {
         "anchor": "y",
         "domain": [
          0,
          1
         ],
         "title": {
          "text": "coefficient"
         }
        },
        "yaxis": {
         "anchor": "x",
         "domain": [
          0,
          1
         ],
         "title": {
          "text": "angry score"
         }
        }
       }
      },
      "text/html": [
       "<div>                            <div id=\"e240f2f8-9883-499f-893d-cb39022ec35d\" class=\"plotly-graph-div\" style=\"height:525px; width:100%;\"></div>            <script type=\"text/javascript\">                require([\"plotly\"], function(Plotly) {                    window.PLOTLYENV=window.PLOTLYENV || {};                                    if (document.getElementById(\"e240f2f8-9883-499f-893d-cb39022ec35d\")) {                    Plotly.newPlot(                        \"e240f2f8-9883-499f-893d-cb39022ec35d\",                        [{\"hovertemplate\":\"coefficient=%{x}\\u003cbr\\u003eangry score=%{y}\\u003cextra\\u003e\\u003c\\u002fextra\\u003e\",\"legendgroup\":\"\",\"line\":{\"color\":\"#636efa\",\"dash\":\"solid\"},\"marker\":{\"symbol\":\"circle\"},\"mode\":\"lines+markers\",\"name\":\"\",\"orientation\":\"v\",\"showlegend\":false,\"x\":[0.0,0.5,1.0,5.0,7.0,10.0,15.0,20.0,30.0,50.0],\"xaxis\":\"x\",\"y\":[0.5492188,0.546875,0.56328124,0.5984375,0.6390625,0.63359374,0.6742188,0.6976563,0.7367188,0.784375],\"yaxis\":\"y\",\"type\":\"scatter\"}],                        {\"template\":{\"data\":{\"histogram2dcontour\":[{\"type\":\"histogram2dcontour\",\"colorbar\":{\"outlinewidth\":0,\"ticks\":\"\"},\"colorscale\":[[0.0,\"#0d0887\"],[0.1111111111111111,\"#46039f\"],[0.2222222222222222,\"#7201a8\"],[0.3333333333333333,\"#9c179e\"],[0.4444444444444444,\"#bd3786\"],[0.5555555555555556,\"#d8576b\"],[0.6666666666666666,\"#ed7953\"],[0.7777777777777778,\"#fb9f3a\"],[0.8888888888888888,\"#fdca26\"],[1.0,\"#f0f921\"]]}],\"choropleth\":[{\"type\":\"choropleth\",\"colorbar\":{\"outlinewidth\":0,\"ticks\":\"\"}}],\"histogram2d\":[{\"type\":\"histogram2d\",\"colorbar\":{\"outlinewidth\":0,\"ticks\":\"\"},\"colorscale\":[[0.0,\"#0d0887\"],[0.1111111111111111,\"#46039f\"],[0.2222222222222222,\"#7201a8\"],[0.3333333333333333,\"#9c179e\"],[0.4444444444444444,\"#bd3786\"],[0.5555555555555556,\"#d8576b\"],[0.6666666666666666,\"#ed7953\"],[0.7777777777777778,\"#fb9f3a\"],[0.8888888888888888,\"#fdca26\"],[1.0,\"#f0f921\"]]}],\"heatmap\":[{\"type\":\"heatmap\",\"colorbar\":{\"outlinewidth\":0,\"ticks\":\"\"},\"colorscale\":[[0.0,\"#0d0887\"],[0.1111111111111111,\"#46039f\"],[0.2222222222222222,\"#7201a8\"],[0.3333333333333333,\"#9c179e\"],[0.4444444444444444,\"#bd3786\"],[0.5555555555555556,\"#d8576b\"],[0.6666666666666666,\"#ed7953\"],[0.7777777777777778,\"#fb9f3a\"],[0.8888888888888888,\"#fdca26\"],[1.0,\"#f0f921\"]]}],\"heatmapgl\":[{\"type\":\"heatmapgl\",\"colorbar\":{\"outlinewidth\":0,\"ticks\":\"\"},\"colorscale\":[[0.0,\"#0d0887\"],[0.1111111111111111,\"#46039f\"],[0.2222222222222222,\"#7201a8\"],[0.3333333333333333,\"#9c179e\"],[0.4444444444444444,\"#bd3786\"],[0.5555555555555556,\"#d8576b\"],[0.6666666666666666,\"#ed7953\"],[0.7777777777777778,\"#fb9f3a\"],[0.8888888888888888,\"#fdca26\"],[1.0,\"#f0f921\"]]}],\"contourcarpet\":[{\"type\":\"contourcarpet\",\"colorbar\":{\"outlinewidth\":0,\"ticks\":\"\"}}],\"contour\":[{\"type\":\"contour\",\"colorbar\":{\"outlinewidth\":0,\"ticks\":\"\"},\"colorscale\":[[0.0,\"#0d0887\"],[0.1111111111111111,\"#46039f\"],[0.2222222222222222,\"#7201a8\"],[0.3333333333333333,\"#9c179e\"],[0.4444444444444444,\"#bd3786\"],[0.5555555555555556,\"#d8576b\"],[0.6666666666666666,\"#ed7953\"],[0.7777777777777778,\"#fb9f3a\"],[0.8888888888888888,\"#fdca26\"],[1.0,\"#f0f921\"]]}],\"surface\":[{\"type\":\"surface\",\"colorbar\":{\"outlinewidth\":0,\"ticks\":\"\"},\"colorscale\":[[0.0,\"#0d0887\"],[0.1111111111111111,\"#46039f\"],[0.2222222222222222,\"#7201a8\"],[0.3333333333333333,\"#9c179e\"],[0.4444444444444444,\"#bd3786\"],[0.5555555555555556,\"#d8576b\"],[0.6666666666666666,\"#ed7953\"],[0.7777777777777778,\"#fb9f3a\"],[0.8888888888888888,\"#fdca26\"],[1.0,\"#f0f921\"]]}],\"mesh3d\":[{\"type\":\"mesh3d\",\"colorbar\":{\"outlinewidth\":0,\"ticks\":\"\"}}],\"scatter\":[{\"fillpattern\":{\"fillmode\":\"overlay\",\"size\":10,\"solidity\":0.2},\"type\":\"scatter\"}],\"parcoords\":[{\"type\":\"parcoords\",\"line\":{\"colorbar\":{\"outlinewidth\":0,\"ticks\":\"\"}}}],\"scatterpolargl\":[{\"type\":\"scatterpolargl\",\"marker\":{\"colorbar\":{\"outlinewidth\":0,\"ticks\":\"\"}}}],\"bar\":[{\"error_x\":{\"color\":\"#2a3f5f\"},\"error_y\":{\"color\":\"#2a3f5f\"},\"marker\":{\"line\":{\"color\":\"#E5ECF6\",\"width\":0.5},\"pattern\":{\"fillmode\":\"overlay\",\"size\":10,\"solidity\":0.2}},\"type\":\"bar\"}],\"scattergeo\":[{\"type\":\"scattergeo\",\"marker\":{\"colorbar\":{\"outlinewidth\":0,\"ticks\":\"\"}}}],\"scatterpolar\":[{\"type\":\"scatterpolar\",\"marker\":{\"colorbar\":{\"outlinewidth\":0,\"ticks\":\"\"}}}],\"histogram\":[{\"marker\":{\"pattern\":{\"fillmode\":\"overlay\",\"size\":10,\"solidity\":0.2}},\"type\":\"histogram\"}],\"scattergl\":[{\"type\":\"scattergl\",\"marker\":{\"colorbar\":{\"outlinewidth\":0,\"ticks\":\"\"}}}],\"scatter3d\":[{\"type\":\"scatter3d\",\"line\":{\"colorbar\":{\"outlinewidth\":0,\"ticks\":\"\"}},\"marker\":{\"colorbar\":{\"outlinewidth\":0,\"ticks\":\"\"}}}],\"scattermapbox\":[{\"type\":\"scattermapbox\",\"marker\":{\"colorbar\":{\"outlinewidth\":0,\"ticks\":\"\"}}}],\"scatterternary\":[{\"type\":\"scatterternary\",\"marker\":{\"colorbar\":{\"outlinewidth\":0,\"ticks\":\"\"}}}],\"scattercarpet\":[{\"type\":\"scattercarpet\",\"marker\":{\"colorbar\":{\"outlinewidth\":0,\"ticks\":\"\"}}}],\"carpet\":[{\"aaxis\":{\"endlinecolor\":\"#2a3f5f\",\"gridcolor\":\"white\",\"linecolor\":\"white\",\"minorgridcolor\":\"white\",\"startlinecolor\":\"#2a3f5f\"},\"baxis\":{\"endlinecolor\":\"#2a3f5f\",\"gridcolor\":\"white\",\"linecolor\":\"white\",\"minorgridcolor\":\"white\",\"startlinecolor\":\"#2a3f5f\"},\"type\":\"carpet\"}],\"table\":[{\"cells\":{\"fill\":{\"color\":\"#EBF0F8\"},\"line\":{\"color\":\"white\"}},\"header\":{\"fill\":{\"color\":\"#C8D4E3\"},\"line\":{\"color\":\"white\"}},\"type\":\"table\"}],\"barpolar\":[{\"marker\":{\"line\":{\"color\":\"#E5ECF6\",\"width\":0.5},\"pattern\":{\"fillmode\":\"overlay\",\"size\":10,\"solidity\":0.2}},\"type\":\"barpolar\"}],\"pie\":[{\"automargin\":true,\"type\":\"pie\"}]},\"layout\":{\"autotypenumbers\":\"strict\",\"colorway\":[\"#636efa\",\"#EF553B\",\"#00cc96\",\"#ab63fa\",\"#FFA15A\",\"#19d3f3\",\"#FF6692\",\"#B6E880\",\"#FF97FF\",\"#FECB52\"],\"font\":{\"color\":\"#2a3f5f\"},\"hovermode\":\"closest\",\"hoverlabel\":{\"align\":\"left\"},\"paper_bgcolor\":\"white\",\"plot_bgcolor\":\"#E5ECF6\",\"polar\":{\"bgcolor\":\"#E5ECF6\",\"angularaxis\":{\"gridcolor\":\"white\",\"linecolor\":\"white\",\"ticks\":\"\"},\"radialaxis\":{\"gridcolor\":\"white\",\"linecolor\":\"white\",\"ticks\":\"\"}},\"ternary\":{\"bgcolor\":\"#E5ECF6\",\"aaxis\":{\"gridcolor\":\"white\",\"linecolor\":\"white\",\"ticks\":\"\"},\"baxis\":{\"gridcolor\":\"white\",\"linecolor\":\"white\",\"ticks\":\"\"},\"caxis\":{\"gridcolor\":\"white\",\"linecolor\":\"white\",\"ticks\":\"\"}},\"coloraxis\":{\"colorbar\":{\"outlinewidth\":0,\"ticks\":\"\"}},\"colorscale\":{\"sequential\":[[0.0,\"#0d0887\"],[0.1111111111111111,\"#46039f\"],[0.2222222222222222,\"#7201a8\"],[0.3333333333333333,\"#9c179e\"],[0.4444444444444444,\"#bd3786\"],[0.5555555555555556,\"#d8576b\"],[0.6666666666666666,\"#ed7953\"],[0.7777777777777778,\"#fb9f3a\"],[0.8888888888888888,\"#fdca26\"],[1.0,\"#f0f921\"]],\"sequentialminus\":[[0.0,\"#0d0887\"],[0.1111111111111111,\"#46039f\"],[0.2222222222222222,\"#7201a8\"],[0.3333333333333333,\"#9c179e\"],[0.4444444444444444,\"#bd3786\"],[0.5555555555555556,\"#d8576b\"],[0.6666666666666666,\"#ed7953\"],[0.7777777777777778,\"#fb9f3a\"],[0.8888888888888888,\"#fdca26\"],[1.0,\"#f0f921\"]],\"diverging\":[[0,\"#8e0152\"],[0.1,\"#c51b7d\"],[0.2,\"#de77ae\"],[0.3,\"#f1b6da\"],[0.4,\"#fde0ef\"],[0.5,\"#f7f7f7\"],[0.6,\"#e6f5d0\"],[0.7,\"#b8e186\"],[0.8,\"#7fbc41\"],[0.9,\"#4d9221\"],[1,\"#276419\"]]},\"xaxis\":{\"gridcolor\":\"white\",\"linecolor\":\"white\",\"ticks\":\"\",\"title\":{\"standoff\":15},\"zerolinecolor\":\"white\",\"automargin\":true,\"zerolinewidth\":2},\"yaxis\":{\"gridcolor\":\"white\",\"linecolor\":\"white\",\"ticks\":\"\",\"title\":{\"standoff\":15},\"zerolinecolor\":\"white\",\"automargin\":true,\"zerolinewidth\":2},\"scene\":{\"xaxis\":{\"backgroundcolor\":\"#E5ECF6\",\"gridcolor\":\"white\",\"linecolor\":\"white\",\"showbackground\":true,\"ticks\":\"\",\"zerolinecolor\":\"white\",\"gridwidth\":2},\"yaxis\":{\"backgroundcolor\":\"#E5ECF6\",\"gridcolor\":\"white\",\"linecolor\":\"white\",\"showbackground\":true,\"ticks\":\"\",\"zerolinecolor\":\"white\",\"gridwidth\":2},\"zaxis\":{\"backgroundcolor\":\"#E5ECF6\",\"gridcolor\":\"white\",\"linecolor\":\"white\",\"showbackground\":true,\"ticks\":\"\",\"zerolinecolor\":\"white\",\"gridwidth\":2}},\"shapedefaults\":{\"line\":{\"color\":\"#2a3f5f\"}},\"annotationdefaults\":{\"arrowcolor\":\"#2a3f5f\",\"arrowhead\":0,\"arrowwidth\":1},\"geo\":{\"bgcolor\":\"white\",\"landcolor\":\"#E5ECF6\",\"subunitcolor\":\"white\",\"showland\":true,\"showlakes\":true,\"lakecolor\":\"white\"},\"title\":{\"x\":0.05},\"mapbox\":{\"style\":\"light\"}}},\"xaxis\":{\"anchor\":\"y\",\"domain\":[0.0,1.0],\"title\":{\"text\":\"coefficient\"}},\"yaxis\":{\"anchor\":\"x\",\"domain\":[0.0,1.0],\"title\":{\"text\":\"angry score\"}},\"legend\":{\"tracegroupgap\":0},\"title\":{\"text\":\"Sum of scores over positions\"}},                        {\"responsive\": true}                    ).then(function(){\n",
       "                            \n",
       "var gd = document.getElementById('e240f2f8-9883-499f-893d-cb39022ec35d');\n",
       "var x = new MutationObserver(function (mutations, observer) {{\n",
       "        var display = window.getComputedStyle(gd).display;\n",
       "        if (!display || display === 'none') {{\n",
       "            console.log([gd, 'removed!']);\n",
       "            Plotly.purge(gd);\n",
       "            observer.disconnect();\n",
       "        }}\n",
       "}});\n",
       "\n",
       "// Listen for the removal of the full notebook cells\n",
       "var notebookContainer = gd.closest('#notebook-container');\n",
       "if (notebookContainer) {{\n",
       "    x.observe(notebookContainer, {childList: true});\n",
       "}}\n",
       "\n",
       "// Listen for the clearing of the current output cell\n",
       "var outputEl = gd.closest('.output');\n",
       "if (outputEl) {{\n",
       "    x.observe(outputEl, {childList: true});\n",
       "}}\n",
       "\n",
       "                        })                };                });            </script>        </div>"
      ]
     },
     "metadata": {},
     "output_type": "display_data"
    }
   ],
   "source": [
    "\n",
    "sum_over_pos = score_matrix.mean(0)\n",
    "sum_over_pos.shape\n",
    "\n",
    "px.line(y=sum_over_pos, x=cs, title=\"Sum of scores over positions\", markers=True, labels={'x': \"coefficient\", \"y\": \"angry score\"}).show()"
   ]
  },
  {
   "cell_type": "code",
   "execution_count": 44,
   "metadata": {},
   "outputs": [
    {
     "data": {
      "application/vnd.plotly.v1+json": {
       "config": {
        "plotlyServerURL": "https://plot.ly"
       },
       "data": [
        {
         "hovertemplate": "pos=%{x}<br>angry score=%{y}<extra></extra>",
         "legendgroup": "",
         "line": {
          "color": "#636efa",
          "dash": "solid"
         },
         "marker": {
          "symbol": "circle"
         },
         "mode": "lines+markers",
         "name": "",
         "orientation": "v",
         "showlegend": false,
         "type": "scatter",
         "x": [
          "<|endoftext|>",
          "I",
          " think",
          " you",
          "'re"
         ],
         "xaxis": "x",
         "y": [
          0.72998047,
          0.61572266,
          0.6904297,
          0.62890625,
          0.6645508
         ],
         "yaxis": "y"
        }
       ],
       "layout": {
        "legend": {
         "tracegroupgap": 0
        },
        "template": {
         "data": {
          "bar": [
           {
            "error_x": {
             "color": "#2a3f5f"
            },
            "error_y": {
             "color": "#2a3f5f"
            },
            "marker": {
             "line": {
              "color": "#E5ECF6",
              "width": 0.5
             },
             "pattern": {
              "fillmode": "overlay",
              "size": 10,
              "solidity": 0.2
             }
            },
            "type": "bar"
           }
          ],
          "barpolar": [
           {
            "marker": {
             "line": {
              "color": "#E5ECF6",
              "width": 0.5
             },
             "pattern": {
              "fillmode": "overlay",
              "size": 10,
              "solidity": 0.2
             }
            },
            "type": "barpolar"
           }
          ],
          "carpet": [
           {
            "aaxis": {
             "endlinecolor": "#2a3f5f",
             "gridcolor": "white",
             "linecolor": "white",
             "minorgridcolor": "white",
             "startlinecolor": "#2a3f5f"
            },
            "baxis": {
             "endlinecolor": "#2a3f5f",
             "gridcolor": "white",
             "linecolor": "white",
             "minorgridcolor": "white",
             "startlinecolor": "#2a3f5f"
            },
            "type": "carpet"
           }
          ],
          "choropleth": [
           {
            "colorbar": {
             "outlinewidth": 0,
             "ticks": ""
            },
            "type": "choropleth"
           }
          ],
          "contour": [
           {
            "colorbar": {
             "outlinewidth": 0,
             "ticks": ""
            },
            "colorscale": [
             [
              0,
              "#0d0887"
             ],
             [
              0.1111111111111111,
              "#46039f"
             ],
             [
              0.2222222222222222,
              "#7201a8"
             ],
             [
              0.3333333333333333,
              "#9c179e"
             ],
             [
              0.4444444444444444,
              "#bd3786"
             ],
             [
              0.5555555555555556,
              "#d8576b"
             ],
             [
              0.6666666666666666,
              "#ed7953"
             ],
             [
              0.7777777777777778,
              "#fb9f3a"
             ],
             [
              0.8888888888888888,
              "#fdca26"
             ],
             [
              1,
              "#f0f921"
             ]
            ],
            "type": "contour"
           }
          ],
          "contourcarpet": [
           {
            "colorbar": {
             "outlinewidth": 0,
             "ticks": ""
            },
            "type": "contourcarpet"
           }
          ],
          "heatmap": [
           {
            "colorbar": {
             "outlinewidth": 0,
             "ticks": ""
            },
            "colorscale": [
             [
              0,
              "#0d0887"
             ],
             [
              0.1111111111111111,
              "#46039f"
             ],
             [
              0.2222222222222222,
              "#7201a8"
             ],
             [
              0.3333333333333333,
              "#9c179e"
             ],
             [
              0.4444444444444444,
              "#bd3786"
             ],
             [
              0.5555555555555556,
              "#d8576b"
             ],
             [
              0.6666666666666666,
              "#ed7953"
             ],
             [
              0.7777777777777778,
              "#fb9f3a"
             ],
             [
              0.8888888888888888,
              "#fdca26"
             ],
             [
              1,
              "#f0f921"
             ]
            ],
            "type": "heatmap"
           }
          ],
          "heatmapgl": [
           {
            "colorbar": {
             "outlinewidth": 0,
             "ticks": ""
            },
            "colorscale": [
             [
              0,
              "#0d0887"
             ],
             [
              0.1111111111111111,
              "#46039f"
             ],
             [
              0.2222222222222222,
              "#7201a8"
             ],
             [
              0.3333333333333333,
              "#9c179e"
             ],
             [
              0.4444444444444444,
              "#bd3786"
             ],
             [
              0.5555555555555556,
              "#d8576b"
             ],
             [
              0.6666666666666666,
              "#ed7953"
             ],
             [
              0.7777777777777778,
              "#fb9f3a"
             ],
             [
              0.8888888888888888,
              "#fdca26"
             ],
             [
              1,
              "#f0f921"
             ]
            ],
            "type": "heatmapgl"
           }
          ],
          "histogram": [
           {
            "marker": {
             "pattern": {
              "fillmode": "overlay",
              "size": 10,
              "solidity": 0.2
             }
            },
            "type": "histogram"
           }
          ],
          "histogram2d": [
           {
            "colorbar": {
             "outlinewidth": 0,
             "ticks": ""
            },
            "colorscale": [
             [
              0,
              "#0d0887"
             ],
             [
              0.1111111111111111,
              "#46039f"
             ],
             [
              0.2222222222222222,
              "#7201a8"
             ],
             [
              0.3333333333333333,
              "#9c179e"
             ],
             [
              0.4444444444444444,
              "#bd3786"
             ],
             [
              0.5555555555555556,
              "#d8576b"
             ],
             [
              0.6666666666666666,
              "#ed7953"
             ],
             [
              0.7777777777777778,
              "#fb9f3a"
             ],
             [
              0.8888888888888888,
              "#fdca26"
             ],
             [
              1,
              "#f0f921"
             ]
            ],
            "type": "histogram2d"
           }
          ],
          "histogram2dcontour": [
           {
            "colorbar": {
             "outlinewidth": 0,
             "ticks": ""
            },
            "colorscale": [
             [
              0,
              "#0d0887"
             ],
             [
              0.1111111111111111,
              "#46039f"
             ],
             [
              0.2222222222222222,
              "#7201a8"
             ],
             [
              0.3333333333333333,
              "#9c179e"
             ],
             [
              0.4444444444444444,
              "#bd3786"
             ],
             [
              0.5555555555555556,
              "#d8576b"
             ],
             [
              0.6666666666666666,
              "#ed7953"
             ],
             [
              0.7777777777777778,
              "#fb9f3a"
             ],
             [
              0.8888888888888888,
              "#fdca26"
             ],
             [
              1,
              "#f0f921"
             ]
            ],
            "type": "histogram2dcontour"
           }
          ],
          "mesh3d": [
           {
            "colorbar": {
             "outlinewidth": 0,
             "ticks": ""
            },
            "type": "mesh3d"
           }
          ],
          "parcoords": [
           {
            "line": {
             "colorbar": {
              "outlinewidth": 0,
              "ticks": ""
             }
            },
            "type": "parcoords"
           }
          ],
          "pie": [
           {
            "automargin": true,
            "type": "pie"
           }
          ],
          "scatter": [
           {
            "fillpattern": {
             "fillmode": "overlay",
             "size": 10,
             "solidity": 0.2
            },
            "type": "scatter"
           }
          ],
          "scatter3d": [
           {
            "line": {
             "colorbar": {
              "outlinewidth": 0,
              "ticks": ""
             }
            },
            "marker": {
             "colorbar": {
              "outlinewidth": 0,
              "ticks": ""
             }
            },
            "type": "scatter3d"
           }
          ],
          "scattercarpet": [
           {
            "marker": {
             "colorbar": {
              "outlinewidth": 0,
              "ticks": ""
             }
            },
            "type": "scattercarpet"
           }
          ],
          "scattergeo": [
           {
            "marker": {
             "colorbar": {
              "outlinewidth": 0,
              "ticks": ""
             }
            },
            "type": "scattergeo"
           }
          ],
          "scattergl": [
           {
            "marker": {
             "colorbar": {
              "outlinewidth": 0,
              "ticks": ""
             }
            },
            "type": "scattergl"
           }
          ],
          "scattermapbox": [
           {
            "marker": {
             "colorbar": {
              "outlinewidth": 0,
              "ticks": ""
             }
            },
            "type": "scattermapbox"
           }
          ],
          "scatterpolar": [
           {
            "marker": {
             "colorbar": {
              "outlinewidth": 0,
              "ticks": ""
             }
            },
            "type": "scatterpolar"
           }
          ],
          "scatterpolargl": [
           {
            "marker": {
             "colorbar": {
              "outlinewidth": 0,
              "ticks": ""
             }
            },
            "type": "scatterpolargl"
           }
          ],
          "scatterternary": [
           {
            "marker": {
             "colorbar": {
              "outlinewidth": 0,
              "ticks": ""
             }
            },
            "type": "scatterternary"
           }
          ],
          "surface": [
           {
            "colorbar": {
             "outlinewidth": 0,
             "ticks": ""
            },
            "colorscale": [
             [
              0,
              "#0d0887"
             ],
             [
              0.1111111111111111,
              "#46039f"
             ],
             [
              0.2222222222222222,
              "#7201a8"
             ],
             [
              0.3333333333333333,
              "#9c179e"
             ],
             [
              0.4444444444444444,
              "#bd3786"
             ],
             [
              0.5555555555555556,
              "#d8576b"
             ],
             [
              0.6666666666666666,
              "#ed7953"
             ],
             [
              0.7777777777777778,
              "#fb9f3a"
             ],
             [
              0.8888888888888888,
              "#fdca26"
             ],
             [
              1,
              "#f0f921"
             ]
            ],
            "type": "surface"
           }
          ],
          "table": [
           {
            "cells": {
             "fill": {
              "color": "#EBF0F8"
             },
             "line": {
              "color": "white"
             }
            },
            "header": {
             "fill": {
              "color": "#C8D4E3"
             },
             "line": {
              "color": "white"
             }
            },
            "type": "table"
           }
          ]
         },
         "layout": {
          "annotationdefaults": {
           "arrowcolor": "#2a3f5f",
           "arrowhead": 0,
           "arrowwidth": 1
          },
          "autotypenumbers": "strict",
          "coloraxis": {
           "colorbar": {
            "outlinewidth": 0,
            "ticks": ""
           }
          },
          "colorscale": {
           "diverging": [
            [
             0,
             "#8e0152"
            ],
            [
             0.1,
             "#c51b7d"
            ],
            [
             0.2,
             "#de77ae"
            ],
            [
             0.3,
             "#f1b6da"
            ],
            [
             0.4,
             "#fde0ef"
            ],
            [
             0.5,
             "#f7f7f7"
            ],
            [
             0.6,
             "#e6f5d0"
            ],
            [
             0.7,
             "#b8e186"
            ],
            [
             0.8,
             "#7fbc41"
            ],
            [
             0.9,
             "#4d9221"
            ],
            [
             1,
             "#276419"
            ]
           ],
           "sequential": [
            [
             0,
             "#0d0887"
            ],
            [
             0.1111111111111111,
             "#46039f"
            ],
            [
             0.2222222222222222,
             "#7201a8"
            ],
            [
             0.3333333333333333,
             "#9c179e"
            ],
            [
             0.4444444444444444,
             "#bd3786"
            ],
            [
             0.5555555555555556,
             "#d8576b"
            ],
            [
             0.6666666666666666,
             "#ed7953"
            ],
            [
             0.7777777777777778,
             "#fb9f3a"
            ],
            [
             0.8888888888888888,
             "#fdca26"
            ],
            [
             1,
             "#f0f921"
            ]
           ],
           "sequentialminus": [
            [
             0,
             "#0d0887"
            ],
            [
             0.1111111111111111,
             "#46039f"
            ],
            [
             0.2222222222222222,
             "#7201a8"
            ],
            [
             0.3333333333333333,
             "#9c179e"
            ],
            [
             0.4444444444444444,
             "#bd3786"
            ],
            [
             0.5555555555555556,
             "#d8576b"
            ],
            [
             0.6666666666666666,
             "#ed7953"
            ],
            [
             0.7777777777777778,
             "#fb9f3a"
            ],
            [
             0.8888888888888888,
             "#fdca26"
            ],
            [
             1,
             "#f0f921"
            ]
           ]
          },
          "colorway": [
           "#636efa",
           "#EF553B",
           "#00cc96",
           "#ab63fa",
           "#FFA15A",
           "#19d3f3",
           "#FF6692",
           "#B6E880",
           "#FF97FF",
           "#FECB52"
          ],
          "font": {
           "color": "#2a3f5f"
          },
          "geo": {
           "bgcolor": "white",
           "lakecolor": "white",
           "landcolor": "#E5ECF6",
           "showlakes": true,
           "showland": true,
           "subunitcolor": "white"
          },
          "hoverlabel": {
           "align": "left"
          },
          "hovermode": "closest",
          "mapbox": {
           "style": "light"
          },
          "paper_bgcolor": "white",
          "plot_bgcolor": "#E5ECF6",
          "polar": {
           "angularaxis": {
            "gridcolor": "white",
            "linecolor": "white",
            "ticks": ""
           },
           "bgcolor": "#E5ECF6",
           "radialaxis": {
            "gridcolor": "white",
            "linecolor": "white",
            "ticks": ""
           }
          },
          "scene": {
           "xaxis": {
            "backgroundcolor": "#E5ECF6",
            "gridcolor": "white",
            "gridwidth": 2,
            "linecolor": "white",
            "showbackground": true,
            "ticks": "",
            "zerolinecolor": "white"
           },
           "yaxis": {
            "backgroundcolor": "#E5ECF6",
            "gridcolor": "white",
            "gridwidth": 2,
            "linecolor": "white",
            "showbackground": true,
            "ticks": "",
            "zerolinecolor": "white"
           },
           "zaxis": {
            "backgroundcolor": "#E5ECF6",
            "gridcolor": "white",
            "gridwidth": 2,
            "linecolor": "white",
            "showbackground": true,
            "ticks": "",
            "zerolinecolor": "white"
           }
          },
          "shapedefaults": {
           "line": {
            "color": "#2a3f5f"
           }
          },
          "ternary": {
           "aaxis": {
            "gridcolor": "white",
            "linecolor": "white",
            "ticks": ""
           },
           "baxis": {
            "gridcolor": "white",
            "linecolor": "white",
            "ticks": ""
           },
           "bgcolor": "#E5ECF6",
           "caxis": {
            "gridcolor": "white",
            "linecolor": "white",
            "ticks": ""
           }
          },
          "title": {
           "x": 0.05
          },
          "xaxis": {
           "automargin": true,
           "gridcolor": "white",
           "linecolor": "white",
           "ticks": "",
           "title": {
            "standoff": 15
           },
           "zerolinecolor": "white",
           "zerolinewidth": 2
          },
          "yaxis": {
           "automargin": true,
           "gridcolor": "white",
           "linecolor": "white",
           "ticks": "",
           "title": {
            "standoff": 15
           },
           "zerolinecolor": "white",
           "zerolinewidth": 2
          }
         }
        },
        "title": {
         "text": "Sum of scores over positions"
        },
        "xaxis": {
         "anchor": "y",
         "domain": [
          0,
          1
         ],
         "title": {
          "text": "pos"
         }
        },
        "yaxis": {
         "anchor": "x",
         "domain": [
          0,
          1
         ],
         "title": {
          "text": "angry score"
         }
        }
       }
      },
      "text/html": [
       "<div>                            <div id=\"5abc1192-023a-4e96-bdc9-f6971cc9b4db\" class=\"plotly-graph-div\" style=\"height:525px; width:100%;\"></div>            <script type=\"text/javascript\">                require([\"plotly\"], function(Plotly) {                    window.PLOTLYENV=window.PLOTLYENV || {};                                    if (document.getElementById(\"5abc1192-023a-4e96-bdc9-f6971cc9b4db\")) {                    Plotly.newPlot(                        \"5abc1192-023a-4e96-bdc9-f6971cc9b4db\",                        [{\"hovertemplate\":\"pos=%{x}\\u003cbr\\u003eangry score=%{y}\\u003cextra\\u003e\\u003c\\u002fextra\\u003e\",\"legendgroup\":\"\",\"line\":{\"color\":\"#636efa\",\"dash\":\"solid\"},\"marker\":{\"symbol\":\"circle\"},\"mode\":\"lines+markers\",\"name\":\"\",\"orientation\":\"v\",\"showlegend\":false,\"x\":[\"\\u003c|endoftext|\\u003e\",\"I\",\" think\",\" you\",\"'re\"],\"xaxis\":\"x\",\"y\":[0.72998047,0.61572266,0.6904297,0.62890625,0.6645508],\"yaxis\":\"y\",\"type\":\"scatter\"}],                        {\"template\":{\"data\":{\"histogram2dcontour\":[{\"type\":\"histogram2dcontour\",\"colorbar\":{\"outlinewidth\":0,\"ticks\":\"\"},\"colorscale\":[[0.0,\"#0d0887\"],[0.1111111111111111,\"#46039f\"],[0.2222222222222222,\"#7201a8\"],[0.3333333333333333,\"#9c179e\"],[0.4444444444444444,\"#bd3786\"],[0.5555555555555556,\"#d8576b\"],[0.6666666666666666,\"#ed7953\"],[0.7777777777777778,\"#fb9f3a\"],[0.8888888888888888,\"#fdca26\"],[1.0,\"#f0f921\"]]}],\"choropleth\":[{\"type\":\"choropleth\",\"colorbar\":{\"outlinewidth\":0,\"ticks\":\"\"}}],\"histogram2d\":[{\"type\":\"histogram2d\",\"colorbar\":{\"outlinewidth\":0,\"ticks\":\"\"},\"colorscale\":[[0.0,\"#0d0887\"],[0.1111111111111111,\"#46039f\"],[0.2222222222222222,\"#7201a8\"],[0.3333333333333333,\"#9c179e\"],[0.4444444444444444,\"#bd3786\"],[0.5555555555555556,\"#d8576b\"],[0.6666666666666666,\"#ed7953\"],[0.7777777777777778,\"#fb9f3a\"],[0.8888888888888888,\"#fdca26\"],[1.0,\"#f0f921\"]]}],\"heatmap\":[{\"type\":\"heatmap\",\"colorbar\":{\"outlinewidth\":0,\"ticks\":\"\"},\"colorscale\":[[0.0,\"#0d0887\"],[0.1111111111111111,\"#46039f\"],[0.2222222222222222,\"#7201a8\"],[0.3333333333333333,\"#9c179e\"],[0.4444444444444444,\"#bd3786\"],[0.5555555555555556,\"#d8576b\"],[0.6666666666666666,\"#ed7953\"],[0.7777777777777778,\"#fb9f3a\"],[0.8888888888888888,\"#fdca26\"],[1.0,\"#f0f921\"]]}],\"heatmapgl\":[{\"type\":\"heatmapgl\",\"colorbar\":{\"outlinewidth\":0,\"ticks\":\"\"},\"colorscale\":[[0.0,\"#0d0887\"],[0.1111111111111111,\"#46039f\"],[0.2222222222222222,\"#7201a8\"],[0.3333333333333333,\"#9c179e\"],[0.4444444444444444,\"#bd3786\"],[0.5555555555555556,\"#d8576b\"],[0.6666666666666666,\"#ed7953\"],[0.7777777777777778,\"#fb9f3a\"],[0.8888888888888888,\"#fdca26\"],[1.0,\"#f0f921\"]]}],\"contourcarpet\":[{\"type\":\"contourcarpet\",\"colorbar\":{\"outlinewidth\":0,\"ticks\":\"\"}}],\"contour\":[{\"type\":\"contour\",\"colorbar\":{\"outlinewidth\":0,\"ticks\":\"\"},\"colorscale\":[[0.0,\"#0d0887\"],[0.1111111111111111,\"#46039f\"],[0.2222222222222222,\"#7201a8\"],[0.3333333333333333,\"#9c179e\"],[0.4444444444444444,\"#bd3786\"],[0.5555555555555556,\"#d8576b\"],[0.6666666666666666,\"#ed7953\"],[0.7777777777777778,\"#fb9f3a\"],[0.8888888888888888,\"#fdca26\"],[1.0,\"#f0f921\"]]}],\"surface\":[{\"type\":\"surface\",\"colorbar\":{\"outlinewidth\":0,\"ticks\":\"\"},\"colorscale\":[[0.0,\"#0d0887\"],[0.1111111111111111,\"#46039f\"],[0.2222222222222222,\"#7201a8\"],[0.3333333333333333,\"#9c179e\"],[0.4444444444444444,\"#bd3786\"],[0.5555555555555556,\"#d8576b\"],[0.6666666666666666,\"#ed7953\"],[0.7777777777777778,\"#fb9f3a\"],[0.8888888888888888,\"#fdca26\"],[1.0,\"#f0f921\"]]}],\"mesh3d\":[{\"type\":\"mesh3d\",\"colorbar\":{\"outlinewidth\":0,\"ticks\":\"\"}}],\"scatter\":[{\"fillpattern\":{\"fillmode\":\"overlay\",\"size\":10,\"solidity\":0.2},\"type\":\"scatter\"}],\"parcoords\":[{\"type\":\"parcoords\",\"line\":{\"colorbar\":{\"outlinewidth\":0,\"ticks\":\"\"}}}],\"scatterpolargl\":[{\"type\":\"scatterpolargl\",\"marker\":{\"colorbar\":{\"outlinewidth\":0,\"ticks\":\"\"}}}],\"bar\":[{\"error_x\":{\"color\":\"#2a3f5f\"},\"error_y\":{\"color\":\"#2a3f5f\"},\"marker\":{\"line\":{\"color\":\"#E5ECF6\",\"width\":0.5},\"pattern\":{\"fillmode\":\"overlay\",\"size\":10,\"solidity\":0.2}},\"type\":\"bar\"}],\"scattergeo\":[{\"type\":\"scattergeo\",\"marker\":{\"colorbar\":{\"outlinewidth\":0,\"ticks\":\"\"}}}],\"scatterpolar\":[{\"type\":\"scatterpolar\",\"marker\":{\"colorbar\":{\"outlinewidth\":0,\"ticks\":\"\"}}}],\"histogram\":[{\"marker\":{\"pattern\":{\"fillmode\":\"overlay\",\"size\":10,\"solidity\":0.2}},\"type\":\"histogram\"}],\"scattergl\":[{\"type\":\"scattergl\",\"marker\":{\"colorbar\":{\"outlinewidth\":0,\"ticks\":\"\"}}}],\"scatter3d\":[{\"type\":\"scatter3d\",\"line\":{\"colorbar\":{\"outlinewidth\":0,\"ticks\":\"\"}},\"marker\":{\"colorbar\":{\"outlinewidth\":0,\"ticks\":\"\"}}}],\"scattermapbox\":[{\"type\":\"scattermapbox\",\"marker\":{\"colorbar\":{\"outlinewidth\":0,\"ticks\":\"\"}}}],\"scatterternary\":[{\"type\":\"scatterternary\",\"marker\":{\"colorbar\":{\"outlinewidth\":0,\"ticks\":\"\"}}}],\"scattercarpet\":[{\"type\":\"scattercarpet\",\"marker\":{\"colorbar\":{\"outlinewidth\":0,\"ticks\":\"\"}}}],\"carpet\":[{\"aaxis\":{\"endlinecolor\":\"#2a3f5f\",\"gridcolor\":\"white\",\"linecolor\":\"white\",\"minorgridcolor\":\"white\",\"startlinecolor\":\"#2a3f5f\"},\"baxis\":{\"endlinecolor\":\"#2a3f5f\",\"gridcolor\":\"white\",\"linecolor\":\"white\",\"minorgridcolor\":\"white\",\"startlinecolor\":\"#2a3f5f\"},\"type\":\"carpet\"}],\"table\":[{\"cells\":{\"fill\":{\"color\":\"#EBF0F8\"},\"line\":{\"color\":\"white\"}},\"header\":{\"fill\":{\"color\":\"#C8D4E3\"},\"line\":{\"color\":\"white\"}},\"type\":\"table\"}],\"barpolar\":[{\"marker\":{\"line\":{\"color\":\"#E5ECF6\",\"width\":0.5},\"pattern\":{\"fillmode\":\"overlay\",\"size\":10,\"solidity\":0.2}},\"type\":\"barpolar\"}],\"pie\":[{\"automargin\":true,\"type\":\"pie\"}]},\"layout\":{\"autotypenumbers\":\"strict\",\"colorway\":[\"#636efa\",\"#EF553B\",\"#00cc96\",\"#ab63fa\",\"#FFA15A\",\"#19d3f3\",\"#FF6692\",\"#B6E880\",\"#FF97FF\",\"#FECB52\"],\"font\":{\"color\":\"#2a3f5f\"},\"hovermode\":\"closest\",\"hoverlabel\":{\"align\":\"left\"},\"paper_bgcolor\":\"white\",\"plot_bgcolor\":\"#E5ECF6\",\"polar\":{\"bgcolor\":\"#E5ECF6\",\"angularaxis\":{\"gridcolor\":\"white\",\"linecolor\":\"white\",\"ticks\":\"\"},\"radialaxis\":{\"gridcolor\":\"white\",\"linecolor\":\"white\",\"ticks\":\"\"}},\"ternary\":{\"bgcolor\":\"#E5ECF6\",\"aaxis\":{\"gridcolor\":\"white\",\"linecolor\":\"white\",\"ticks\":\"\"},\"baxis\":{\"gridcolor\":\"white\",\"linecolor\":\"white\",\"ticks\":\"\"},\"caxis\":{\"gridcolor\":\"white\",\"linecolor\":\"white\",\"ticks\":\"\"}},\"coloraxis\":{\"colorbar\":{\"outlinewidth\":0,\"ticks\":\"\"}},\"colorscale\":{\"sequential\":[[0.0,\"#0d0887\"],[0.1111111111111111,\"#46039f\"],[0.2222222222222222,\"#7201a8\"],[0.3333333333333333,\"#9c179e\"],[0.4444444444444444,\"#bd3786\"],[0.5555555555555556,\"#d8576b\"],[0.6666666666666666,\"#ed7953\"],[0.7777777777777778,\"#fb9f3a\"],[0.8888888888888888,\"#fdca26\"],[1.0,\"#f0f921\"]],\"sequentialminus\":[[0.0,\"#0d0887\"],[0.1111111111111111,\"#46039f\"],[0.2222222222222222,\"#7201a8\"],[0.3333333333333333,\"#9c179e\"],[0.4444444444444444,\"#bd3786\"],[0.5555555555555556,\"#d8576b\"],[0.6666666666666666,\"#ed7953\"],[0.7777777777777778,\"#fb9f3a\"],[0.8888888888888888,\"#fdca26\"],[1.0,\"#f0f921\"]],\"diverging\":[[0,\"#8e0152\"],[0.1,\"#c51b7d\"],[0.2,\"#de77ae\"],[0.3,\"#f1b6da\"],[0.4,\"#fde0ef\"],[0.5,\"#f7f7f7\"],[0.6,\"#e6f5d0\"],[0.7,\"#b8e186\"],[0.8,\"#7fbc41\"],[0.9,\"#4d9221\"],[1,\"#276419\"]]},\"xaxis\":{\"gridcolor\":\"white\",\"linecolor\":\"white\",\"ticks\":\"\",\"title\":{\"standoff\":15},\"zerolinecolor\":\"white\",\"automargin\":true,\"zerolinewidth\":2},\"yaxis\":{\"gridcolor\":\"white\",\"linecolor\":\"white\",\"ticks\":\"\",\"title\":{\"standoff\":15},\"zerolinecolor\":\"white\",\"automargin\":true,\"zerolinewidth\":2},\"scene\":{\"xaxis\":{\"backgroundcolor\":\"#E5ECF6\",\"gridcolor\":\"white\",\"linecolor\":\"white\",\"showbackground\":true,\"ticks\":\"\",\"zerolinecolor\":\"white\",\"gridwidth\":2},\"yaxis\":{\"backgroundcolor\":\"#E5ECF6\",\"gridcolor\":\"white\",\"linecolor\":\"white\",\"showbackground\":true,\"ticks\":\"\",\"zerolinecolor\":\"white\",\"gridwidth\":2},\"zaxis\":{\"backgroundcolor\":\"#E5ECF6\",\"gridcolor\":\"white\",\"linecolor\":\"white\",\"showbackground\":true,\"ticks\":\"\",\"zerolinecolor\":\"white\",\"gridwidth\":2}},\"shapedefaults\":{\"line\":{\"color\":\"#2a3f5f\"}},\"annotationdefaults\":{\"arrowcolor\":\"#2a3f5f\",\"arrowhead\":0,\"arrowwidth\":1},\"geo\":{\"bgcolor\":\"white\",\"landcolor\":\"#E5ECF6\",\"subunitcolor\":\"white\",\"showland\":true,\"showlakes\":true,\"lakecolor\":\"white\"},\"title\":{\"x\":0.05},\"mapbox\":{\"style\":\"light\"}}},\"xaxis\":{\"anchor\":\"y\",\"domain\":[0.0,1.0],\"title\":{\"text\":\"pos\"}},\"yaxis\":{\"anchor\":\"x\",\"domain\":[0.0,1.0],\"title\":{\"text\":\"angry score\"}},\"legend\":{\"tracegroupgap\":0},\"title\":{\"text\":\"Sum of scores over positions\"}},                        {\"responsive\": true}                    ).then(function(){\n",
       "                            \n",
       "var gd = document.getElementById('5abc1192-023a-4e96-bdc9-f6971cc9b4db');\n",
       "var x = new MutationObserver(function (mutations, observer) {{\n",
       "        var display = window.getComputedStyle(gd).display;\n",
       "        if (!display || display === 'none') {{\n",
       "            console.log([gd, 'removed!']);\n",
       "            Plotly.purge(gd);\n",
       "            observer.disconnect();\n",
       "        }}\n",
       "}});\n",
       "\n",
       "// Listen for the removal of the full notebook cells\n",
       "var notebookContainer = gd.closest('#notebook-container');\n",
       "if (notebookContainer) {{\n",
       "    x.observe(notebookContainer, {childList: true});\n",
       "}}\n",
       "\n",
       "// Listen for the clearing of the current output cell\n",
       "var outputEl = gd.closest('.output');\n",
       "if (outputEl) {{\n",
       "    x.observe(outputEl, {childList: true});\n",
       "}}\n",
       "\n",
       "                        })                };                });            </script>        </div>"
      ]
     },
     "metadata": {},
     "output_type": "display_data"
    }
   ],
   "source": [
    "sum_over_pos = score_matrix.mean(0)\n",
    "sum_over_pos.shape\n",
    "\n",
    "\n",
    "px.line(y=score_matrix[:, 2:].mean(1), x=x_labels, title=\"Sum of scores over positions\", markers=True, labels={'x': \"pos\", \"y\": \"angry score\"}).show()"
   ]
  },
  {
   "cell_type": "markdown",
   "metadata": {},
   "source": [
    "Compute model loss using pile-10k dataset"
   ]
  },
  {
   "cell_type": "code",
   "execution_count": 45,
   "metadata": {},
   "outputs": [
    {
     "name": "stdout",
     "output_type": "stream",
     "text": [
      "100\n"
     ]
    }
   ],
   "source": [
    "# load data manually to allow loading a subset of the data\n",
    "pile_data = load_dataset(\"NeelNanda/pile-10k\", split=\"train[:1%]\")\n",
    "# pile_data = pile_data.select(range(1)) # add this because my computer is extremely slow\n",
    "print(len(pile_data))\n",
    "\n",
    "dataset = utils.tokenize_and_concatenate(pile_data, model.tokenizer)\n",
    "data_loader = DataLoader(dataset, batch_size=1, shuffle=False, drop_last=True)"
   ]
  },
  {
   "cell_type": "code",
   "execution_count": 46,
   "metadata": {},
   "outputs": [
    {
     "name": "stderr",
     "output_type": "stream",
     "text": [
      "100%|██████████| 116/116 [00:02<00:00, 55.63it/s]"
     ]
    },
    {
     "name": "stdout",
     "output_type": "stream",
     "text": [
      "4.627064813827646\n"
     ]
    },
    {
     "name": "stderr",
     "output_type": "stream",
     "text": [
      "\n"
     ]
    }
   ],
   "source": [
    "# loss for original forward pass\n",
    "\n",
    "running_loss = 0\n",
    "total = 0\n",
    "max_length = 30\n",
    "for batch in tqdm.tqdm(data_loader):\n",
    "    loss = model(batch[\"tokens\"][:, :max_length].to(device), return_type=\"loss\").mean()\n",
    "    running_loss += loss.item()\n",
    "    total += 1\n",
    "    # print(loss)\n",
    "\n",
    "print(running_loss / total)"
   ]
  },
  {
   "cell_type": "code",
   "execution_count": 47,
   "metadata": {},
   "outputs": [
    {
     "data": {
      "text/plain": [
       "['<|endoftext|>',\n",
       " 'It',\n",
       " ' is',\n",
       " ' done',\n",
       " ',',\n",
       " ' and',\n",
       " ' submitted',\n",
       " '.',\n",
       " ' You',\n",
       " ' can',\n",
       " ' play',\n",
       " ' �',\n",
       " '�',\n",
       " 'Surv',\n",
       " 'ival',\n",
       " ' of',\n",
       " ' the',\n",
       " ' T',\n",
       " 'ast',\n",
       " 'iest',\n",
       " '�',\n",
       " '�',\n",
       " ' on',\n",
       " ' Android',\n",
       " ',',\n",
       " ' and',\n",
       " ' on',\n",
       " ' the',\n",
       " ' web',\n",
       " '.',\n",
       " ' Playing',\n",
       " ' on',\n",
       " ' the',\n",
       " ' web',\n",
       " ' works',\n",
       " ',',\n",
       " ' but',\n",
       " ' you',\n",
       " ' have',\n",
       " ' to',\n",
       " ' simulate',\n",
       " ' multi',\n",
       " '-',\n",
       " 'touch',\n",
       " ' for',\n",
       " ' table',\n",
       " ' moving',\n",
       " ' and',\n",
       " ' that',\n",
       " ' can',\n",
       " ' be',\n",
       " ' a',\n",
       " ' bit',\n",
       " ' confusing',\n",
       " '.',\n",
       " '\\n',\n",
       " '\\n',\n",
       " 'There',\n",
       " '�',\n",
       " '�',\n",
       " 's',\n",
       " ' a',\n",
       " ' lot',\n",
       " ' I',\n",
       " '�',\n",
       " '�',\n",
       " 'd',\n",
       " ' like',\n",
       " ' to',\n",
       " ' talk',\n",
       " ' about',\n",
       " '.',\n",
       " ' I',\n",
       " '�',\n",
       " '�',\n",
       " 'll',\n",
       " ' go',\n",
       " ' through',\n",
       " ' every',\n",
       " ' topic',\n",
       " ',',\n",
       " ' inst',\n",
       " 'ed',\n",
       " ' of',\n",
       " ' making',\n",
       " ' the',\n",
       " ' typical',\n",
       " ' what',\n",
       " ' went',\n",
       " ' right',\n",
       " '/',\n",
       " 'wrong',\n",
       " ' list',\n",
       " '.',\n",
       " '\\n',\n",
       " '\\n',\n",
       " 'Con',\n",
       " 'cept',\n",
       " '\\n',\n",
       " '\\n',\n",
       " 'Working',\n",
       " ' over',\n",
       " ' the',\n",
       " ' theme',\n",
       " ' was',\n",
       " ' probably',\n",
       " ' one',\n",
       " ' of',\n",
       " ' the',\n",
       " ' hardest',\n",
       " ' tasks',\n",
       " ' I',\n",
       " ' had',\n",
       " ' to',\n",
       " ' face',\n",
       " '.',\n",
       " '\\n',\n",
       " '\\n',\n",
       " 'Originally',\n",
       " ',',\n",
       " ' I',\n",
       " ' had',\n",
       " ' an',\n",
       " ' idea',\n",
       " ' of',\n",
       " ' what',\n",
       " ' kind',\n",
       " ' of',\n",
       " ' game',\n",
       " ' I',\n",
       " ' wanted',\n",
       " ' to',\n",
       " ' develop',\n",
       " ',',\n",
       " ' gameplay',\n",
       " ' wise',\n",
       " ' –',\n",
       " ' something',\n",
       " ' with',\n",
       " ' lots',\n",
       " ' of',\n",
       " ' enemies',\n",
       " '/',\n",
       " 'act',\n",
       " 'ors',\n",
       " ',',\n",
       " ' simple',\n",
       " ' graphics',\n",
       " ',',\n",
       " ' maybe',\n",
       " ' set',\n",
       " ' in',\n",
       " ' space',\n",
       " ',',\n",
       " ' controlled',\n",
       " ' from',\n",
       " ' a',\n",
       " ' top',\n",
       " '-',\n",
       " 'down',\n",
       " ' view',\n",
       " '.',\n",
       " ' I',\n",
       " ' was',\n",
       " ' confident',\n",
       " ' I',\n",
       " ' could',\n",
       " ' fit',\n",
       " ' any',\n",
       " ' theme',\n",
       " ' around',\n",
       " ' it',\n",
       " '.',\n",
       " '\\n',\n",
       " '\\n',\n",
       " 'In',\n",
       " ' the',\n",
       " ' end',\n",
       " ',',\n",
       " ' the',\n",
       " ' problem',\n",
       " ' with',\n",
       " ' a',\n",
       " ' theme',\n",
       " ' like',\n",
       " ' �',\n",
       " '�',\n",
       " 'Ev',\n",
       " 'olution',\n",
       " '�',\n",
       " '�',\n",
       " ' in',\n",
       " ' a',\n",
       " ' game',\n",
       " ' is',\n",
       " ' that',\n",
       " ' evolution',\n",
       " ' is',\n",
       " ' un',\n",
       " 'assisted',\n",
       " '.',\n",
       " ' It',\n",
       " ' happens',\n",
       " ' through',\n",
       " ' several',\n",
       " ' seemingly',\n",
       " ' random',\n",
       " ' mutations',\n",
       " ' over',\n",
       " ' time',\n",
       " ',',\n",
       " ' with',\n",
       " ' the',\n",
       " ' most',\n",
       " ' apt',\n",
       " ' perm',\n",
       " 'utation',\n",
       " ' surviving',\n",
       " '.',\n",
       " ' This',\n",
       " ' genetic',\n",
       " ' car',\n",
       " ' simulator',\n",
       " ' is',\n",
       " ',',\n",
       " ' in',\n",
       " ' my',\n",
       " ' opinion',\n",
       " ',',\n",
       " ' a',\n",
       " ' great',\n",
       " ' example',\n",
       " ' of',\n",
       " ' actual',\n",
       " ' evolution',\n",
       " ' of',\n",
       " ' a',\n",
       " ' species',\n",
       " ' facing',\n",
       " ' a',\n",
       " ' challenge',\n",
       " '.',\n",
       " ' But',\n",
       " ' is',\n",
       " ' it',\n",
       " ' a',\n",
       " ' game',\n",
       " '?',\n",
       " '\\n',\n",
       " '\\n',\n",
       " 'In',\n",
       " ' a',\n",
       " ' game',\n",
       " ',',\n",
       " ' you',\n",
       " ' need',\n",
       " ' to',\n",
       " ' control',\n",
       " ' something',\n",
       " ' to',\n",
       " ' reach',\n",
       " ' an',\n",
       " ' objective',\n",
       " '.',\n",
       " ' That',\n",
       " ' control',\n",
       " ' goes',\n",
       " ' against',\n",
       " ' what',\n",
       " ' evolution',\n",
       " ' is',\n",
       " ' supposed',\n",
       " ' to',\n",
       " ' be',\n",
       " ' like',\n",
       " '.',\n",
       " ' If',\n",
       " ' you',\n",
       " ' allow',\n",
       " ' the',\n",
       " ' user',\n",
       " ' to',\n",
       " ' pick',\n",
       " ' how',\n",
       " ' to',\n",
       " ' evolve',\n",
       " ' something',\n",
       " ',',\n",
       " ' it',\n",
       " '�',\n",
       " '�',\n",
       " 's',\n",
       " ' not',\n",
       " ' evolution',\n",
       " ' anymore',\n",
       " ' –',\n",
       " ' it',\n",
       " '�',\n",
       " '�',\n",
       " 's',\n",
       " ' the',\n",
       " ' equivalent',\n",
       " ' of',\n",
       " ' intelligent',\n",
       " ' design',\n",
       " ',',\n",
       " ' the',\n",
       " ' f',\n",
       " 'able',\n",
       " ' invented',\n",
       " ' by',\n",
       " ' creation',\n",
       " 'ists',\n",
       " ' to',\n",
       " ' combat',\n",
       " ' the',\n",
       " ' very',\n",
       " ' idea',\n",
       " ' of',\n",
       " ' evolution',\n",
       " '.',\n",
       " ' Being',\n",
       " ' ag',\n",
       " 'nostic',\n",
       " ' and',\n",
       " ' a',\n",
       " ' Past',\n",
       " 'af',\n",
       " 'arian',\n",
       " ',',\n",
       " ' that',\n",
       " '�',\n",
       " '�',\n",
       " 's',\n",
       " ' not',\n",
       " ' something',\n",
       " ' that',\n",
       " ' rubbed',\n",
       " ' me',\n",
       " ' the',\n",
       " ' right',\n",
       " ' way',\n",
       " '.',\n",
       " '\\n',\n",
       " '\\n',\n",
       " 'H',\n",
       " 'ence',\n",
       " ',',\n",
       " ' my',\n",
       " ' biggest',\n",
       " ' d',\n",
       " 'ille',\n",
       " 'ma',\n",
       " ' when',\n",
       " ' deciding',\n",
       " ' what',\n",
       " ' to',\n",
       " ' create',\n",
       " ' was',\n",
       " ' not',\n",
       " ' with',\n",
       " ' what',\n",
       " ' I',\n",
       " ' wanted',\n",
       " ' to',\n",
       " ' create',\n",
       " ',',\n",
       " ' but',\n",
       " ' with',\n",
       " ' what',\n",
       " ' I',\n",
       " ' did',\n",
       " ' not',\n",
       " '.',\n",
       " ' I',\n",
       " ' didn',\n",
       " '�',\n",
       " '�',\n",
       " 't',\n",
       " ' want',\n",
       " ' to',\n",
       " ' create',\n",
       " ' an',\n",
       " ' �',\n",
       " '�',\n",
       " 'int',\n",
       " 'elligent',\n",
       " ' design',\n",
       " '�',\n",
       " '�',\n",
       " ' simulator',\n",
       " ' and',\n",
       " ' wrongly',\n",
       " ' call',\n",
       " ' it',\n",
       " ' evolution',\n",
       " '.',\n",
       " '\\n',\n",
       " '\\n',\n",
       " 'This',\n",
       " ' is',\n",
       " ' a',\n",
       " ' problem',\n",
       " ',',\n",
       " ' of',\n",
       " ' course',\n",
       " ',',\n",
       " ' every',\n",
       " ' other',\n",
       " ' contestant',\n",
       " ' also',\n",
       " ' had',\n",
       " ' to',\n",
       " ' face',\n",
       " '.',\n",
       " ' And',\n",
       " ' judging',\n",
       " ' by',\n",
       " ' the',\n",
       " ' entries',\n",
       " ' submitted',\n",
       " ',',\n",
       " ' not',\n",
       " ' many',\n",
       " ' managed',\n",
       " ' to',\n",
       " ' work',\n",
       " ' around',\n",
       " ' it',\n",
       " '.',\n",
       " ' I',\n",
       " '�',\n",
       " '�',\n",
       " 'd',\n",
       " ' say',\n",
       " ' the',\n",
       " ' only',\n",
       " ' real',\n",
       " ' solution',\n",
       " ' was',\n",
       " ' through',\n",
       " ' the',\n",
       " ' use',\n",
       " ' of',\n",
       " ' artificial',\n",
       " ' selection',\n",
       " ',',\n",
       " ' somehow',\n",
       " '.',\n",
       " ' So',\n",
       " ' far',\n",
       " ',',\n",
       " ' I',\n",
       " ' haven',\n",
       " '�',\n",
       " '�',\n",
       " 't',\n",
       " ' seen',\n",
       " ' any',\n",
       " ' entry',\n",
       " ' using',\n",
       " ' this',\n",
       " ' at',\n",
       " ' its',\n",
       " ' core',\n",
       " ' gameplay',\n",
       " '.',\n",
       " '\\n',\n",
       " '\\n',\n",
       " 'Al',\n",
       " 'as',\n",
       " ',',\n",
       " ' this',\n",
       " ' is',\n",
       " ' just',\n",
       " ' a',\n",
       " ' fun',\n",
       " ' competition',\n",
       " ' and',\n",
       " ' after',\n",
       " ' a',\n",
       " ' while',\n",
       " ' I',\n",
       " ' decided',\n",
       " ' not',\n",
       " ' to',\n",
       " ' be',\n",
       " ' as',\n",
       " ' strict',\n",
       " ' with',\n",
       " ' the',\n",
       " ' game',\n",
       " ' idea',\n",
       " ',',\n",
       " ' and',\n",
       " ' allowed',\n",
       " ' myself',\n",
       " ' to',\n",
       " ' pick',\n",
       " ' whatever',\n",
       " ' I',\n",
       " ' thought',\n",
       " ' would',\n",
       " ' work',\n",
       " ' out',\n",
       " '.',\n",
       " '\\n',\n",
       " '\\n',\n",
       " 'My',\n",
       " ' initial',\n",
       " ' idea',\n",
       " ' was',\n",
       " ' to',\n",
       " ' create',\n",
       " ' something',\n",
       " ' where',\n",
       " ' humanity',\n",
       " ' tried',\n",
       " ' to',\n",
       " ' evolve',\n",
       " ' to',\n",
       " ' a',\n",
       " ' next',\n",
       " ' level',\n",
       " ' but',\n",
       " ' had',\n",
       " ' some',\n",
       " ' kind',\n",
       " ' of',\n",
       " ' foe',\n",
       " ' trying',\n",
       " ' to',\n",
       " ' stop',\n",
       " ' them',\n",
       " ' from',\n",
       " ' doing',\n",
       " ' so',\n",
       " '.',\n",
       " ' I',\n",
       " ' kind',\n",
       " ' of',\n",
       " ' had',\n",
       " ' this',\n",
       " ' image',\n",
       " ' of',\n",
       " ' human',\n",
       " ' souls',\n",
       " ' flying',\n",
       " ' in',\n",
       " ' space',\n",
       " ' towards',\n",
       " ' a',\n",
       " ' mon',\n",
       " 'olith',\n",
       " ' or',\n",
       " ' a',\n",
       " ' space',\n",
       " ' baby',\n",
       " ' (',\n",
       " 'all',\n",
       " ' based',\n",
       " ' in',\n",
       " ' 2001',\n",
       " ':',\n",
       " ' A',\n",
       " ' Space',\n",
       " ' Odyssey',\n",
       " ' of',\n",
       " ' course',\n",
       " ')',\n",
       " ' but',\n",
       " ' I',\n",
       " ' couldn',\n",
       " '�',\n",
       " '�',\n",
       " 't',\n",
       " ' think',\n",
       " ' of',\n",
       " ' compelling',\n",
       " ' (',\n",
       " 'read',\n",
       " ':',\n",
       " ' serious',\n",
       " ')',\n",
       " ' mechanics',\n",
       " ' for',\n",
       " ' that',\n",
       " '.',\n",
       " '\\n',\n",
       " '\\n',\n",
       " 'B',\n",
       " 'org',\n",
       " 's',\n",
       " ' were',\n",
       " ' my',\n",
       " ' next',\n",
       " ' inspiration',\n",
       " ',',\n",
       " ' as',\n",
       " ' their',\n",
       " ' whole',\n",
       " ' hypothesis',\n",
       " ' fit',\n",
       " ' pretty',\n",
       " ' well',\n",
       " ' into',\n",
       " ' the',\n",
       " ' evolution',\n",
       " ' theme',\n",
       " '.',\n",
       " ' But',\n",
       " ' how',\n",
       " ' to',\n",
       " ' make',\n",
       " ' it',\n",
       " ' work',\n",
       " '?',\n",
       " ' Are',\n",
       " ' you',\n",
       " ' the',\n",
       " ' b',\n",
       " 'org',\n",
       " ',',\n",
       " ' or',\n",
       " ' fighting',\n",
       " ' the',\n",
       " ' Borg',\n",
       " '?',\n",
       " '\\n',\n",
       " '\\n',\n",
       " 'The',\n",
       " ' third',\n",
       " ' and',\n",
       " ' final',\n",
       " ' idea',\n",
       " ' came',\n",
       " ' to',\n",
       " ' me',\n",
       " ' through',\n",
       " ' my',\n",
       " ' girlfriend',\n",
       " ',',\n",
       " ' who',\n",
       " ' somehow',\n",
       " ' gave',\n",
       " ' me',\n",
       " ' the',\n",
       " ' idea',\n",
       " ' of',\n",
       " ' making',\n",
       " ' something',\n",
       " ' about',\n",
       " ' the',\n",
       " ' evolution',\n",
       " ' of',\n",
       " ' Past',\n",
       " 'a',\n",
       " '.',\n",
       " ' The',\n",
       " ' more',\n",
       " ' I',\n",
       " ' thought',\n",
       " ' about',\n",
       " ' it',\n",
       " ' the',\n",
       " ' more',\n",
       " ' it',\n",
       " ' sounded',\n",
       " ' like',\n",
       " ' it',\n",
       " ' would',\n",
       " ' work',\n",
       " ',',\n",
       " ' so',\n",
       " ' I',\n",
       " ' decided',\n",
       " ' to',\n",
       " ' go',\n",
       " ' with',\n",
       " ' it',\n",
       " '.',\n",
       " '\\n',\n",
       " '\\n',\n",
       " 'Con',\n",
       " 'vers',\n",
       " 'ations',\n",
       " ' with',\n",
       " ' my',\n",
       " ' inspiring',\n",
       " ' co',\n",
       " '-',\n",
       " 'worker',\n",
       " ' R',\n",
       " 'ous',\n",
       " 'hey',\n",
       " ' (',\n",
       " 'who',\n",
       " ' also',\n",
       " ' created',\n",
       " ' the',\n",
       " ' �',\n",
       " '�',\n",
       " 'Mech',\n",
       " 'anical',\n",
       " ' Under',\n",
       " 'dogs',\n",
       " '�',\n",
       " '�',\n",
       " ' signature',\n",
       " ' logo',\n",
       " ' for',\n",
       " ' my',\n",
       " ' int',\n",
       " 'ros',\n",
       " ')',\n",
       " ' further',\n",
       " ' matured',\n",
       " ' the',\n",
       " ' concept',\n",
       " ',',\n",
       " ' as',\n",
       " ' it',\n",
       " ' involved',\n",
       " ' into',\n",
       " ' the',\n",
       " ' idea',\n",
       " ' of',\n",
       " ' having',\n",
       " ' ind',\n",
       " 'ividual',\n",
       " ' pieces',\n",
       " ' of',\n",
       " ' pasta',\n",
       " ' flying',\n",
       " ' around',\n",
       " ' and',\n",
       " ' trying',\n",
       " ' to',\n",
       " ' evolve',\n",
       " ' until',\n",
       " ' they',\n",
       " ' became',\n",
       " ' all',\n",
       " '-',\n",
       " 'powerful',\n",
       " '.',\n",
       " ' A',\n",
       " ' secondary',\n",
       " ' idea',\n",
       " ' here',\n",
       " ' was',\n",
       " ' that',\n",
       " ' the',\n",
       " ' game',\n",
       " ' would',\n",
       " ' work',\n",
       " ' to',\n",
       " ' explain',\n",
       " ' how',\n",
       " ' the',\n",
       " ' Flying',\n",
       " ' Sp',\n",
       " 'aghetti',\n",
       " ' Monster',\n",
       " ' came',\n",
       " ' to',\n",
       " ' exist',\n",
       " ' –',\n",
       " ' by',\n",
       " ' evolving',\n",
       " ' from',\n",
       " ' a',\n",
       " ' normal',\n",
       " ' dinner',\n",
       " ' table',\n",
       " '.',\n",
       " '\\n',\n",
       " '\\n',\n",
       " 'So',\n",
       " ' the',\n",
       " ' idea',\n",
       " ' evolved',\n",
       " ' more',\n",
       " ' or',\n",
       " ' less',\n",
       " ' into',\n",
       " ' this',\n",
       " ':',\n",
       " ' you',\n",
       " ' are',\n",
       " ' sitting',\n",
       " ' a',\n",
       " ' table',\n",
       " '.',\n",
       " ' You',\n",
       " ' have',\n",
       " ' your',\n",
       " ' own',\n",
       " ' plate',\n",
       " ',',\n",
       " ' with',\n",
       " ' is',\n",
       " ' your',\n",
       " ' �',\n",
       " '�',\n",
       " 'base',\n",
       " '�',\n",
       " '�',\n",
       " '.',\n",
       " ' There',\n",
       " ' are',\n",
       " ' 5',\n",
       " ' other',\n",
       " ' guests',\n",
       " ' at',\n",
       " ' the',\n",
       " ' table',\n",
       " ',',\n",
       " ' each',\n",
       " ' with',\n",
       " ' their',\n",
       " ' own',\n",
       " ' plate',\n",
       " '.',\n",
       " '\\n',\n",
       " '\\n',\n",
       " 'Your',\n",
       " ' plate',\n",
       " ' can',\n",
       " ' spawn',\n",
       " ' little',\n",
       " ' pieces',\n",
       " ' of',\n",
       " ' pasta',\n",
       " '.',\n",
       " ' You',\n",
       " ' do',\n",
       " ' so',\n",
       " ' by',\n",
       " ' �',\n",
       " '�',\n",
       " 'ordering',\n",
       " '�',\n",
       " '�',\n",
       " ' them',\n",
       " ' through',\n",
       " ' a',\n",
       " ' menu',\n",
       " '.',\n",
       " ' Some',\n",
       " ' past',\n",
       " 'as',\n",
       " ' are',\n",
       " ' better',\n",
       " ' than',\n",
       " ' others',\n",
       " ';',\n",
       " ' some',\n",
       " ' are',\n",
       " ' faster',\n",
       " ',',\n",
       " ' some',\n",
       " ' are',\n",
       " ' stronger',\n",
       " '.',\n",
       " ' They',\n",
       " ' have',\n",
       " ' varying',\n",
       " ' costs',\n",
       " ',',\n",
       " ' which',\n",
       " ' are',\n",
       " ' deb',\n",
       " 'ited',\n",
       " ' from',\n",
       " ' your',\n",
       " ' credits',\n",
       " ' (',\n",
       " 'you',\n",
       " ' start',\n",
       " ' with',\n",
       " ' a',\n",
       " ' number',\n",
       " ' of',\n",
       " ' credits',\n",
       " ').',\n",
       " '\\n',\n",
       " '\\n',\n",
       " 'Once',\n",
       " ' spawned',\n",
       " ',',\n",
       " ' your',\n",
       " ' past',\n",
       " 'as',\n",
       " ' start',\n",
       " ' flying',\n",
       " ' around',\n",
       " '.',\n",
       " ' Their',\n",
       " ' instinct',\n",
       " ' is',\n",
       " ' to',\n",
       " ' fly',\n",
       " ' to',\n",
       " ' other',\n",
       " ' plates',\n",
       " ',',\n",
       " ' in',\n",
       " ' order',\n",
       " ' to',\n",
       " ' conquer',\n",
       " ' them',\n",
       " ' (',\n",
       " 'the',\n",
       " ' objective',\n",
       " ' of',\n",
       " ' the',\n",
       " ' game',\n",
       " ' is',\n",
       " ' having',\n",
       " ' your',\n",
       " ' pasta',\n",
       " ' conquer',\n",
       " ' all',\n",
       " ' the',\n",
       " ' plates',\n",
       " ' on',\n",
       " ' the',\n",
       " ' table',\n",
       " ').',\n",
       " ' But',\n",
       " ' they',\n",
       " ' are',\n",
       " ' really',\n",
       " ' autonomous',\n",
       " ',',\n",
       " ' so',\n",
       " ' after',\n",
       " ' being',\n",
       " ' spawned',\n",
       " ',',\n",
       " ' you',\n",
       " ' have',\n",
       " ' no',\n",
       " ' control',\n",
       " ' over',\n",
       " ' your',\n",
       " ' pasta',\n",
       " ' (',\n",
       " 'think',\n",
       " ' Dot',\n",
       " 'A',\n",
       " ' or',\n",
       " ' Lo',\n",
       " 'L',\n",
       " ' creeps',\n",
       " ').',\n",
       " '\\n',\n",
       " '\\n',\n",
       " 'Your',\n",
       " ' pasta',\n",
       " ' doesn',\n",
       " '�',\n",
       " '�',\n",
       " 't',\n",
       " ' like',\n",
       " ' other',\n",
       " ' people',\n",
       " '�',\n",
       " '�',\n",
       " 's',\n",
       " ' pasta',\n",
       " ',',\n",
       " ' so',\n",
       " ' if',\n",
       " ' they',\n",
       " ' meet',\n",
       " ',',\n",
       " ' they',\n",
       " ' shoot',\n",
       " ' sauce',\n",
       " ' at',\n",
       " ' each',\n",
       " ' other',\n",
       " ' until',\n",
       " ' one',\n",
       " ' dies',\n",
       " '.',\n",
       " ' You',\n",
       " ' get',\n",
       " ' credits',\n",
       " ' for',\n",
       " ' other',\n",
       " ' past',\n",
       " 'as',\n",
       " ' your',\n",
       " ' own',\n",
       " ' pasta',\n",
       " ' kill',\n",
       " '.',\n",
       " ...]"
      ]
     },
     "execution_count": 47,
     "metadata": {},
     "output_type": "execute_result"
    }
   ],
   "source": [
    "d = next(iter(data_loader))\n",
    "model.to_str_tokens(d[\"tokens\"])"
   ]
  },
  {
   "cell_type": "code",
   "execution_count": 48,
   "metadata": {},
   "outputs": [
    {
     "name": "stderr",
     "output_type": "stream",
     "text": [
      "100%|██████████| 116/116 [00:02<00:00, 57.10it/s]\n"
     ]
    },
    {
     "name": "stdout",
     "output_type": "stream",
     "text": [
      "pos: 0, c: 0, loss: 4.6270647048950195\n"
     ]
    },
    {
     "name": "stderr",
     "output_type": "stream",
     "text": [
      "100%|██████████| 116/116 [00:02<00:00, 57.05it/s]\n"
     ]
    },
    {
     "name": "stdout",
     "output_type": "stream",
     "text": [
      "pos: 0, c: 0.5, loss: 4.619467258453369\n"
     ]
    },
    {
     "name": "stderr",
     "output_type": "stream",
     "text": [
      "100%|██████████| 116/116 [00:02<00:00, 56.15it/s]\n"
     ]
    },
    {
     "name": "stdout",
     "output_type": "stream",
     "text": [
      "pos: 0, c: 1, loss: 4.612154006958008\n"
     ]
    },
    {
     "name": "stderr",
     "output_type": "stream",
     "text": [
      "100%|██████████| 116/116 [00:02<00:00, 56.72it/s]\n"
     ]
    },
    {
     "name": "stdout",
     "output_type": "stream",
     "text": [
      "pos: 0, c: 5, loss: 4.593219757080078\n"
     ]
    },
    {
     "name": "stderr",
     "output_type": "stream",
     "text": [
      "100%|██████████| 116/116 [00:02<00:00, 56.80it/s]\n"
     ]
    },
    {
     "name": "stdout",
     "output_type": "stream",
     "text": [
      "pos: 0, c: 7, loss: 4.612366199493408\n"
     ]
    },
    {
     "name": "stderr",
     "output_type": "stream",
     "text": [
      "100%|██████████| 116/116 [00:02<00:00, 56.80it/s]\n"
     ]
    },
    {
     "name": "stdout",
     "output_type": "stream",
     "text": [
      "pos: 0, c: 10, loss: 4.652684688568115\n"
     ]
    },
    {
     "name": "stderr",
     "output_type": "stream",
     "text": [
      "100%|██████████| 116/116 [00:02<00:00, 57.21it/s]\n"
     ]
    },
    {
     "name": "stdout",
     "output_type": "stream",
     "text": [
      "pos: 0, c: 15, loss: 4.731049537658691\n"
     ]
    },
    {
     "name": "stderr",
     "output_type": "stream",
     "text": [
      "100%|██████████| 116/116 [00:02<00:00, 57.19it/s]\n"
     ]
    },
    {
     "name": "stdout",
     "output_type": "stream",
     "text": [
      "pos: 0, c: 20, loss: 4.834829330444336\n"
     ]
    },
    {
     "name": "stderr",
     "output_type": "stream",
     "text": [
      "100%|██████████| 116/116 [00:02<00:00, 56.15it/s]\n"
     ]
    },
    {
     "name": "stdout",
     "output_type": "stream",
     "text": [
      "pos: 0, c: 30, loss: 5.20871114730835\n"
     ]
    },
    {
     "name": "stderr",
     "output_type": "stream",
     "text": [
      "100%|██████████| 116/116 [00:02<00:00, 55.67it/s]\n"
     ]
    },
    {
     "name": "stdout",
     "output_type": "stream",
     "text": [
      "pos: 0, c: 50, loss: 6.623801231384277\n"
     ]
    },
    {
     "name": "stderr",
     "output_type": "stream",
     "text": [
      "100%|██████████| 116/116 [00:02<00:00, 57.07it/s]\n"
     ]
    },
    {
     "name": "stdout",
     "output_type": "stream",
     "text": [
      "pos: 1, c: 0, loss: 4.6270647048950195\n"
     ]
    },
    {
     "name": "stderr",
     "output_type": "stream",
     "text": [
      "100%|██████████| 116/116 [00:02<00:00, 57.28it/s]\n"
     ]
    },
    {
     "name": "stdout",
     "output_type": "stream",
     "text": [
      "pos: 1, c: 0.5, loss: 4.625704288482666\n"
     ]
    },
    {
     "name": "stderr",
     "output_type": "stream",
     "text": [
      "100%|██████████| 116/116 [00:02<00:00, 57.15it/s]\n"
     ]
    },
    {
     "name": "stdout",
     "output_type": "stream",
     "text": [
      "pos: 1, c: 1, loss: 4.624902725219727\n"
     ]
    },
    {
     "name": "stderr",
     "output_type": "stream",
     "text": [
      "100%|██████████| 116/116 [00:02<00:00, 57.20it/s]\n"
     ]
    },
    {
     "name": "stdout",
     "output_type": "stream",
     "text": [
      "pos: 1, c: 5, loss: 4.652102947235107\n"
     ]
    },
    {
     "name": "stderr",
     "output_type": "stream",
     "text": [
      "100%|██████████| 116/116 [00:02<00:00, 57.19it/s]\n"
     ]
    },
    {
     "name": "stdout",
     "output_type": "stream",
     "text": [
      "pos: 1, c: 7, loss: 4.686624050140381\n"
     ]
    },
    {
     "name": "stderr",
     "output_type": "stream",
     "text": [
      "100%|██████████| 116/116 [00:02<00:00, 57.20it/s]\n"
     ]
    },
    {
     "name": "stdout",
     "output_type": "stream",
     "text": [
      "pos: 1, c: 10, loss: 4.726689338684082\n"
     ]
    },
    {
     "name": "stderr",
     "output_type": "stream",
     "text": [
      "100%|██████████| 116/116 [00:02<00:00, 57.01it/s]\n"
     ]
    },
    {
     "name": "stdout",
     "output_type": "stream",
     "text": [
      "pos: 1, c: 15, loss: 4.773638725280762\n"
     ]
    },
    {
     "name": "stderr",
     "output_type": "stream",
     "text": [
      "100%|██████████| 116/116 [00:02<00:00, 56.98it/s]\n"
     ]
    },
    {
     "name": "stdout",
     "output_type": "stream",
     "text": [
      "pos: 1, c: 20, loss: 4.813216686248779\n"
     ]
    },
    {
     "name": "stderr",
     "output_type": "stream",
     "text": [
      "100%|██████████| 116/116 [00:02<00:00, 56.90it/s]\n"
     ]
    },
    {
     "name": "stdout",
     "output_type": "stream",
     "text": [
      "pos: 1, c: 30, loss: 4.8774237632751465\n"
     ]
    },
    {
     "name": "stderr",
     "output_type": "stream",
     "text": [
      "100%|██████████| 116/116 [00:02<00:00, 57.23it/s]\n"
     ]
    },
    {
     "name": "stdout",
     "output_type": "stream",
     "text": [
      "pos: 1, c: 50, loss: 4.970141887664795\n"
     ]
    },
    {
     "name": "stderr",
     "output_type": "stream",
     "text": [
      "100%|██████████| 116/116 [00:02<00:00, 56.79it/s]\n"
     ]
    },
    {
     "name": "stdout",
     "output_type": "stream",
     "text": [
      "pos: 2, c: 0, loss: 4.6270647048950195\n"
     ]
    },
    {
     "name": "stderr",
     "output_type": "stream",
     "text": [
      "100%|██████████| 116/116 [00:02<00:00, 56.80it/s]\n"
     ]
    },
    {
     "name": "stdout",
     "output_type": "stream",
     "text": [
      "pos: 2, c: 0.5, loss: 4.626372814178467\n"
     ]
    },
    {
     "name": "stderr",
     "output_type": "stream",
     "text": [
      "100%|██████████| 116/116 [00:02<00:00, 56.50it/s]\n"
     ]
    },
    {
     "name": "stdout",
     "output_type": "stream",
     "text": [
      "pos: 2, c: 1, loss: 4.626222133636475\n"
     ]
    },
    {
     "name": "stderr",
     "output_type": "stream",
     "text": [
      "100%|██████████| 116/116 [00:02<00:00, 56.47it/s]\n"
     ]
    },
    {
     "name": "stdout",
     "output_type": "stream",
     "text": [
      "pos: 2, c: 5, loss: 4.665950775146484\n"
     ]
    },
    {
     "name": "stderr",
     "output_type": "stream",
     "text": [
      "100%|██████████| 116/116 [00:02<00:00, 56.30it/s]\n"
     ]
    },
    {
     "name": "stdout",
     "output_type": "stream",
     "text": [
      "pos: 2, c: 7, loss: 4.703161239624023\n"
     ]
    },
    {
     "name": "stderr",
     "output_type": "stream",
     "text": [
      "100%|██████████| 116/116 [00:02<00:00, 56.34it/s]\n"
     ]
    },
    {
     "name": "stdout",
     "output_type": "stream",
     "text": [
      "pos: 2, c: 10, loss: 4.747038841247559\n"
     ]
    },
    {
     "name": "stderr",
     "output_type": "stream",
     "text": [
      "100%|██████████| 116/116 [00:02<00:00, 57.40it/s]\n"
     ]
    },
    {
     "name": "stdout",
     "output_type": "stream",
     "text": [
      "pos: 2, c: 15, loss: 4.796876907348633\n"
     ]
    },
    {
     "name": "stderr",
     "output_type": "stream",
     "text": [
      "100%|██████████| 116/116 [00:02<00:00, 56.87it/s]\n"
     ]
    },
    {
     "name": "stdout",
     "output_type": "stream",
     "text": [
      "pos: 2, c: 20, loss: 4.834746837615967\n"
     ]
    },
    {
     "name": "stderr",
     "output_type": "stream",
     "text": [
      "100%|██████████| 116/116 [00:02<00:00, 57.06it/s]\n"
     ]
    },
    {
     "name": "stdout",
     "output_type": "stream",
     "text": [
      "pos: 2, c: 30, loss: 4.892271995544434\n"
     ]
    },
    {
     "name": "stderr",
     "output_type": "stream",
     "text": [
      "100%|██████████| 116/116 [00:02<00:00, 56.20it/s]\n"
     ]
    },
    {
     "name": "stdout",
     "output_type": "stream",
     "text": [
      "pos: 2, c: 50, loss: 4.97376823425293\n"
     ]
    },
    {
     "name": "stderr",
     "output_type": "stream",
     "text": [
      "100%|██████████| 116/116 [00:02<00:00, 57.03it/s]\n"
     ]
    },
    {
     "name": "stdout",
     "output_type": "stream",
     "text": [
      "pos: 3, c: 0, loss: 4.6270647048950195\n"
     ]
    },
    {
     "name": "stderr",
     "output_type": "stream",
     "text": [
      "100%|██████████| 116/116 [00:02<00:00, 57.08it/s]\n"
     ]
    },
    {
     "name": "stdout",
     "output_type": "stream",
     "text": [
      "pos: 3, c: 0.5, loss: 4.626429557800293\n"
     ]
    },
    {
     "name": "stderr",
     "output_type": "stream",
     "text": [
      "100%|██████████| 116/116 [00:02<00:00, 56.83it/s]\n"
     ]
    },
    {
     "name": "stdout",
     "output_type": "stream",
     "text": [
      "pos: 3, c: 1, loss: 4.626209735870361\n"
     ]
    },
    {
     "name": "stderr",
     "output_type": "stream",
     "text": [
      "100%|██████████| 116/116 [00:02<00:00, 56.69it/s]\n"
     ]
    },
    {
     "name": "stdout",
     "output_type": "stream",
     "text": [
      "pos: 3, c: 5, loss: 4.667377948760986\n"
     ]
    },
    {
     "name": "stderr",
     "output_type": "stream",
     "text": [
      "100%|██████████| 116/116 [00:02<00:00, 57.01it/s]\n"
     ]
    },
    {
     "name": "stdout",
     "output_type": "stream",
     "text": [
      "pos: 3, c: 7, loss: 4.700442790985107\n"
     ]
    },
    {
     "name": "stderr",
     "output_type": "stream",
     "text": [
      "100%|██████████| 116/116 [00:02<00:00, 56.89it/s]\n"
     ]
    },
    {
     "name": "stdout",
     "output_type": "stream",
     "text": [
      "pos: 3, c: 10, loss: 4.741722106933594\n"
     ]
    },
    {
     "name": "stderr",
     "output_type": "stream",
     "text": [
      "100%|██████████| 116/116 [00:02<00:00, 56.29it/s]\n"
     ]
    },
    {
     "name": "stdout",
     "output_type": "stream",
     "text": [
      "pos: 3, c: 15, loss: 4.785483360290527\n"
     ]
    },
    {
     "name": "stderr",
     "output_type": "stream",
     "text": [
      "100%|██████████| 116/116 [00:02<00:00, 56.86it/s]\n"
     ]
    },
    {
     "name": "stdout",
     "output_type": "stream",
     "text": [
      "pos: 3, c: 20, loss: 4.819249629974365\n"
     ]
    },
    {
     "name": "stderr",
     "output_type": "stream",
     "text": [
      "100%|██████████| 116/116 [00:02<00:00, 56.82it/s]\n"
     ]
    },
    {
     "name": "stdout",
     "output_type": "stream",
     "text": [
      "pos: 3, c: 30, loss: 4.871582984924316\n"
     ]
    },
    {
     "name": "stderr",
     "output_type": "stream",
     "text": [
      "100%|██████████| 116/116 [00:02<00:00, 56.87it/s]\n"
     ]
    },
    {
     "name": "stdout",
     "output_type": "stream",
     "text": [
      "pos: 3, c: 50, loss: 4.948605537414551\n"
     ]
    },
    {
     "name": "stderr",
     "output_type": "stream",
     "text": [
      "100%|██████████| 116/116 [00:02<00:00, 56.91it/s]\n"
     ]
    },
    {
     "name": "stdout",
     "output_type": "stream",
     "text": [
      "pos: 4, c: 0, loss: 4.6270647048950195\n"
     ]
    },
    {
     "name": "stderr",
     "output_type": "stream",
     "text": [
      "100%|██████████| 116/116 [00:02<00:00, 57.17it/s]\n"
     ]
    },
    {
     "name": "stdout",
     "output_type": "stream",
     "text": [
      "pos: 4, c: 0.5, loss: 4.627649307250977\n"
     ]
    },
    {
     "name": "stderr",
     "output_type": "stream",
     "text": [
      "100%|██████████| 116/116 [00:02<00:00, 57.03it/s]\n"
     ]
    },
    {
     "name": "stdout",
     "output_type": "stream",
     "text": [
      "pos: 4, c: 1, loss: 4.628964424133301\n"
     ]
    },
    {
     "name": "stderr",
     "output_type": "stream",
     "text": [
      "100%|██████████| 116/116 [00:02<00:00, 55.95it/s]\n"
     ]
    },
    {
     "name": "stdout",
     "output_type": "stream",
     "text": [
      "pos: 4, c: 5, loss: 4.677468299865723\n"
     ]
    },
    {
     "name": "stderr",
     "output_type": "stream",
     "text": [
      "100%|██████████| 116/116 [00:02<00:00, 56.66it/s]\n"
     ]
    },
    {
     "name": "stdout",
     "output_type": "stream",
     "text": [
      "pos: 4, c: 7, loss: 4.713242053985596\n"
     ]
    },
    {
     "name": "stderr",
     "output_type": "stream",
     "text": [
      "100%|██████████| 116/116 [00:02<00:00, 56.44it/s]\n"
     ]
    },
    {
     "name": "stdout",
     "output_type": "stream",
     "text": [
      "pos: 4, c: 10, loss: 4.754469394683838\n"
     ]
    },
    {
     "name": "stderr",
     "output_type": "stream",
     "text": [
      "100%|██████████| 116/116 [00:02<00:00, 56.32it/s]\n"
     ]
    },
    {
     "name": "stdout",
     "output_type": "stream",
     "text": [
      "pos: 4, c: 15, loss: 4.798036575317383\n"
     ]
    },
    {
     "name": "stderr",
     "output_type": "stream",
     "text": [
      "100%|██████████| 116/116 [00:02<00:00, 56.36it/s]\n"
     ]
    },
    {
     "name": "stdout",
     "output_type": "stream",
     "text": [
      "pos: 4, c: 20, loss: 4.831392765045166\n"
     ]
    },
    {
     "name": "stderr",
     "output_type": "stream",
     "text": [
      "100%|██████████| 116/116 [00:02<00:00, 56.29it/s]\n"
     ]
    },
    {
     "name": "stdout",
     "output_type": "stream",
     "text": [
      "pos: 4, c: 30, loss: 4.884396553039551\n"
     ]
    },
    {
     "name": "stderr",
     "output_type": "stream",
     "text": [
      "100%|██████████| 116/116 [00:02<00:00, 56.21it/s]"
     ]
    },
    {
     "name": "stdout",
     "output_type": "stream",
     "text": [
      "pos: 4, c: 50, loss: 4.961891174316406\n"
     ]
    },
    {
     "name": "stderr",
     "output_type": "stream",
     "text": [
      "\n"
     ]
    }
   ],
   "source": [
    "# # Testing code calculating loss for fixed coef and pos\n",
    "# coef = 20\n",
    "# pos = 0\n",
    "\n",
    "# with model.hooks(fwd_hooks=[(hook_name, partial(residual_stream_patching_hook_sae, c=coef, pos=pos))]):\n",
    "#     running_loss = 0\n",
    "#     total = 0\n",
    "#     for batch in tqdm.tqdm(data_loader):\n",
    "#         loss = model(batch[\"tokens\"].to(device), return_type=\"loss\").mean()\n",
    "#         running_loss += loss.item()\n",
    "#         total += 1\n",
    "#         # print(loss)\n",
    "\n",
    "#     print(running_loss / total)\n",
    "\n",
    "\n",
    "loss_matrix = torch.zeros((n_positions, len(cs)))\n",
    "\n",
    "for pos in range(n_positions):\n",
    "    for ci, c in enumerate(cs):\n",
    "\n",
    "        with model.hooks(fwd_hooks=[(hook_name, partial(residual_stream_patching_hook_sae, c=c, pos=pos))]):\n",
    "            running_loss = 0\n",
    "            total = 0\n",
    "            for batch in tqdm.tqdm(data_loader):\n",
    "                loss = model(batch[\"tokens\"][:, :max_length].to(device), return_type=\"loss\").mean()\n",
    "                running_loss += loss.item()\n",
    "                total += 1\n",
    "                # print(loss)\n",
    "            \n",
    "            loss_matrix[pos, ci] = running_loss / total\n",
    "\n",
    "        print(f'pos: {pos}, c: {c}, loss: {loss_matrix[pos, ci]}')"
   ]
  },
  {
   "cell_type": "code",
   "execution_count": 49,
   "metadata": {},
   "outputs": [
    {
     "data": {
      "application/vnd.plotly.v1+json": {
       "config": {
        "plotlyServerURL": "https://plot.ly"
       },
       "data": [
        {
         "customdata": [
          [
           "pos_0",
           "0"
          ],
          [
           "pos_1",
           "0"
          ],
          [
           "pos_2",
           "0"
          ],
          [
           "pos_3",
           "0"
          ],
          [
           "pos_4",
           "0"
          ]
         ],
         "hovertemplate": "Coef=%{customdata[1]}<br>Loss=%{x}<br>Score=%{y}<br>Position=%{customdata[0]}<extra></extra>",
         "legendgroup": "0",
         "marker": {
          "color": "#636efa",
          "size": 10,
          "symbol": "circle"
         },
         "mode": "markers",
         "name": "0",
         "orientation": "v",
         "showlegend": true,
         "type": "scatter",
         "x": [
          4.6270647,
          4.6270647,
          4.6270647,
          4.6270647,
          4.6270647
         ],
         "xaxis": "x",
         "y": [
          0.53125,
          0.6328125,
          0.546875,
          0.52734375,
          0.5078125
         ],
         "yaxis": "y"
        },
        {
         "customdata": [
          [
           "pos_0",
           "0.5"
          ],
          [
           "pos_1",
           "0.5"
          ],
          [
           "pos_2",
           "0.5"
          ],
          [
           "pos_3",
           "0.5"
          ],
          [
           "pos_4",
           "0.5"
          ]
         ],
         "hovertemplate": "Coef=%{customdata[1]}<br>Loss=%{x}<br>Score=%{y}<br>Position=%{customdata[0]}<extra></extra>",
         "legendgroup": "0.5",
         "marker": {
          "color": "#EF553B",
          "size": 10,
          "symbol": "circle"
         },
         "mode": "markers",
         "name": "0.5",
         "orientation": "v",
         "showlegend": true,
         "type": "scatter",
         "x": [
          4.6194673,
          4.6257043,
          4.626373,
          4.6264296,
          4.6276493
         ],
         "xaxis": "x",
         "y": [
          0.51953125,
          0.60546875,
          0.5390625,
          0.5390625,
          0.53125
         ],
         "yaxis": "y"
        },
        {
         "customdata": [
          [
           "pos_0",
           "1"
          ],
          [
           "pos_1",
           "1"
          ],
          [
           "pos_2",
           "1"
          ],
          [
           "pos_3",
           "1"
          ],
          [
           "pos_4",
           "1"
          ]
         ],
         "hovertemplate": "Coef=%{customdata[1]}<br>Loss=%{x}<br>Score=%{y}<br>Position=%{customdata[0]}<extra></extra>",
         "legendgroup": "1",
         "marker": {
          "color": "#00cc96",
          "size": 10,
          "symbol": "circle"
         },
         "mode": "markers",
         "name": "1",
         "orientation": "v",
         "showlegend": true,
         "type": "scatter",
         "x": [
          4.612154,
          4.6249027,
          4.626222,
          4.6262097,
          4.6289644
         ],
         "xaxis": "x",
         "y": [
          0.57421875,
          0.5390625,
          0.59375,
          0.56640625,
          0.54296875
         ],
         "yaxis": "y"
        },
        {
         "customdata": [
          [
           "pos_0",
           "5"
          ],
          [
           "pos_1",
           "5"
          ],
          [
           "pos_2",
           "5"
          ],
          [
           "pos_3",
           "5"
          ],
          [
           "pos_4",
           "5"
          ]
         ],
         "hovertemplate": "Coef=%{customdata[1]}<br>Loss=%{x}<br>Score=%{y}<br>Position=%{customdata[0]}<extra></extra>",
         "legendgroup": "5",
         "marker": {
          "color": "#ab63fa",
          "size": 10,
          "symbol": "circle"
         },
         "mode": "markers",
         "name": "5",
         "orientation": "v",
         "showlegend": true,
         "type": "scatter",
         "x": [
          4.5932198,
          4.652103,
          4.665951,
          4.667378,
          4.6774683
         ],
         "xaxis": "x",
         "y": [
          0.58203125,
          0.6015625,
          0.62890625,
          0.5859375,
          0.59375
         ],
         "yaxis": "y"
        },
        {
         "customdata": [
          [
           "pos_0",
           "7"
          ],
          [
           "pos_1",
           "7"
          ],
          [
           "pos_2",
           "7"
          ],
          [
           "pos_3",
           "7"
          ],
          [
           "pos_4",
           "7"
          ]
         ],
         "hovertemplate": "Coef=%{customdata[1]}<br>Loss=%{x}<br>Score=%{y}<br>Position=%{customdata[0]}<extra></extra>",
         "legendgroup": "7",
         "marker": {
          "color": "#FFA15A",
          "size": 10,
          "symbol": "circle"
         },
         "mode": "markers",
         "name": "7",
         "orientation": "v",
         "showlegend": true,
         "type": "scatter",
         "x": [
          4.612366,
          4.686624,
          4.7031612,
          4.700443,
          4.713242
         ],
         "xaxis": "x",
         "y": [
          0.60546875,
          0.60546875,
          0.71484375,
          0.62109375,
          0.6484375
         ],
         "yaxis": "y"
        },
        {
         "customdata": [
          [
           "pos_0",
           "10"
          ],
          [
           "pos_1",
           "10"
          ],
          [
           "pos_2",
           "10"
          ],
          [
           "pos_3",
           "10"
          ],
          [
           "pos_4",
           "10"
          ]
         ],
         "hovertemplate": "Coef=%{customdata[1]}<br>Loss=%{x}<br>Score=%{y}<br>Position=%{customdata[0]}<extra></extra>",
         "legendgroup": "10",
         "marker": {
          "color": "#19d3f3",
          "size": 10,
          "symbol": "circle"
         },
         "mode": "markers",
         "name": "10",
         "orientation": "v",
         "showlegend": true,
         "type": "scatter",
         "x": [
          4.6526847,
          4.7266893,
          4.747039,
          4.741722,
          4.7544694
         ],
         "xaxis": "x",
         "y": [
          0.6328125,
          0.56640625,
          0.7109375,
          0.6484375,
          0.609375
         ],
         "yaxis": "y"
        },
        {
         "customdata": [
          [
           "pos_0",
           "15"
          ],
          [
           "pos_1",
           "15"
          ],
          [
           "pos_2",
           "15"
          ],
          [
           "pos_3",
           "15"
          ],
          [
           "pos_4",
           "15"
          ]
         ],
         "hovertemplate": "Coef=%{customdata[1]}<br>Loss=%{x}<br>Score=%{y}<br>Position=%{customdata[0]}<extra></extra>",
         "legendgroup": "15",
         "marker": {
          "color": "#FF6692",
          "size": 10,
          "symbol": "circle"
         },
         "mode": "markers",
         "name": "15",
         "orientation": "v",
         "showlegend": true,
         "type": "scatter",
         "x": [
          4.7310495,
          4.7736387,
          4.796877,
          4.7854834,
          4.7980366
         ],
         "xaxis": "x",
         "y": [
          0.6953125,
          0.63671875,
          0.71484375,
          0.609375,
          0.71484375
         ],
         "yaxis": "y"
        },
        {
         "customdata": [
          [
           "pos_0",
           "20"
          ],
          [
           "pos_1",
           "20"
          ],
          [
           "pos_2",
           "20"
          ],
          [
           "pos_3",
           "20"
          ],
          [
           "pos_4",
           "20"
          ]
         ],
         "hovertemplate": "Coef=%{customdata[1]}<br>Loss=%{x}<br>Score=%{y}<br>Position=%{customdata[0]}<extra></extra>",
         "legendgroup": "20",
         "marker": {
          "color": "#B6E880",
          "size": 10,
          "symbol": "circle"
         },
         "mode": "markers",
         "name": "20",
         "orientation": "v",
         "showlegend": true,
         "type": "scatter",
         "x": [
          4.8348293,
          4.8132167,
          4.834747,
          4.8192496,
          4.831393
         ],
         "xaxis": "x",
         "y": [
          0.78515625,
          0.671875,
          0.6875,
          0.6328125,
          0.7109375
         ],
         "yaxis": "y"
        },
        {
         "customdata": [
          [
           "pos_0",
           "30"
          ],
          [
           "pos_1",
           "30"
          ],
          [
           "pos_2",
           "30"
          ],
          [
           "pos_3",
           "30"
          ],
          [
           "pos_4",
           "30"
          ]
         ],
         "hovertemplate": "Coef=%{customdata[1]}<br>Loss=%{x}<br>Score=%{y}<br>Position=%{customdata[0]}<extra></extra>",
         "legendgroup": "30",
         "marker": {
          "color": "#FF97FF",
          "size": 10,
          "symbol": "circle"
         },
         "mode": "markers",
         "name": "30",
         "orientation": "v",
         "showlegend": true,
         "type": "scatter",
         "x": [
          5.208711,
          4.877424,
          4.892272,
          4.871583,
          4.8843966
         ],
         "xaxis": "x",
         "y": [
          0.96484375,
          0.61328125,
          0.7265625,
          0.65625,
          0.72265625
         ],
         "yaxis": "y"
        },
        {
         "customdata": [
          [
           "pos_0",
           "50"
          ],
          [
           "pos_1",
           "50"
          ],
          [
           "pos_2",
           "50"
          ],
          [
           "pos_3",
           "50"
          ],
          [
           "pos_4",
           "50"
          ]
         ],
         "hovertemplate": "Coef=%{customdata[1]}<br>Loss=%{x}<br>Score=%{y}<br>Position=%{customdata[0]}<extra></extra>",
         "legendgroup": "50",
         "marker": {
          "color": "#FECB52",
          "size": 10,
          "symbol": "circle"
         },
         "mode": "markers",
         "name": "50",
         "orientation": "v",
         "showlegend": true,
         "type": "scatter",
         "x": [
          6.623801,
          4.970142,
          4.973768,
          4.9486055,
          4.961891
         ],
         "xaxis": "x",
         "y": [
          1,
          0.69140625,
          0.74609375,
          0.7109375,
          0.7734375
         ],
         "yaxis": "y"
        }
       ],
       "layout": {
        "legend": {
         "title": {
          "text": "Coef"
         },
         "tracegroupgap": 0
        },
        "template": {
         "data": {
          "bar": [
           {
            "error_x": {
             "color": "#2a3f5f"
            },
            "error_y": {
             "color": "#2a3f5f"
            },
            "marker": {
             "line": {
              "color": "#E5ECF6",
              "width": 0.5
             },
             "pattern": {
              "fillmode": "overlay",
              "size": 10,
              "solidity": 0.2
             }
            },
            "type": "bar"
           }
          ],
          "barpolar": [
           {
            "marker": {
             "line": {
              "color": "#E5ECF6",
              "width": 0.5
             },
             "pattern": {
              "fillmode": "overlay",
              "size": 10,
              "solidity": 0.2
             }
            },
            "type": "barpolar"
           }
          ],
          "carpet": [
           {
            "aaxis": {
             "endlinecolor": "#2a3f5f",
             "gridcolor": "white",
             "linecolor": "white",
             "minorgridcolor": "white",
             "startlinecolor": "#2a3f5f"
            },
            "baxis": {
             "endlinecolor": "#2a3f5f",
             "gridcolor": "white",
             "linecolor": "white",
             "minorgridcolor": "white",
             "startlinecolor": "#2a3f5f"
            },
            "type": "carpet"
           }
          ],
          "choropleth": [
           {
            "colorbar": {
             "outlinewidth": 0,
             "ticks": ""
            },
            "type": "choropleth"
           }
          ],
          "contour": [
           {
            "colorbar": {
             "outlinewidth": 0,
             "ticks": ""
            },
            "colorscale": [
             [
              0,
              "#0d0887"
             ],
             [
              0.1111111111111111,
              "#46039f"
             ],
             [
              0.2222222222222222,
              "#7201a8"
             ],
             [
              0.3333333333333333,
              "#9c179e"
             ],
             [
              0.4444444444444444,
              "#bd3786"
             ],
             [
              0.5555555555555556,
              "#d8576b"
             ],
             [
              0.6666666666666666,
              "#ed7953"
             ],
             [
              0.7777777777777778,
              "#fb9f3a"
             ],
             [
              0.8888888888888888,
              "#fdca26"
             ],
             [
              1,
              "#f0f921"
             ]
            ],
            "type": "contour"
           }
          ],
          "contourcarpet": [
           {
            "colorbar": {
             "outlinewidth": 0,
             "ticks": ""
            },
            "type": "contourcarpet"
           }
          ],
          "heatmap": [
           {
            "colorbar": {
             "outlinewidth": 0,
             "ticks": ""
            },
            "colorscale": [
             [
              0,
              "#0d0887"
             ],
             [
              0.1111111111111111,
              "#46039f"
             ],
             [
              0.2222222222222222,
              "#7201a8"
             ],
             [
              0.3333333333333333,
              "#9c179e"
             ],
             [
              0.4444444444444444,
              "#bd3786"
             ],
             [
              0.5555555555555556,
              "#d8576b"
             ],
             [
              0.6666666666666666,
              "#ed7953"
             ],
             [
              0.7777777777777778,
              "#fb9f3a"
             ],
             [
              0.8888888888888888,
              "#fdca26"
             ],
             [
              1,
              "#f0f921"
             ]
            ],
            "type": "heatmap"
           }
          ],
          "heatmapgl": [
           {
            "colorbar": {
             "outlinewidth": 0,
             "ticks": ""
            },
            "colorscale": [
             [
              0,
              "#0d0887"
             ],
             [
              0.1111111111111111,
              "#46039f"
             ],
             [
              0.2222222222222222,
              "#7201a8"
             ],
             [
              0.3333333333333333,
              "#9c179e"
             ],
             [
              0.4444444444444444,
              "#bd3786"
             ],
             [
              0.5555555555555556,
              "#d8576b"
             ],
             [
              0.6666666666666666,
              "#ed7953"
             ],
             [
              0.7777777777777778,
              "#fb9f3a"
             ],
             [
              0.8888888888888888,
              "#fdca26"
             ],
             [
              1,
              "#f0f921"
             ]
            ],
            "type": "heatmapgl"
           }
          ],
          "histogram": [
           {
            "marker": {
             "pattern": {
              "fillmode": "overlay",
              "size": 10,
              "solidity": 0.2
             }
            },
            "type": "histogram"
           }
          ],
          "histogram2d": [
           {
            "colorbar": {
             "outlinewidth": 0,
             "ticks": ""
            },
            "colorscale": [
             [
              0,
              "#0d0887"
             ],
             [
              0.1111111111111111,
              "#46039f"
             ],
             [
              0.2222222222222222,
              "#7201a8"
             ],
             [
              0.3333333333333333,
              "#9c179e"
             ],
             [
              0.4444444444444444,
              "#bd3786"
             ],
             [
              0.5555555555555556,
              "#d8576b"
             ],
             [
              0.6666666666666666,
              "#ed7953"
             ],
             [
              0.7777777777777778,
              "#fb9f3a"
             ],
             [
              0.8888888888888888,
              "#fdca26"
             ],
             [
              1,
              "#f0f921"
             ]
            ],
            "type": "histogram2d"
           }
          ],
          "histogram2dcontour": [
           {
            "colorbar": {
             "outlinewidth": 0,
             "ticks": ""
            },
            "colorscale": [
             [
              0,
              "#0d0887"
             ],
             [
              0.1111111111111111,
              "#46039f"
             ],
             [
              0.2222222222222222,
              "#7201a8"
             ],
             [
              0.3333333333333333,
              "#9c179e"
             ],
             [
              0.4444444444444444,
              "#bd3786"
             ],
             [
              0.5555555555555556,
              "#d8576b"
             ],
             [
              0.6666666666666666,
              "#ed7953"
             ],
             [
              0.7777777777777778,
              "#fb9f3a"
             ],
             [
              0.8888888888888888,
              "#fdca26"
             ],
             [
              1,
              "#f0f921"
             ]
            ],
            "type": "histogram2dcontour"
           }
          ],
          "mesh3d": [
           {
            "colorbar": {
             "outlinewidth": 0,
             "ticks": ""
            },
            "type": "mesh3d"
           }
          ],
          "parcoords": [
           {
            "line": {
             "colorbar": {
              "outlinewidth": 0,
              "ticks": ""
             }
            },
            "type": "parcoords"
           }
          ],
          "pie": [
           {
            "automargin": true,
            "type": "pie"
           }
          ],
          "scatter": [
           {
            "fillpattern": {
             "fillmode": "overlay",
             "size": 10,
             "solidity": 0.2
            },
            "type": "scatter"
           }
          ],
          "scatter3d": [
           {
            "line": {
             "colorbar": {
              "outlinewidth": 0,
              "ticks": ""
             }
            },
            "marker": {
             "colorbar": {
              "outlinewidth": 0,
              "ticks": ""
             }
            },
            "type": "scatter3d"
           }
          ],
          "scattercarpet": [
           {
            "marker": {
             "colorbar": {
              "outlinewidth": 0,
              "ticks": ""
             }
            },
            "type": "scattercarpet"
           }
          ],
          "scattergeo": [
           {
            "marker": {
             "colorbar": {
              "outlinewidth": 0,
              "ticks": ""
             }
            },
            "type": "scattergeo"
           }
          ],
          "scattergl": [
           {
            "marker": {
             "colorbar": {
              "outlinewidth": 0,
              "ticks": ""
             }
            },
            "type": "scattergl"
           }
          ],
          "scattermapbox": [
           {
            "marker": {
             "colorbar": {
              "outlinewidth": 0,
              "ticks": ""
             }
            },
            "type": "scattermapbox"
           }
          ],
          "scatterpolar": [
           {
            "marker": {
             "colorbar": {
              "outlinewidth": 0,
              "ticks": ""
             }
            },
            "type": "scatterpolar"
           }
          ],
          "scatterpolargl": [
           {
            "marker": {
             "colorbar": {
              "outlinewidth": 0,
              "ticks": ""
             }
            },
            "type": "scatterpolargl"
           }
          ],
          "scatterternary": [
           {
            "marker": {
             "colorbar": {
              "outlinewidth": 0,
              "ticks": ""
             }
            },
            "type": "scatterternary"
           }
          ],
          "surface": [
           {
            "colorbar": {
             "outlinewidth": 0,
             "ticks": ""
            },
            "colorscale": [
             [
              0,
              "#0d0887"
             ],
             [
              0.1111111111111111,
              "#46039f"
             ],
             [
              0.2222222222222222,
              "#7201a8"
             ],
             [
              0.3333333333333333,
              "#9c179e"
             ],
             [
              0.4444444444444444,
              "#bd3786"
             ],
             [
              0.5555555555555556,
              "#d8576b"
             ],
             [
              0.6666666666666666,
              "#ed7953"
             ],
             [
              0.7777777777777778,
              "#fb9f3a"
             ],
             [
              0.8888888888888888,
              "#fdca26"
             ],
             [
              1,
              "#f0f921"
             ]
            ],
            "type": "surface"
           }
          ],
          "table": [
           {
            "cells": {
             "fill": {
              "color": "#EBF0F8"
             },
             "line": {
              "color": "white"
             }
            },
            "header": {
             "fill": {
              "color": "#C8D4E3"
             },
             "line": {
              "color": "white"
             }
            },
            "type": "table"
           }
          ]
         },
         "layout": {
          "annotationdefaults": {
           "arrowcolor": "#2a3f5f",
           "arrowhead": 0,
           "arrowwidth": 1
          },
          "autotypenumbers": "strict",
          "coloraxis": {
           "colorbar": {
            "outlinewidth": 0,
            "ticks": ""
           }
          },
          "colorscale": {
           "diverging": [
            [
             0,
             "#8e0152"
            ],
            [
             0.1,
             "#c51b7d"
            ],
            [
             0.2,
             "#de77ae"
            ],
            [
             0.3,
             "#f1b6da"
            ],
            [
             0.4,
             "#fde0ef"
            ],
            [
             0.5,
             "#f7f7f7"
            ],
            [
             0.6,
             "#e6f5d0"
            ],
            [
             0.7,
             "#b8e186"
            ],
            [
             0.8,
             "#7fbc41"
            ],
            [
             0.9,
             "#4d9221"
            ],
            [
             1,
             "#276419"
            ]
           ],
           "sequential": [
            [
             0,
             "#0d0887"
            ],
            [
             0.1111111111111111,
             "#46039f"
            ],
            [
             0.2222222222222222,
             "#7201a8"
            ],
            [
             0.3333333333333333,
             "#9c179e"
            ],
            [
             0.4444444444444444,
             "#bd3786"
            ],
            [
             0.5555555555555556,
             "#d8576b"
            ],
            [
             0.6666666666666666,
             "#ed7953"
            ],
            [
             0.7777777777777778,
             "#fb9f3a"
            ],
            [
             0.8888888888888888,
             "#fdca26"
            ],
            [
             1,
             "#f0f921"
            ]
           ],
           "sequentialminus": [
            [
             0,
             "#0d0887"
            ],
            [
             0.1111111111111111,
             "#46039f"
            ],
            [
             0.2222222222222222,
             "#7201a8"
            ],
            [
             0.3333333333333333,
             "#9c179e"
            ],
            [
             0.4444444444444444,
             "#bd3786"
            ],
            [
             0.5555555555555556,
             "#d8576b"
            ],
            [
             0.6666666666666666,
             "#ed7953"
            ],
            [
             0.7777777777777778,
             "#fb9f3a"
            ],
            [
             0.8888888888888888,
             "#fdca26"
            ],
            [
             1,
             "#f0f921"
            ]
           ]
          },
          "colorway": [
           "#636efa",
           "#EF553B",
           "#00cc96",
           "#ab63fa",
           "#FFA15A",
           "#19d3f3",
           "#FF6692",
           "#B6E880",
           "#FF97FF",
           "#FECB52"
          ],
          "font": {
           "color": "#2a3f5f"
          },
          "geo": {
           "bgcolor": "white",
           "lakecolor": "white",
           "landcolor": "#E5ECF6",
           "showlakes": true,
           "showland": true,
           "subunitcolor": "white"
          },
          "hoverlabel": {
           "align": "left"
          },
          "hovermode": "closest",
          "mapbox": {
           "style": "light"
          },
          "paper_bgcolor": "white",
          "plot_bgcolor": "#E5ECF6",
          "polar": {
           "angularaxis": {
            "gridcolor": "white",
            "linecolor": "white",
            "ticks": ""
           },
           "bgcolor": "#E5ECF6",
           "radialaxis": {
            "gridcolor": "white",
            "linecolor": "white",
            "ticks": ""
           }
          },
          "scene": {
           "xaxis": {
            "backgroundcolor": "#E5ECF6",
            "gridcolor": "white",
            "gridwidth": 2,
            "linecolor": "white",
            "showbackground": true,
            "ticks": "",
            "zerolinecolor": "white"
           },
           "yaxis": {
            "backgroundcolor": "#E5ECF6",
            "gridcolor": "white",
            "gridwidth": 2,
            "linecolor": "white",
            "showbackground": true,
            "ticks": "",
            "zerolinecolor": "white"
           },
           "zaxis": {
            "backgroundcolor": "#E5ECF6",
            "gridcolor": "white",
            "gridwidth": 2,
            "linecolor": "white",
            "showbackground": true,
            "ticks": "",
            "zerolinecolor": "white"
           }
          },
          "shapedefaults": {
           "line": {
            "color": "#2a3f5f"
           }
          },
          "ternary": {
           "aaxis": {
            "gridcolor": "white",
            "linecolor": "white",
            "ticks": ""
           },
           "baxis": {
            "gridcolor": "white",
            "linecolor": "white",
            "ticks": ""
           },
           "bgcolor": "#E5ECF6",
           "caxis": {
            "gridcolor": "white",
            "linecolor": "white",
            "ticks": ""
           }
          },
          "title": {
           "x": 0.05
          },
          "xaxis": {
           "automargin": true,
           "gridcolor": "white",
           "linecolor": "white",
           "ticks": "",
           "title": {
            "standoff": 15
           },
           "zerolinecolor": "white",
           "zerolinewidth": 2
          },
          "yaxis": {
           "automargin": true,
           "gridcolor": "white",
           "linecolor": "white",
           "ticks": "",
           "title": {
            "standoff": 15
           },
           "zerolinecolor": "white",
           "zerolinewidth": 2
          }
         }
        },
        "title": {
         "text": "Angry score vs Loss (Coef as color)"
        },
        "xaxis": {
         "anchor": "y",
         "domain": [
          0,
          1
         ],
         "title": {
          "text": "Loss"
         }
        },
        "yaxis": {
         "anchor": "x",
         "domain": [
          0,
          1
         ],
         "title": {
          "text": "Score"
         }
        }
       }
      },
      "text/html": [
       "<div>                            <div id=\"1742e5fc-ee75-435d-9f39-a99370a2a366\" class=\"plotly-graph-div\" style=\"height:525px; width:100%;\"></div>            <script type=\"text/javascript\">                require([\"plotly\"], function(Plotly) {                    window.PLOTLYENV=window.PLOTLYENV || {};                                    if (document.getElementById(\"1742e5fc-ee75-435d-9f39-a99370a2a366\")) {                    Plotly.newPlot(                        \"1742e5fc-ee75-435d-9f39-a99370a2a366\",                        [{\"customdata\":[[\"pos_0\",\"0\"],[\"pos_1\",\"0\"],[\"pos_2\",\"0\"],[\"pos_3\",\"0\"],[\"pos_4\",\"0\"]],\"hovertemplate\":\"Coef=%{customdata[1]}\\u003cbr\\u003eLoss=%{x}\\u003cbr\\u003eScore=%{y}\\u003cbr\\u003ePosition=%{customdata[0]}\\u003cextra\\u003e\\u003c\\u002fextra\\u003e\",\"legendgroup\":\"0\",\"marker\":{\"color\":\"#636efa\",\"symbol\":\"circle\",\"size\":10},\"mode\":\"markers\",\"name\":\"0\",\"orientation\":\"v\",\"showlegend\":true,\"x\":[4.6270647,4.6270647,4.6270647,4.6270647,4.6270647],\"xaxis\":\"x\",\"y\":[0.53125,0.6328125,0.546875,0.52734375,0.5078125],\"yaxis\":\"y\",\"type\":\"scatter\"},{\"customdata\":[[\"pos_0\",\"0.5\"],[\"pos_1\",\"0.5\"],[\"pos_2\",\"0.5\"],[\"pos_3\",\"0.5\"],[\"pos_4\",\"0.5\"]],\"hovertemplate\":\"Coef=%{customdata[1]}\\u003cbr\\u003eLoss=%{x}\\u003cbr\\u003eScore=%{y}\\u003cbr\\u003ePosition=%{customdata[0]}\\u003cextra\\u003e\\u003c\\u002fextra\\u003e\",\"legendgroup\":\"0.5\",\"marker\":{\"color\":\"#EF553B\",\"symbol\":\"circle\",\"size\":10},\"mode\":\"markers\",\"name\":\"0.5\",\"orientation\":\"v\",\"showlegend\":true,\"x\":[4.6194673,4.6257043,4.626373,4.6264296,4.6276493],\"xaxis\":\"x\",\"y\":[0.51953125,0.60546875,0.5390625,0.5390625,0.53125],\"yaxis\":\"y\",\"type\":\"scatter\"},{\"customdata\":[[\"pos_0\",\"1\"],[\"pos_1\",\"1\"],[\"pos_2\",\"1\"],[\"pos_3\",\"1\"],[\"pos_4\",\"1\"]],\"hovertemplate\":\"Coef=%{customdata[1]}\\u003cbr\\u003eLoss=%{x}\\u003cbr\\u003eScore=%{y}\\u003cbr\\u003ePosition=%{customdata[0]}\\u003cextra\\u003e\\u003c\\u002fextra\\u003e\",\"legendgroup\":\"1\",\"marker\":{\"color\":\"#00cc96\",\"symbol\":\"circle\",\"size\":10},\"mode\":\"markers\",\"name\":\"1\",\"orientation\":\"v\",\"showlegend\":true,\"x\":[4.612154,4.6249027,4.626222,4.6262097,4.6289644],\"xaxis\":\"x\",\"y\":[0.57421875,0.5390625,0.59375,0.56640625,0.54296875],\"yaxis\":\"y\",\"type\":\"scatter\"},{\"customdata\":[[\"pos_0\",\"5\"],[\"pos_1\",\"5\"],[\"pos_2\",\"5\"],[\"pos_3\",\"5\"],[\"pos_4\",\"5\"]],\"hovertemplate\":\"Coef=%{customdata[1]}\\u003cbr\\u003eLoss=%{x}\\u003cbr\\u003eScore=%{y}\\u003cbr\\u003ePosition=%{customdata[0]}\\u003cextra\\u003e\\u003c\\u002fextra\\u003e\",\"legendgroup\":\"5\",\"marker\":{\"color\":\"#ab63fa\",\"symbol\":\"circle\",\"size\":10},\"mode\":\"markers\",\"name\":\"5\",\"orientation\":\"v\",\"showlegend\":true,\"x\":[4.5932198,4.652103,4.665951,4.667378,4.6774683],\"xaxis\":\"x\",\"y\":[0.58203125,0.6015625,0.62890625,0.5859375,0.59375],\"yaxis\":\"y\",\"type\":\"scatter\"},{\"customdata\":[[\"pos_0\",\"7\"],[\"pos_1\",\"7\"],[\"pos_2\",\"7\"],[\"pos_3\",\"7\"],[\"pos_4\",\"7\"]],\"hovertemplate\":\"Coef=%{customdata[1]}\\u003cbr\\u003eLoss=%{x}\\u003cbr\\u003eScore=%{y}\\u003cbr\\u003ePosition=%{customdata[0]}\\u003cextra\\u003e\\u003c\\u002fextra\\u003e\",\"legendgroup\":\"7\",\"marker\":{\"color\":\"#FFA15A\",\"symbol\":\"circle\",\"size\":10},\"mode\":\"markers\",\"name\":\"7\",\"orientation\":\"v\",\"showlegend\":true,\"x\":[4.612366,4.686624,4.7031612,4.700443,4.713242],\"xaxis\":\"x\",\"y\":[0.60546875,0.60546875,0.71484375,0.62109375,0.6484375],\"yaxis\":\"y\",\"type\":\"scatter\"},{\"customdata\":[[\"pos_0\",\"10\"],[\"pos_1\",\"10\"],[\"pos_2\",\"10\"],[\"pos_3\",\"10\"],[\"pos_4\",\"10\"]],\"hovertemplate\":\"Coef=%{customdata[1]}\\u003cbr\\u003eLoss=%{x}\\u003cbr\\u003eScore=%{y}\\u003cbr\\u003ePosition=%{customdata[0]}\\u003cextra\\u003e\\u003c\\u002fextra\\u003e\",\"legendgroup\":\"10\",\"marker\":{\"color\":\"#19d3f3\",\"symbol\":\"circle\",\"size\":10},\"mode\":\"markers\",\"name\":\"10\",\"orientation\":\"v\",\"showlegend\":true,\"x\":[4.6526847,4.7266893,4.747039,4.741722,4.7544694],\"xaxis\":\"x\",\"y\":[0.6328125,0.56640625,0.7109375,0.6484375,0.609375],\"yaxis\":\"y\",\"type\":\"scatter\"},{\"customdata\":[[\"pos_0\",\"15\"],[\"pos_1\",\"15\"],[\"pos_2\",\"15\"],[\"pos_3\",\"15\"],[\"pos_4\",\"15\"]],\"hovertemplate\":\"Coef=%{customdata[1]}\\u003cbr\\u003eLoss=%{x}\\u003cbr\\u003eScore=%{y}\\u003cbr\\u003ePosition=%{customdata[0]}\\u003cextra\\u003e\\u003c\\u002fextra\\u003e\",\"legendgroup\":\"15\",\"marker\":{\"color\":\"#FF6692\",\"symbol\":\"circle\",\"size\":10},\"mode\":\"markers\",\"name\":\"15\",\"orientation\":\"v\",\"showlegend\":true,\"x\":[4.7310495,4.7736387,4.796877,4.7854834,4.7980366],\"xaxis\":\"x\",\"y\":[0.6953125,0.63671875,0.71484375,0.609375,0.71484375],\"yaxis\":\"y\",\"type\":\"scatter\"},{\"customdata\":[[\"pos_0\",\"20\"],[\"pos_1\",\"20\"],[\"pos_2\",\"20\"],[\"pos_3\",\"20\"],[\"pos_4\",\"20\"]],\"hovertemplate\":\"Coef=%{customdata[1]}\\u003cbr\\u003eLoss=%{x}\\u003cbr\\u003eScore=%{y}\\u003cbr\\u003ePosition=%{customdata[0]}\\u003cextra\\u003e\\u003c\\u002fextra\\u003e\",\"legendgroup\":\"20\",\"marker\":{\"color\":\"#B6E880\",\"symbol\":\"circle\",\"size\":10},\"mode\":\"markers\",\"name\":\"20\",\"orientation\":\"v\",\"showlegend\":true,\"x\":[4.8348293,4.8132167,4.834747,4.8192496,4.831393],\"xaxis\":\"x\",\"y\":[0.78515625,0.671875,0.6875,0.6328125,0.7109375],\"yaxis\":\"y\",\"type\":\"scatter\"},{\"customdata\":[[\"pos_0\",\"30\"],[\"pos_1\",\"30\"],[\"pos_2\",\"30\"],[\"pos_3\",\"30\"],[\"pos_4\",\"30\"]],\"hovertemplate\":\"Coef=%{customdata[1]}\\u003cbr\\u003eLoss=%{x}\\u003cbr\\u003eScore=%{y}\\u003cbr\\u003ePosition=%{customdata[0]}\\u003cextra\\u003e\\u003c\\u002fextra\\u003e\",\"legendgroup\":\"30\",\"marker\":{\"color\":\"#FF97FF\",\"symbol\":\"circle\",\"size\":10},\"mode\":\"markers\",\"name\":\"30\",\"orientation\":\"v\",\"showlegend\":true,\"x\":[5.208711,4.877424,4.892272,4.871583,4.8843966],\"xaxis\":\"x\",\"y\":[0.96484375,0.61328125,0.7265625,0.65625,0.72265625],\"yaxis\":\"y\",\"type\":\"scatter\"},{\"customdata\":[[\"pos_0\",\"50\"],[\"pos_1\",\"50\"],[\"pos_2\",\"50\"],[\"pos_3\",\"50\"],[\"pos_4\",\"50\"]],\"hovertemplate\":\"Coef=%{customdata[1]}\\u003cbr\\u003eLoss=%{x}\\u003cbr\\u003eScore=%{y}\\u003cbr\\u003ePosition=%{customdata[0]}\\u003cextra\\u003e\\u003c\\u002fextra\\u003e\",\"legendgroup\":\"50\",\"marker\":{\"color\":\"#FECB52\",\"symbol\":\"circle\",\"size\":10},\"mode\":\"markers\",\"name\":\"50\",\"orientation\":\"v\",\"showlegend\":true,\"x\":[6.623801,4.970142,4.973768,4.9486055,4.961891],\"xaxis\":\"x\",\"y\":[1.0,0.69140625,0.74609375,0.7109375,0.7734375],\"yaxis\":\"y\",\"type\":\"scatter\"}],                        {\"template\":{\"data\":{\"histogram2dcontour\":[{\"type\":\"histogram2dcontour\",\"colorbar\":{\"outlinewidth\":0,\"ticks\":\"\"},\"colorscale\":[[0.0,\"#0d0887\"],[0.1111111111111111,\"#46039f\"],[0.2222222222222222,\"#7201a8\"],[0.3333333333333333,\"#9c179e\"],[0.4444444444444444,\"#bd3786\"],[0.5555555555555556,\"#d8576b\"],[0.6666666666666666,\"#ed7953\"],[0.7777777777777778,\"#fb9f3a\"],[0.8888888888888888,\"#fdca26\"],[1.0,\"#f0f921\"]]}],\"choropleth\":[{\"type\":\"choropleth\",\"colorbar\":{\"outlinewidth\":0,\"ticks\":\"\"}}],\"histogram2d\":[{\"type\":\"histogram2d\",\"colorbar\":{\"outlinewidth\":0,\"ticks\":\"\"},\"colorscale\":[[0.0,\"#0d0887\"],[0.1111111111111111,\"#46039f\"],[0.2222222222222222,\"#7201a8\"],[0.3333333333333333,\"#9c179e\"],[0.4444444444444444,\"#bd3786\"],[0.5555555555555556,\"#d8576b\"],[0.6666666666666666,\"#ed7953\"],[0.7777777777777778,\"#fb9f3a\"],[0.8888888888888888,\"#fdca26\"],[1.0,\"#f0f921\"]]}],\"heatmap\":[{\"type\":\"heatmap\",\"colorbar\":{\"outlinewidth\":0,\"ticks\":\"\"},\"colorscale\":[[0.0,\"#0d0887\"],[0.1111111111111111,\"#46039f\"],[0.2222222222222222,\"#7201a8\"],[0.3333333333333333,\"#9c179e\"],[0.4444444444444444,\"#bd3786\"],[0.5555555555555556,\"#d8576b\"],[0.6666666666666666,\"#ed7953\"],[0.7777777777777778,\"#fb9f3a\"],[0.8888888888888888,\"#fdca26\"],[1.0,\"#f0f921\"]]}],\"heatmapgl\":[{\"type\":\"heatmapgl\",\"colorbar\":{\"outlinewidth\":0,\"ticks\":\"\"},\"colorscale\":[[0.0,\"#0d0887\"],[0.1111111111111111,\"#46039f\"],[0.2222222222222222,\"#7201a8\"],[0.3333333333333333,\"#9c179e\"],[0.4444444444444444,\"#bd3786\"],[0.5555555555555556,\"#d8576b\"],[0.6666666666666666,\"#ed7953\"],[0.7777777777777778,\"#fb9f3a\"],[0.8888888888888888,\"#fdca26\"],[1.0,\"#f0f921\"]]}],\"contourcarpet\":[{\"type\":\"contourcarpet\",\"colorbar\":{\"outlinewidth\":0,\"ticks\":\"\"}}],\"contour\":[{\"type\":\"contour\",\"colorbar\":{\"outlinewidth\":0,\"ticks\":\"\"},\"colorscale\":[[0.0,\"#0d0887\"],[0.1111111111111111,\"#46039f\"],[0.2222222222222222,\"#7201a8\"],[0.3333333333333333,\"#9c179e\"],[0.4444444444444444,\"#bd3786\"],[0.5555555555555556,\"#d8576b\"],[0.6666666666666666,\"#ed7953\"],[0.7777777777777778,\"#fb9f3a\"],[0.8888888888888888,\"#fdca26\"],[1.0,\"#f0f921\"]]}],\"surface\":[{\"type\":\"surface\",\"colorbar\":{\"outlinewidth\":0,\"ticks\":\"\"},\"colorscale\":[[0.0,\"#0d0887\"],[0.1111111111111111,\"#46039f\"],[0.2222222222222222,\"#7201a8\"],[0.3333333333333333,\"#9c179e\"],[0.4444444444444444,\"#bd3786\"],[0.5555555555555556,\"#d8576b\"],[0.6666666666666666,\"#ed7953\"],[0.7777777777777778,\"#fb9f3a\"],[0.8888888888888888,\"#fdca26\"],[1.0,\"#f0f921\"]]}],\"mesh3d\":[{\"type\":\"mesh3d\",\"colorbar\":{\"outlinewidth\":0,\"ticks\":\"\"}}],\"scatter\":[{\"fillpattern\":{\"fillmode\":\"overlay\",\"size\":10,\"solidity\":0.2},\"type\":\"scatter\"}],\"parcoords\":[{\"type\":\"parcoords\",\"line\":{\"colorbar\":{\"outlinewidth\":0,\"ticks\":\"\"}}}],\"scatterpolargl\":[{\"type\":\"scatterpolargl\",\"marker\":{\"colorbar\":{\"outlinewidth\":0,\"ticks\":\"\"}}}],\"bar\":[{\"error_x\":{\"color\":\"#2a3f5f\"},\"error_y\":{\"color\":\"#2a3f5f\"},\"marker\":{\"line\":{\"color\":\"#E5ECF6\",\"width\":0.5},\"pattern\":{\"fillmode\":\"overlay\",\"size\":10,\"solidity\":0.2}},\"type\":\"bar\"}],\"scattergeo\":[{\"type\":\"scattergeo\",\"marker\":{\"colorbar\":{\"outlinewidth\":0,\"ticks\":\"\"}}}],\"scatterpolar\":[{\"type\":\"scatterpolar\",\"marker\":{\"colorbar\":{\"outlinewidth\":0,\"ticks\":\"\"}}}],\"histogram\":[{\"marker\":{\"pattern\":{\"fillmode\":\"overlay\",\"size\":10,\"solidity\":0.2}},\"type\":\"histogram\"}],\"scattergl\":[{\"type\":\"scattergl\",\"marker\":{\"colorbar\":{\"outlinewidth\":0,\"ticks\":\"\"}}}],\"scatter3d\":[{\"type\":\"scatter3d\",\"line\":{\"colorbar\":{\"outlinewidth\":0,\"ticks\":\"\"}},\"marker\":{\"colorbar\":{\"outlinewidth\":0,\"ticks\":\"\"}}}],\"scattermapbox\":[{\"type\":\"scattermapbox\",\"marker\":{\"colorbar\":{\"outlinewidth\":0,\"ticks\":\"\"}}}],\"scatterternary\":[{\"type\":\"scatterternary\",\"marker\":{\"colorbar\":{\"outlinewidth\":0,\"ticks\":\"\"}}}],\"scattercarpet\":[{\"type\":\"scattercarpet\",\"marker\":{\"colorbar\":{\"outlinewidth\":0,\"ticks\":\"\"}}}],\"carpet\":[{\"aaxis\":{\"endlinecolor\":\"#2a3f5f\",\"gridcolor\":\"white\",\"linecolor\":\"white\",\"minorgridcolor\":\"white\",\"startlinecolor\":\"#2a3f5f\"},\"baxis\":{\"endlinecolor\":\"#2a3f5f\",\"gridcolor\":\"white\",\"linecolor\":\"white\",\"minorgridcolor\":\"white\",\"startlinecolor\":\"#2a3f5f\"},\"type\":\"carpet\"}],\"table\":[{\"cells\":{\"fill\":{\"color\":\"#EBF0F8\"},\"line\":{\"color\":\"white\"}},\"header\":{\"fill\":{\"color\":\"#C8D4E3\"},\"line\":{\"color\":\"white\"}},\"type\":\"table\"}],\"barpolar\":[{\"marker\":{\"line\":{\"color\":\"#E5ECF6\",\"width\":0.5},\"pattern\":{\"fillmode\":\"overlay\",\"size\":10,\"solidity\":0.2}},\"type\":\"barpolar\"}],\"pie\":[{\"automargin\":true,\"type\":\"pie\"}]},\"layout\":{\"autotypenumbers\":\"strict\",\"colorway\":[\"#636efa\",\"#EF553B\",\"#00cc96\",\"#ab63fa\",\"#FFA15A\",\"#19d3f3\",\"#FF6692\",\"#B6E880\",\"#FF97FF\",\"#FECB52\"],\"font\":{\"color\":\"#2a3f5f\"},\"hovermode\":\"closest\",\"hoverlabel\":{\"align\":\"left\"},\"paper_bgcolor\":\"white\",\"plot_bgcolor\":\"#E5ECF6\",\"polar\":{\"bgcolor\":\"#E5ECF6\",\"angularaxis\":{\"gridcolor\":\"white\",\"linecolor\":\"white\",\"ticks\":\"\"},\"radialaxis\":{\"gridcolor\":\"white\",\"linecolor\":\"white\",\"ticks\":\"\"}},\"ternary\":{\"bgcolor\":\"#E5ECF6\",\"aaxis\":{\"gridcolor\":\"white\",\"linecolor\":\"white\",\"ticks\":\"\"},\"baxis\":{\"gridcolor\":\"white\",\"linecolor\":\"white\",\"ticks\":\"\"},\"caxis\":{\"gridcolor\":\"white\",\"linecolor\":\"white\",\"ticks\":\"\"}},\"coloraxis\":{\"colorbar\":{\"outlinewidth\":0,\"ticks\":\"\"}},\"colorscale\":{\"sequential\":[[0.0,\"#0d0887\"],[0.1111111111111111,\"#46039f\"],[0.2222222222222222,\"#7201a8\"],[0.3333333333333333,\"#9c179e\"],[0.4444444444444444,\"#bd3786\"],[0.5555555555555556,\"#d8576b\"],[0.6666666666666666,\"#ed7953\"],[0.7777777777777778,\"#fb9f3a\"],[0.8888888888888888,\"#fdca26\"],[1.0,\"#f0f921\"]],\"sequentialminus\":[[0.0,\"#0d0887\"],[0.1111111111111111,\"#46039f\"],[0.2222222222222222,\"#7201a8\"],[0.3333333333333333,\"#9c179e\"],[0.4444444444444444,\"#bd3786\"],[0.5555555555555556,\"#d8576b\"],[0.6666666666666666,\"#ed7953\"],[0.7777777777777778,\"#fb9f3a\"],[0.8888888888888888,\"#fdca26\"],[1.0,\"#f0f921\"]],\"diverging\":[[0,\"#8e0152\"],[0.1,\"#c51b7d\"],[0.2,\"#de77ae\"],[0.3,\"#f1b6da\"],[0.4,\"#fde0ef\"],[0.5,\"#f7f7f7\"],[0.6,\"#e6f5d0\"],[0.7,\"#b8e186\"],[0.8,\"#7fbc41\"],[0.9,\"#4d9221\"],[1,\"#276419\"]]},\"xaxis\":{\"gridcolor\":\"white\",\"linecolor\":\"white\",\"ticks\":\"\",\"title\":{\"standoff\":15},\"zerolinecolor\":\"white\",\"automargin\":true,\"zerolinewidth\":2},\"yaxis\":{\"gridcolor\":\"white\",\"linecolor\":\"white\",\"ticks\":\"\",\"title\":{\"standoff\":15},\"zerolinecolor\":\"white\",\"automargin\":true,\"zerolinewidth\":2},\"scene\":{\"xaxis\":{\"backgroundcolor\":\"#E5ECF6\",\"gridcolor\":\"white\",\"linecolor\":\"white\",\"showbackground\":true,\"ticks\":\"\",\"zerolinecolor\":\"white\",\"gridwidth\":2},\"yaxis\":{\"backgroundcolor\":\"#E5ECF6\",\"gridcolor\":\"white\",\"linecolor\":\"white\",\"showbackground\":true,\"ticks\":\"\",\"zerolinecolor\":\"white\",\"gridwidth\":2},\"zaxis\":{\"backgroundcolor\":\"#E5ECF6\",\"gridcolor\":\"white\",\"linecolor\":\"white\",\"showbackground\":true,\"ticks\":\"\",\"zerolinecolor\":\"white\",\"gridwidth\":2}},\"shapedefaults\":{\"line\":{\"color\":\"#2a3f5f\"}},\"annotationdefaults\":{\"arrowcolor\":\"#2a3f5f\",\"arrowhead\":0,\"arrowwidth\":1},\"geo\":{\"bgcolor\":\"white\",\"landcolor\":\"#E5ECF6\",\"subunitcolor\":\"white\",\"showland\":true,\"showlakes\":true,\"lakecolor\":\"white\"},\"title\":{\"x\":0.05},\"mapbox\":{\"style\":\"light\"}}},\"xaxis\":{\"anchor\":\"y\",\"domain\":[0.0,1.0],\"title\":{\"text\":\"Loss\"}},\"yaxis\":{\"anchor\":\"x\",\"domain\":[0.0,1.0],\"title\":{\"text\":\"Score\"}},\"legend\":{\"title\":{\"text\":\"Coef\"},\"tracegroupgap\":0},\"title\":{\"text\":\"Angry score vs Loss (Coef as color)\"}},                        {\"responsive\": true}                    ).then(function(){\n",
       "                            \n",
       "var gd = document.getElementById('1742e5fc-ee75-435d-9f39-a99370a2a366');\n",
       "var x = new MutationObserver(function (mutations, observer) {{\n",
       "        var display = window.getComputedStyle(gd).display;\n",
       "        if (!display || display === 'none') {{\n",
       "            console.log([gd, 'removed!']);\n",
       "            Plotly.purge(gd);\n",
       "            observer.disconnect();\n",
       "        }}\n",
       "}});\n",
       "\n",
       "// Listen for the removal of the full notebook cells\n",
       "var notebookContainer = gd.closest('#notebook-container');\n",
       "if (notebookContainer) {{\n",
       "    x.observe(notebookContainer, {childList: true});\n",
       "}}\n",
       "\n",
       "// Listen for the clearing of the current output cell\n",
       "var outputEl = gd.closest('.output');\n",
       "if (outputEl) {{\n",
       "    x.observe(outputEl, {childList: true});\n",
       "}}\n",
       "\n",
       "                        })                };                });            </script>        </div>"
      ]
     },
     "metadata": {},
     "output_type": "display_data"
    },
    {
     "data": {
      "application/vnd.plotly.v1+json": {
       "config": {
        "plotlyServerURL": "https://plot.ly"
       },
       "data": [
        {
         "customdata": [
          [
           "pos_0",
           "0"
          ],
          [
           "pos_0",
           "0.5"
          ],
          [
           "pos_0",
           "1"
          ],
          [
           "pos_0",
           "5"
          ],
          [
           "pos_0",
           "7"
          ],
          [
           "pos_0",
           "10"
          ],
          [
           "pos_0",
           "15"
          ],
          [
           "pos_0",
           "20"
          ],
          [
           "pos_0",
           "30"
          ],
          [
           "pos_0",
           "50"
          ]
         ],
         "hovertemplate": "Position=%{customdata[0]}<br>Loss=%{x}<br>Score=%{y}<br>Coef=%{customdata[1]}<extra></extra>",
         "legendgroup": "pos_0",
         "marker": {
          "color": "#636efa",
          "size": 10,
          "symbol": "circle"
         },
         "mode": "lines+markers",
         "name": "pos_0",
         "orientation": "v",
         "showlegend": true,
         "type": "scatter",
         "x": [
          4.6270647,
          4.6194673,
          4.612154,
          4.5932198,
          4.612366,
          4.6526847,
          4.7310495,
          4.8348293,
          5.208711,
          6.623801
         ],
         "xaxis": "x",
         "y": [
          0.53125,
          0.51953125,
          0.57421875,
          0.58203125,
          0.60546875,
          0.6328125,
          0.6953125,
          0.78515625,
          0.96484375,
          1
         ],
         "yaxis": "y"
        },
        {
         "customdata": [
          [
           "pos_1",
           "0"
          ],
          [
           "pos_1",
           "0.5"
          ],
          [
           "pos_1",
           "1"
          ],
          [
           "pos_1",
           "5"
          ],
          [
           "pos_1",
           "7"
          ],
          [
           "pos_1",
           "10"
          ],
          [
           "pos_1",
           "15"
          ],
          [
           "pos_1",
           "20"
          ],
          [
           "pos_1",
           "30"
          ],
          [
           "pos_1",
           "50"
          ]
         ],
         "hovertemplate": "Position=%{customdata[0]}<br>Loss=%{x}<br>Score=%{y}<br>Coef=%{customdata[1]}<extra></extra>",
         "legendgroup": "pos_1",
         "marker": {
          "color": "#EF553B",
          "size": 10,
          "symbol": "circle"
         },
         "mode": "lines+markers",
         "name": "pos_1",
         "orientation": "v",
         "showlegend": true,
         "type": "scatter",
         "x": [
          4.6270647,
          4.6257043,
          4.6249027,
          4.652103,
          4.686624,
          4.7266893,
          4.7736387,
          4.8132167,
          4.877424,
          4.970142
         ],
         "xaxis": "x",
         "y": [
          0.6328125,
          0.60546875,
          0.5390625,
          0.6015625,
          0.60546875,
          0.56640625,
          0.63671875,
          0.671875,
          0.61328125,
          0.69140625
         ],
         "yaxis": "y"
        },
        {
         "customdata": [
          [
           "pos_2",
           "0"
          ],
          [
           "pos_2",
           "0.5"
          ],
          [
           "pos_2",
           "1"
          ],
          [
           "pos_2",
           "5"
          ],
          [
           "pos_2",
           "7"
          ],
          [
           "pos_2",
           "10"
          ],
          [
           "pos_2",
           "15"
          ],
          [
           "pos_2",
           "20"
          ],
          [
           "pos_2",
           "30"
          ],
          [
           "pos_2",
           "50"
          ]
         ],
         "hovertemplate": "Position=%{customdata[0]}<br>Loss=%{x}<br>Score=%{y}<br>Coef=%{customdata[1]}<extra></extra>",
         "legendgroup": "pos_2",
         "marker": {
          "color": "#00cc96",
          "size": 10,
          "symbol": "circle"
         },
         "mode": "lines+markers",
         "name": "pos_2",
         "orientation": "v",
         "showlegend": true,
         "type": "scatter",
         "x": [
          4.6270647,
          4.626373,
          4.626222,
          4.665951,
          4.7031612,
          4.747039,
          4.796877,
          4.834747,
          4.892272,
          4.973768
         ],
         "xaxis": "x",
         "y": [
          0.546875,
          0.5390625,
          0.59375,
          0.62890625,
          0.71484375,
          0.7109375,
          0.71484375,
          0.6875,
          0.7265625,
          0.74609375
         ],
         "yaxis": "y"
        },
        {
         "customdata": [
          [
           "pos_3",
           "0"
          ],
          [
           "pos_3",
           "0.5"
          ],
          [
           "pos_3",
           "1"
          ],
          [
           "pos_3",
           "5"
          ],
          [
           "pos_3",
           "7"
          ],
          [
           "pos_3",
           "10"
          ],
          [
           "pos_3",
           "15"
          ],
          [
           "pos_3",
           "20"
          ],
          [
           "pos_3",
           "30"
          ],
          [
           "pos_3",
           "50"
          ]
         ],
         "hovertemplate": "Position=%{customdata[0]}<br>Loss=%{x}<br>Score=%{y}<br>Coef=%{customdata[1]}<extra></extra>",
         "legendgroup": "pos_3",
         "marker": {
          "color": "#ab63fa",
          "size": 10,
          "symbol": "circle"
         },
         "mode": "lines+markers",
         "name": "pos_3",
         "orientation": "v",
         "showlegend": true,
         "type": "scatter",
         "x": [
          4.6270647,
          4.6264296,
          4.6262097,
          4.667378,
          4.700443,
          4.741722,
          4.7854834,
          4.8192496,
          4.871583,
          4.9486055
         ],
         "xaxis": "x",
         "y": [
          0.52734375,
          0.5390625,
          0.56640625,
          0.5859375,
          0.62109375,
          0.6484375,
          0.609375,
          0.6328125,
          0.65625,
          0.7109375
         ],
         "yaxis": "y"
        },
        {
         "customdata": [
          [
           "pos_4",
           "0"
          ],
          [
           "pos_4",
           "0.5"
          ],
          [
           "pos_4",
           "1"
          ],
          [
           "pos_4",
           "5"
          ],
          [
           "pos_4",
           "7"
          ],
          [
           "pos_4",
           "10"
          ],
          [
           "pos_4",
           "15"
          ],
          [
           "pos_4",
           "20"
          ],
          [
           "pos_4",
           "30"
          ],
          [
           "pos_4",
           "50"
          ]
         ],
         "hovertemplate": "Position=%{customdata[0]}<br>Loss=%{x}<br>Score=%{y}<br>Coef=%{customdata[1]}<extra></extra>",
         "legendgroup": "pos_4",
         "marker": {
          "color": "#FFA15A",
          "size": 10,
          "symbol": "circle"
         },
         "mode": "lines+markers",
         "name": "pos_4",
         "orientation": "v",
         "showlegend": true,
         "type": "scatter",
         "x": [
          4.6270647,
          4.6276493,
          4.6289644,
          4.6774683,
          4.713242,
          4.7544694,
          4.7980366,
          4.831393,
          4.8843966,
          4.961891
         ],
         "xaxis": "x",
         "y": [
          0.5078125,
          0.53125,
          0.54296875,
          0.59375,
          0.6484375,
          0.609375,
          0.71484375,
          0.7109375,
          0.72265625,
          0.7734375
         ],
         "yaxis": "y"
        }
       ],
       "layout": {
        "legend": {
         "title": {
          "text": "Position"
         },
         "tracegroupgap": 0
        },
        "template": {
         "data": {
          "bar": [
           {
            "error_x": {
             "color": "#2a3f5f"
            },
            "error_y": {
             "color": "#2a3f5f"
            },
            "marker": {
             "line": {
              "color": "#E5ECF6",
              "width": 0.5
             },
             "pattern": {
              "fillmode": "overlay",
              "size": 10,
              "solidity": 0.2
             }
            },
            "type": "bar"
           }
          ],
          "barpolar": [
           {
            "marker": {
             "line": {
              "color": "#E5ECF6",
              "width": 0.5
             },
             "pattern": {
              "fillmode": "overlay",
              "size": 10,
              "solidity": 0.2
             }
            },
            "type": "barpolar"
           }
          ],
          "carpet": [
           {
            "aaxis": {
             "endlinecolor": "#2a3f5f",
             "gridcolor": "white",
             "linecolor": "white",
             "minorgridcolor": "white",
             "startlinecolor": "#2a3f5f"
            },
            "baxis": {
             "endlinecolor": "#2a3f5f",
             "gridcolor": "white",
             "linecolor": "white",
             "minorgridcolor": "white",
             "startlinecolor": "#2a3f5f"
            },
            "type": "carpet"
           }
          ],
          "choropleth": [
           {
            "colorbar": {
             "outlinewidth": 0,
             "ticks": ""
            },
            "type": "choropleth"
           }
          ],
          "contour": [
           {
            "colorbar": {
             "outlinewidth": 0,
             "ticks": ""
            },
            "colorscale": [
             [
              0,
              "#0d0887"
             ],
             [
              0.1111111111111111,
              "#46039f"
             ],
             [
              0.2222222222222222,
              "#7201a8"
             ],
             [
              0.3333333333333333,
              "#9c179e"
             ],
             [
              0.4444444444444444,
              "#bd3786"
             ],
             [
              0.5555555555555556,
              "#d8576b"
             ],
             [
              0.6666666666666666,
              "#ed7953"
             ],
             [
              0.7777777777777778,
              "#fb9f3a"
             ],
             [
              0.8888888888888888,
              "#fdca26"
             ],
             [
              1,
              "#f0f921"
             ]
            ],
            "type": "contour"
           }
          ],
          "contourcarpet": [
           {
            "colorbar": {
             "outlinewidth": 0,
             "ticks": ""
            },
            "type": "contourcarpet"
           }
          ],
          "heatmap": [
           {
            "colorbar": {
             "outlinewidth": 0,
             "ticks": ""
            },
            "colorscale": [
             [
              0,
              "#0d0887"
             ],
             [
              0.1111111111111111,
              "#46039f"
             ],
             [
              0.2222222222222222,
              "#7201a8"
             ],
             [
              0.3333333333333333,
              "#9c179e"
             ],
             [
              0.4444444444444444,
              "#bd3786"
             ],
             [
              0.5555555555555556,
              "#d8576b"
             ],
             [
              0.6666666666666666,
              "#ed7953"
             ],
             [
              0.7777777777777778,
              "#fb9f3a"
             ],
             [
              0.8888888888888888,
              "#fdca26"
             ],
             [
              1,
              "#f0f921"
             ]
            ],
            "type": "heatmap"
           }
          ],
          "heatmapgl": [
           {
            "colorbar": {
             "outlinewidth": 0,
             "ticks": ""
            },
            "colorscale": [
             [
              0,
              "#0d0887"
             ],
             [
              0.1111111111111111,
              "#46039f"
             ],
             [
              0.2222222222222222,
              "#7201a8"
             ],
             [
              0.3333333333333333,
              "#9c179e"
             ],
             [
              0.4444444444444444,
              "#bd3786"
             ],
             [
              0.5555555555555556,
              "#d8576b"
             ],
             [
              0.6666666666666666,
              "#ed7953"
             ],
             [
              0.7777777777777778,
              "#fb9f3a"
             ],
             [
              0.8888888888888888,
              "#fdca26"
             ],
             [
              1,
              "#f0f921"
             ]
            ],
            "type": "heatmapgl"
           }
          ],
          "histogram": [
           {
            "marker": {
             "pattern": {
              "fillmode": "overlay",
              "size": 10,
              "solidity": 0.2
             }
            },
            "type": "histogram"
           }
          ],
          "histogram2d": [
           {
            "colorbar": {
             "outlinewidth": 0,
             "ticks": ""
            },
            "colorscale": [
             [
              0,
              "#0d0887"
             ],
             [
              0.1111111111111111,
              "#46039f"
             ],
             [
              0.2222222222222222,
              "#7201a8"
             ],
             [
              0.3333333333333333,
              "#9c179e"
             ],
             [
              0.4444444444444444,
              "#bd3786"
             ],
             [
              0.5555555555555556,
              "#d8576b"
             ],
             [
              0.6666666666666666,
              "#ed7953"
             ],
             [
              0.7777777777777778,
              "#fb9f3a"
             ],
             [
              0.8888888888888888,
              "#fdca26"
             ],
             [
              1,
              "#f0f921"
             ]
            ],
            "type": "histogram2d"
           }
          ],
          "histogram2dcontour": [
           {
            "colorbar": {
             "outlinewidth": 0,
             "ticks": ""
            },
            "colorscale": [
             [
              0,
              "#0d0887"
             ],
             [
              0.1111111111111111,
              "#46039f"
             ],
             [
              0.2222222222222222,
              "#7201a8"
             ],
             [
              0.3333333333333333,
              "#9c179e"
             ],
             [
              0.4444444444444444,
              "#bd3786"
             ],
             [
              0.5555555555555556,
              "#d8576b"
             ],
             [
              0.6666666666666666,
              "#ed7953"
             ],
             [
              0.7777777777777778,
              "#fb9f3a"
             ],
             [
              0.8888888888888888,
              "#fdca26"
             ],
             [
              1,
              "#f0f921"
             ]
            ],
            "type": "histogram2dcontour"
           }
          ],
          "mesh3d": [
           {
            "colorbar": {
             "outlinewidth": 0,
             "ticks": ""
            },
            "type": "mesh3d"
           }
          ],
          "parcoords": [
           {
            "line": {
             "colorbar": {
              "outlinewidth": 0,
              "ticks": ""
             }
            },
            "type": "parcoords"
           }
          ],
          "pie": [
           {
            "automargin": true,
            "type": "pie"
           }
          ],
          "scatter": [
           {
            "fillpattern": {
             "fillmode": "overlay",
             "size": 10,
             "solidity": 0.2
            },
            "type": "scatter"
           }
          ],
          "scatter3d": [
           {
            "line": {
             "colorbar": {
              "outlinewidth": 0,
              "ticks": ""
             }
            },
            "marker": {
             "colorbar": {
              "outlinewidth": 0,
              "ticks": ""
             }
            },
            "type": "scatter3d"
           }
          ],
          "scattercarpet": [
           {
            "marker": {
             "colorbar": {
              "outlinewidth": 0,
              "ticks": ""
             }
            },
            "type": "scattercarpet"
           }
          ],
          "scattergeo": [
           {
            "marker": {
             "colorbar": {
              "outlinewidth": 0,
              "ticks": ""
             }
            },
            "type": "scattergeo"
           }
          ],
          "scattergl": [
           {
            "marker": {
             "colorbar": {
              "outlinewidth": 0,
              "ticks": ""
             }
            },
            "type": "scattergl"
           }
          ],
          "scattermapbox": [
           {
            "marker": {
             "colorbar": {
              "outlinewidth": 0,
              "ticks": ""
             }
            },
            "type": "scattermapbox"
           }
          ],
          "scatterpolar": [
           {
            "marker": {
             "colorbar": {
              "outlinewidth": 0,
              "ticks": ""
             }
            },
            "type": "scatterpolar"
           }
          ],
          "scatterpolargl": [
           {
            "marker": {
             "colorbar": {
              "outlinewidth": 0,
              "ticks": ""
             }
            },
            "type": "scatterpolargl"
           }
          ],
          "scatterternary": [
           {
            "marker": {
             "colorbar": {
              "outlinewidth": 0,
              "ticks": ""
             }
            },
            "type": "scatterternary"
           }
          ],
          "surface": [
           {
            "colorbar": {
             "outlinewidth": 0,
             "ticks": ""
            },
            "colorscale": [
             [
              0,
              "#0d0887"
             ],
             [
              0.1111111111111111,
              "#46039f"
             ],
             [
              0.2222222222222222,
              "#7201a8"
             ],
             [
              0.3333333333333333,
              "#9c179e"
             ],
             [
              0.4444444444444444,
              "#bd3786"
             ],
             [
              0.5555555555555556,
              "#d8576b"
             ],
             [
              0.6666666666666666,
              "#ed7953"
             ],
             [
              0.7777777777777778,
              "#fb9f3a"
             ],
             [
              0.8888888888888888,
              "#fdca26"
             ],
             [
              1,
              "#f0f921"
             ]
            ],
            "type": "surface"
           }
          ],
          "table": [
           {
            "cells": {
             "fill": {
              "color": "#EBF0F8"
             },
             "line": {
              "color": "white"
             }
            },
            "header": {
             "fill": {
              "color": "#C8D4E3"
             },
             "line": {
              "color": "white"
             }
            },
            "type": "table"
           }
          ]
         },
         "layout": {
          "annotationdefaults": {
           "arrowcolor": "#2a3f5f",
           "arrowhead": 0,
           "arrowwidth": 1
          },
          "autotypenumbers": "strict",
          "coloraxis": {
           "colorbar": {
            "outlinewidth": 0,
            "ticks": ""
           }
          },
          "colorscale": {
           "diverging": [
            [
             0,
             "#8e0152"
            ],
            [
             0.1,
             "#c51b7d"
            ],
            [
             0.2,
             "#de77ae"
            ],
            [
             0.3,
             "#f1b6da"
            ],
            [
             0.4,
             "#fde0ef"
            ],
            [
             0.5,
             "#f7f7f7"
            ],
            [
             0.6,
             "#e6f5d0"
            ],
            [
             0.7,
             "#b8e186"
            ],
            [
             0.8,
             "#7fbc41"
            ],
            [
             0.9,
             "#4d9221"
            ],
            [
             1,
             "#276419"
            ]
           ],
           "sequential": [
            [
             0,
             "#0d0887"
            ],
            [
             0.1111111111111111,
             "#46039f"
            ],
            [
             0.2222222222222222,
             "#7201a8"
            ],
            [
             0.3333333333333333,
             "#9c179e"
            ],
            [
             0.4444444444444444,
             "#bd3786"
            ],
            [
             0.5555555555555556,
             "#d8576b"
            ],
            [
             0.6666666666666666,
             "#ed7953"
            ],
            [
             0.7777777777777778,
             "#fb9f3a"
            ],
            [
             0.8888888888888888,
             "#fdca26"
            ],
            [
             1,
             "#f0f921"
            ]
           ],
           "sequentialminus": [
            [
             0,
             "#0d0887"
            ],
            [
             0.1111111111111111,
             "#46039f"
            ],
            [
             0.2222222222222222,
             "#7201a8"
            ],
            [
             0.3333333333333333,
             "#9c179e"
            ],
            [
             0.4444444444444444,
             "#bd3786"
            ],
            [
             0.5555555555555556,
             "#d8576b"
            ],
            [
             0.6666666666666666,
             "#ed7953"
            ],
            [
             0.7777777777777778,
             "#fb9f3a"
            ],
            [
             0.8888888888888888,
             "#fdca26"
            ],
            [
             1,
             "#f0f921"
            ]
           ]
          },
          "colorway": [
           "#636efa",
           "#EF553B",
           "#00cc96",
           "#ab63fa",
           "#FFA15A",
           "#19d3f3",
           "#FF6692",
           "#B6E880",
           "#FF97FF",
           "#FECB52"
          ],
          "font": {
           "color": "#2a3f5f"
          },
          "geo": {
           "bgcolor": "white",
           "lakecolor": "white",
           "landcolor": "#E5ECF6",
           "showlakes": true,
           "showland": true,
           "subunitcolor": "white"
          },
          "hoverlabel": {
           "align": "left"
          },
          "hovermode": "closest",
          "mapbox": {
           "style": "light"
          },
          "paper_bgcolor": "white",
          "plot_bgcolor": "#E5ECF6",
          "polar": {
           "angularaxis": {
            "gridcolor": "white",
            "linecolor": "white",
            "ticks": ""
           },
           "bgcolor": "#E5ECF6",
           "radialaxis": {
            "gridcolor": "white",
            "linecolor": "white",
            "ticks": ""
           }
          },
          "scene": {
           "xaxis": {
            "backgroundcolor": "#E5ECF6",
            "gridcolor": "white",
            "gridwidth": 2,
            "linecolor": "white",
            "showbackground": true,
            "ticks": "",
            "zerolinecolor": "white"
           },
           "yaxis": {
            "backgroundcolor": "#E5ECF6",
            "gridcolor": "white",
            "gridwidth": 2,
            "linecolor": "white",
            "showbackground": true,
            "ticks": "",
            "zerolinecolor": "white"
           },
           "zaxis": {
            "backgroundcolor": "#E5ECF6",
            "gridcolor": "white",
            "gridwidth": 2,
            "linecolor": "white",
            "showbackground": true,
            "ticks": "",
            "zerolinecolor": "white"
           }
          },
          "shapedefaults": {
           "line": {
            "color": "#2a3f5f"
           }
          },
          "ternary": {
           "aaxis": {
            "gridcolor": "white",
            "linecolor": "white",
            "ticks": ""
           },
           "baxis": {
            "gridcolor": "white",
            "linecolor": "white",
            "ticks": ""
           },
           "bgcolor": "#E5ECF6",
           "caxis": {
            "gridcolor": "white",
            "linecolor": "white",
            "ticks": ""
           }
          },
          "title": {
           "x": 0.05
          },
          "xaxis": {
           "automargin": true,
           "gridcolor": "white",
           "linecolor": "white",
           "ticks": "",
           "title": {
            "standoff": 15
           },
           "zerolinecolor": "white",
           "zerolinewidth": 2
          },
          "yaxis": {
           "automargin": true,
           "gridcolor": "white",
           "linecolor": "white",
           "ticks": "",
           "title": {
            "standoff": 15
           },
           "zerolinecolor": "white",
           "zerolinewidth": 2
          }
         }
        },
        "title": {
         "text": "Angry score vs Loss (Position as color)"
        },
        "xaxis": {
         "anchor": "y",
         "domain": [
          0,
          1
         ],
         "title": {
          "text": "Loss"
         }
        },
        "yaxis": {
         "anchor": "x",
         "domain": [
          0,
          1
         ],
         "title": {
          "text": "Score"
         }
        }
       }
      },
      "text/html": [
       "<div>                            <div id=\"a7219204-5e2f-434c-b981-9b26cc33bcc3\" class=\"plotly-graph-div\" style=\"height:525px; width:100%;\"></div>            <script type=\"text/javascript\">                require([\"plotly\"], function(Plotly) {                    window.PLOTLYENV=window.PLOTLYENV || {};                                    if (document.getElementById(\"a7219204-5e2f-434c-b981-9b26cc33bcc3\")) {                    Plotly.newPlot(                        \"a7219204-5e2f-434c-b981-9b26cc33bcc3\",                        [{\"customdata\":[[\"pos_0\",\"0\"],[\"pos_0\",\"0.5\"],[\"pos_0\",\"1\"],[\"pos_0\",\"5\"],[\"pos_0\",\"7\"],[\"pos_0\",\"10\"],[\"pos_0\",\"15\"],[\"pos_0\",\"20\"],[\"pos_0\",\"30\"],[\"pos_0\",\"50\"]],\"hovertemplate\":\"Position=%{customdata[0]}\\u003cbr\\u003eLoss=%{x}\\u003cbr\\u003eScore=%{y}\\u003cbr\\u003eCoef=%{customdata[1]}\\u003cextra\\u003e\\u003c\\u002fextra\\u003e\",\"legendgroup\":\"pos_0\",\"marker\":{\"color\":\"#636efa\",\"symbol\":\"circle\",\"size\":10},\"mode\":\"lines+markers\",\"name\":\"pos_0\",\"orientation\":\"v\",\"showlegend\":true,\"x\":[4.6270647,4.6194673,4.612154,4.5932198,4.612366,4.6526847,4.7310495,4.8348293,5.208711,6.623801],\"xaxis\":\"x\",\"y\":[0.53125,0.51953125,0.57421875,0.58203125,0.60546875,0.6328125,0.6953125,0.78515625,0.96484375,1.0],\"yaxis\":\"y\",\"type\":\"scatter\"},{\"customdata\":[[\"pos_1\",\"0\"],[\"pos_1\",\"0.5\"],[\"pos_1\",\"1\"],[\"pos_1\",\"5\"],[\"pos_1\",\"7\"],[\"pos_1\",\"10\"],[\"pos_1\",\"15\"],[\"pos_1\",\"20\"],[\"pos_1\",\"30\"],[\"pos_1\",\"50\"]],\"hovertemplate\":\"Position=%{customdata[0]}\\u003cbr\\u003eLoss=%{x}\\u003cbr\\u003eScore=%{y}\\u003cbr\\u003eCoef=%{customdata[1]}\\u003cextra\\u003e\\u003c\\u002fextra\\u003e\",\"legendgroup\":\"pos_1\",\"marker\":{\"color\":\"#EF553B\",\"symbol\":\"circle\",\"size\":10},\"mode\":\"lines+markers\",\"name\":\"pos_1\",\"orientation\":\"v\",\"showlegend\":true,\"x\":[4.6270647,4.6257043,4.6249027,4.652103,4.686624,4.7266893,4.7736387,4.8132167,4.877424,4.970142],\"xaxis\":\"x\",\"y\":[0.6328125,0.60546875,0.5390625,0.6015625,0.60546875,0.56640625,0.63671875,0.671875,0.61328125,0.69140625],\"yaxis\":\"y\",\"type\":\"scatter\"},{\"customdata\":[[\"pos_2\",\"0\"],[\"pos_2\",\"0.5\"],[\"pos_2\",\"1\"],[\"pos_2\",\"5\"],[\"pos_2\",\"7\"],[\"pos_2\",\"10\"],[\"pos_2\",\"15\"],[\"pos_2\",\"20\"],[\"pos_2\",\"30\"],[\"pos_2\",\"50\"]],\"hovertemplate\":\"Position=%{customdata[0]}\\u003cbr\\u003eLoss=%{x}\\u003cbr\\u003eScore=%{y}\\u003cbr\\u003eCoef=%{customdata[1]}\\u003cextra\\u003e\\u003c\\u002fextra\\u003e\",\"legendgroup\":\"pos_2\",\"marker\":{\"color\":\"#00cc96\",\"symbol\":\"circle\",\"size\":10},\"mode\":\"lines+markers\",\"name\":\"pos_2\",\"orientation\":\"v\",\"showlegend\":true,\"x\":[4.6270647,4.626373,4.626222,4.665951,4.7031612,4.747039,4.796877,4.834747,4.892272,4.973768],\"xaxis\":\"x\",\"y\":[0.546875,0.5390625,0.59375,0.62890625,0.71484375,0.7109375,0.71484375,0.6875,0.7265625,0.74609375],\"yaxis\":\"y\",\"type\":\"scatter\"},{\"customdata\":[[\"pos_3\",\"0\"],[\"pos_3\",\"0.5\"],[\"pos_3\",\"1\"],[\"pos_3\",\"5\"],[\"pos_3\",\"7\"],[\"pos_3\",\"10\"],[\"pos_3\",\"15\"],[\"pos_3\",\"20\"],[\"pos_3\",\"30\"],[\"pos_3\",\"50\"]],\"hovertemplate\":\"Position=%{customdata[0]}\\u003cbr\\u003eLoss=%{x}\\u003cbr\\u003eScore=%{y}\\u003cbr\\u003eCoef=%{customdata[1]}\\u003cextra\\u003e\\u003c\\u002fextra\\u003e\",\"legendgroup\":\"pos_3\",\"marker\":{\"color\":\"#ab63fa\",\"symbol\":\"circle\",\"size\":10},\"mode\":\"lines+markers\",\"name\":\"pos_3\",\"orientation\":\"v\",\"showlegend\":true,\"x\":[4.6270647,4.6264296,4.6262097,4.667378,4.700443,4.741722,4.7854834,4.8192496,4.871583,4.9486055],\"xaxis\":\"x\",\"y\":[0.52734375,0.5390625,0.56640625,0.5859375,0.62109375,0.6484375,0.609375,0.6328125,0.65625,0.7109375],\"yaxis\":\"y\",\"type\":\"scatter\"},{\"customdata\":[[\"pos_4\",\"0\"],[\"pos_4\",\"0.5\"],[\"pos_4\",\"1\"],[\"pos_4\",\"5\"],[\"pos_4\",\"7\"],[\"pos_4\",\"10\"],[\"pos_4\",\"15\"],[\"pos_4\",\"20\"],[\"pos_4\",\"30\"],[\"pos_4\",\"50\"]],\"hovertemplate\":\"Position=%{customdata[0]}\\u003cbr\\u003eLoss=%{x}\\u003cbr\\u003eScore=%{y}\\u003cbr\\u003eCoef=%{customdata[1]}\\u003cextra\\u003e\\u003c\\u002fextra\\u003e\",\"legendgroup\":\"pos_4\",\"marker\":{\"color\":\"#FFA15A\",\"symbol\":\"circle\",\"size\":10},\"mode\":\"lines+markers\",\"name\":\"pos_4\",\"orientation\":\"v\",\"showlegend\":true,\"x\":[4.6270647,4.6276493,4.6289644,4.6774683,4.713242,4.7544694,4.7980366,4.831393,4.8843966,4.961891],\"xaxis\":\"x\",\"y\":[0.5078125,0.53125,0.54296875,0.59375,0.6484375,0.609375,0.71484375,0.7109375,0.72265625,0.7734375],\"yaxis\":\"y\",\"type\":\"scatter\"}],                        {\"template\":{\"data\":{\"histogram2dcontour\":[{\"type\":\"histogram2dcontour\",\"colorbar\":{\"outlinewidth\":0,\"ticks\":\"\"},\"colorscale\":[[0.0,\"#0d0887\"],[0.1111111111111111,\"#46039f\"],[0.2222222222222222,\"#7201a8\"],[0.3333333333333333,\"#9c179e\"],[0.4444444444444444,\"#bd3786\"],[0.5555555555555556,\"#d8576b\"],[0.6666666666666666,\"#ed7953\"],[0.7777777777777778,\"#fb9f3a\"],[0.8888888888888888,\"#fdca26\"],[1.0,\"#f0f921\"]]}],\"choropleth\":[{\"type\":\"choropleth\",\"colorbar\":{\"outlinewidth\":0,\"ticks\":\"\"}}],\"histogram2d\":[{\"type\":\"histogram2d\",\"colorbar\":{\"outlinewidth\":0,\"ticks\":\"\"},\"colorscale\":[[0.0,\"#0d0887\"],[0.1111111111111111,\"#46039f\"],[0.2222222222222222,\"#7201a8\"],[0.3333333333333333,\"#9c179e\"],[0.4444444444444444,\"#bd3786\"],[0.5555555555555556,\"#d8576b\"],[0.6666666666666666,\"#ed7953\"],[0.7777777777777778,\"#fb9f3a\"],[0.8888888888888888,\"#fdca26\"],[1.0,\"#f0f921\"]]}],\"heatmap\":[{\"type\":\"heatmap\",\"colorbar\":{\"outlinewidth\":0,\"ticks\":\"\"},\"colorscale\":[[0.0,\"#0d0887\"],[0.1111111111111111,\"#46039f\"],[0.2222222222222222,\"#7201a8\"],[0.3333333333333333,\"#9c179e\"],[0.4444444444444444,\"#bd3786\"],[0.5555555555555556,\"#d8576b\"],[0.6666666666666666,\"#ed7953\"],[0.7777777777777778,\"#fb9f3a\"],[0.8888888888888888,\"#fdca26\"],[1.0,\"#f0f921\"]]}],\"heatmapgl\":[{\"type\":\"heatmapgl\",\"colorbar\":{\"outlinewidth\":0,\"ticks\":\"\"},\"colorscale\":[[0.0,\"#0d0887\"],[0.1111111111111111,\"#46039f\"],[0.2222222222222222,\"#7201a8\"],[0.3333333333333333,\"#9c179e\"],[0.4444444444444444,\"#bd3786\"],[0.5555555555555556,\"#d8576b\"],[0.6666666666666666,\"#ed7953\"],[0.7777777777777778,\"#fb9f3a\"],[0.8888888888888888,\"#fdca26\"],[1.0,\"#f0f921\"]]}],\"contourcarpet\":[{\"type\":\"contourcarpet\",\"colorbar\":{\"outlinewidth\":0,\"ticks\":\"\"}}],\"contour\":[{\"type\":\"contour\",\"colorbar\":{\"outlinewidth\":0,\"ticks\":\"\"},\"colorscale\":[[0.0,\"#0d0887\"],[0.1111111111111111,\"#46039f\"],[0.2222222222222222,\"#7201a8\"],[0.3333333333333333,\"#9c179e\"],[0.4444444444444444,\"#bd3786\"],[0.5555555555555556,\"#d8576b\"],[0.6666666666666666,\"#ed7953\"],[0.7777777777777778,\"#fb9f3a\"],[0.8888888888888888,\"#fdca26\"],[1.0,\"#f0f921\"]]}],\"surface\":[{\"type\":\"surface\",\"colorbar\":{\"outlinewidth\":0,\"ticks\":\"\"},\"colorscale\":[[0.0,\"#0d0887\"],[0.1111111111111111,\"#46039f\"],[0.2222222222222222,\"#7201a8\"],[0.3333333333333333,\"#9c179e\"],[0.4444444444444444,\"#bd3786\"],[0.5555555555555556,\"#d8576b\"],[0.6666666666666666,\"#ed7953\"],[0.7777777777777778,\"#fb9f3a\"],[0.8888888888888888,\"#fdca26\"],[1.0,\"#f0f921\"]]}],\"mesh3d\":[{\"type\":\"mesh3d\",\"colorbar\":{\"outlinewidth\":0,\"ticks\":\"\"}}],\"scatter\":[{\"fillpattern\":{\"fillmode\":\"overlay\",\"size\":10,\"solidity\":0.2},\"type\":\"scatter\"}],\"parcoords\":[{\"type\":\"parcoords\",\"line\":{\"colorbar\":{\"outlinewidth\":0,\"ticks\":\"\"}}}],\"scatterpolargl\":[{\"type\":\"scatterpolargl\",\"marker\":{\"colorbar\":{\"outlinewidth\":0,\"ticks\":\"\"}}}],\"bar\":[{\"error_x\":{\"color\":\"#2a3f5f\"},\"error_y\":{\"color\":\"#2a3f5f\"},\"marker\":{\"line\":{\"color\":\"#E5ECF6\",\"width\":0.5},\"pattern\":{\"fillmode\":\"overlay\",\"size\":10,\"solidity\":0.2}},\"type\":\"bar\"}],\"scattergeo\":[{\"type\":\"scattergeo\",\"marker\":{\"colorbar\":{\"outlinewidth\":0,\"ticks\":\"\"}}}],\"scatterpolar\":[{\"type\":\"scatterpolar\",\"marker\":{\"colorbar\":{\"outlinewidth\":0,\"ticks\":\"\"}}}],\"histogram\":[{\"marker\":{\"pattern\":{\"fillmode\":\"overlay\",\"size\":10,\"solidity\":0.2}},\"type\":\"histogram\"}],\"scattergl\":[{\"type\":\"scattergl\",\"marker\":{\"colorbar\":{\"outlinewidth\":0,\"ticks\":\"\"}}}],\"scatter3d\":[{\"type\":\"scatter3d\",\"line\":{\"colorbar\":{\"outlinewidth\":0,\"ticks\":\"\"}},\"marker\":{\"colorbar\":{\"outlinewidth\":0,\"ticks\":\"\"}}}],\"scattermapbox\":[{\"type\":\"scattermapbox\",\"marker\":{\"colorbar\":{\"outlinewidth\":0,\"ticks\":\"\"}}}],\"scatterternary\":[{\"type\":\"scatterternary\",\"marker\":{\"colorbar\":{\"outlinewidth\":0,\"ticks\":\"\"}}}],\"scattercarpet\":[{\"type\":\"scattercarpet\",\"marker\":{\"colorbar\":{\"outlinewidth\":0,\"ticks\":\"\"}}}],\"carpet\":[{\"aaxis\":{\"endlinecolor\":\"#2a3f5f\",\"gridcolor\":\"white\",\"linecolor\":\"white\",\"minorgridcolor\":\"white\",\"startlinecolor\":\"#2a3f5f\"},\"baxis\":{\"endlinecolor\":\"#2a3f5f\",\"gridcolor\":\"white\",\"linecolor\":\"white\",\"minorgridcolor\":\"white\",\"startlinecolor\":\"#2a3f5f\"},\"type\":\"carpet\"}],\"table\":[{\"cells\":{\"fill\":{\"color\":\"#EBF0F8\"},\"line\":{\"color\":\"white\"}},\"header\":{\"fill\":{\"color\":\"#C8D4E3\"},\"line\":{\"color\":\"white\"}},\"type\":\"table\"}],\"barpolar\":[{\"marker\":{\"line\":{\"color\":\"#E5ECF6\",\"width\":0.5},\"pattern\":{\"fillmode\":\"overlay\",\"size\":10,\"solidity\":0.2}},\"type\":\"barpolar\"}],\"pie\":[{\"automargin\":true,\"type\":\"pie\"}]},\"layout\":{\"autotypenumbers\":\"strict\",\"colorway\":[\"#636efa\",\"#EF553B\",\"#00cc96\",\"#ab63fa\",\"#FFA15A\",\"#19d3f3\",\"#FF6692\",\"#B6E880\",\"#FF97FF\",\"#FECB52\"],\"font\":{\"color\":\"#2a3f5f\"},\"hovermode\":\"closest\",\"hoverlabel\":{\"align\":\"left\"},\"paper_bgcolor\":\"white\",\"plot_bgcolor\":\"#E5ECF6\",\"polar\":{\"bgcolor\":\"#E5ECF6\",\"angularaxis\":{\"gridcolor\":\"white\",\"linecolor\":\"white\",\"ticks\":\"\"},\"radialaxis\":{\"gridcolor\":\"white\",\"linecolor\":\"white\",\"ticks\":\"\"}},\"ternary\":{\"bgcolor\":\"#E5ECF6\",\"aaxis\":{\"gridcolor\":\"white\",\"linecolor\":\"white\",\"ticks\":\"\"},\"baxis\":{\"gridcolor\":\"white\",\"linecolor\":\"white\",\"ticks\":\"\"},\"caxis\":{\"gridcolor\":\"white\",\"linecolor\":\"white\",\"ticks\":\"\"}},\"coloraxis\":{\"colorbar\":{\"outlinewidth\":0,\"ticks\":\"\"}},\"colorscale\":{\"sequential\":[[0.0,\"#0d0887\"],[0.1111111111111111,\"#46039f\"],[0.2222222222222222,\"#7201a8\"],[0.3333333333333333,\"#9c179e\"],[0.4444444444444444,\"#bd3786\"],[0.5555555555555556,\"#d8576b\"],[0.6666666666666666,\"#ed7953\"],[0.7777777777777778,\"#fb9f3a\"],[0.8888888888888888,\"#fdca26\"],[1.0,\"#f0f921\"]],\"sequentialminus\":[[0.0,\"#0d0887\"],[0.1111111111111111,\"#46039f\"],[0.2222222222222222,\"#7201a8\"],[0.3333333333333333,\"#9c179e\"],[0.4444444444444444,\"#bd3786\"],[0.5555555555555556,\"#d8576b\"],[0.6666666666666666,\"#ed7953\"],[0.7777777777777778,\"#fb9f3a\"],[0.8888888888888888,\"#fdca26\"],[1.0,\"#f0f921\"]],\"diverging\":[[0,\"#8e0152\"],[0.1,\"#c51b7d\"],[0.2,\"#de77ae\"],[0.3,\"#f1b6da\"],[0.4,\"#fde0ef\"],[0.5,\"#f7f7f7\"],[0.6,\"#e6f5d0\"],[0.7,\"#b8e186\"],[0.8,\"#7fbc41\"],[0.9,\"#4d9221\"],[1,\"#276419\"]]},\"xaxis\":{\"gridcolor\":\"white\",\"linecolor\":\"white\",\"ticks\":\"\",\"title\":{\"standoff\":15},\"zerolinecolor\":\"white\",\"automargin\":true,\"zerolinewidth\":2},\"yaxis\":{\"gridcolor\":\"white\",\"linecolor\":\"white\",\"ticks\":\"\",\"title\":{\"standoff\":15},\"zerolinecolor\":\"white\",\"automargin\":true,\"zerolinewidth\":2},\"scene\":{\"xaxis\":{\"backgroundcolor\":\"#E5ECF6\",\"gridcolor\":\"white\",\"linecolor\":\"white\",\"showbackground\":true,\"ticks\":\"\",\"zerolinecolor\":\"white\",\"gridwidth\":2},\"yaxis\":{\"backgroundcolor\":\"#E5ECF6\",\"gridcolor\":\"white\",\"linecolor\":\"white\",\"showbackground\":true,\"ticks\":\"\",\"zerolinecolor\":\"white\",\"gridwidth\":2},\"zaxis\":{\"backgroundcolor\":\"#E5ECF6\",\"gridcolor\":\"white\",\"linecolor\":\"white\",\"showbackground\":true,\"ticks\":\"\",\"zerolinecolor\":\"white\",\"gridwidth\":2}},\"shapedefaults\":{\"line\":{\"color\":\"#2a3f5f\"}},\"annotationdefaults\":{\"arrowcolor\":\"#2a3f5f\",\"arrowhead\":0,\"arrowwidth\":1},\"geo\":{\"bgcolor\":\"white\",\"landcolor\":\"#E5ECF6\",\"subunitcolor\":\"white\",\"showland\":true,\"showlakes\":true,\"lakecolor\":\"white\"},\"title\":{\"x\":0.05},\"mapbox\":{\"style\":\"light\"}}},\"xaxis\":{\"anchor\":\"y\",\"domain\":[0.0,1.0],\"title\":{\"text\":\"Loss\"}},\"yaxis\":{\"anchor\":\"x\",\"domain\":[0.0,1.0],\"title\":{\"text\":\"Score\"}},\"legend\":{\"title\":{\"text\":\"Position\"},\"tracegroupgap\":0},\"title\":{\"text\":\"Angry score vs Loss (Position as color)\"}},                        {\"responsive\": true}                    ).then(function(){\n",
       "                            \n",
       "var gd = document.getElementById('a7219204-5e2f-434c-b981-9b26cc33bcc3');\n",
       "var x = new MutationObserver(function (mutations, observer) {{\n",
       "        var display = window.getComputedStyle(gd).display;\n",
       "        if (!display || display === 'none') {{\n",
       "            console.log([gd, 'removed!']);\n",
       "            Plotly.purge(gd);\n",
       "            observer.disconnect();\n",
       "        }}\n",
       "}});\n",
       "\n",
       "// Listen for the removal of the full notebook cells\n",
       "var notebookContainer = gd.closest('#notebook-container');\n",
       "if (notebookContainer) {{\n",
       "    x.observe(notebookContainer, {childList: true});\n",
       "}}\n",
       "\n",
       "// Listen for the clearing of the current output cell\n",
       "var outputEl = gd.closest('.output');\n",
       "if (outputEl) {{\n",
       "    x.observe(outputEl, {childList: true});\n",
       "}}\n",
       "\n",
       "                        })                };                });            </script>        </div>"
      ]
     },
     "metadata": {},
     "output_type": "display_data"
    }
   ],
   "source": [
    "# plot scatter plot of loss (x axis) vs score (y axis). with different colors for different c values, and different shapes for different pos values.\n",
    "\n",
    "import pandas as pd\n",
    "import numpy as np\n",
    "\n",
    "\n",
    "n_c = len(cs)\n",
    "n_pos = n_positions\n",
    "\n",
    "cs_str = [str(c) for c in cs]\n",
    "pos_str = [f\"pos_{i}\" for i in range(n_positions)]\n",
    "\n",
    "# Random score and loss matrices\n",
    "# np.random.seed(42)\n",
    "# score_matrix = torch.randn(n_pos, n_c)\n",
    "# loss_matrix = torch.randn(n_pos, n_c)\n",
    "\n",
    "# Create a DataFrame\n",
    "data = {\n",
    "    'Loss': loss_matrix.numpy().flatten(),\n",
    "    'Score': score_matrix.numpy().flatten(),\n",
    "    'Position': np.repeat(pos_str, n_c), # ['a', 'b'] -> ['a', 'a', 'b', 'b']\n",
    "    'Coef': np.tile(cs_str, n_pos) # ['a', 'b'] -> ['a', 'b', 'a', 'b']\n",
    "}\n",
    "\n",
    "df = pd.DataFrame(data)\n",
    "\n",
    "# Map the position to marker shapes\n",
    "# markers = ['circle', 'square', 'diamond', 'cross', 'x']\n",
    "# df['Marker'] = df['Position'].apply(lambda x: markers[x % len(markers)])\n",
    "\n",
    "# Plotting, with coef as color\n",
    "fig = px.scatter(\n",
    "    df, x='Loss', y='Score', color='Coef',\n",
    "    labels={'Coef': 'Coef', 'Marker': 'Position'},\n",
    "    title='Angry score vs Loss (Coef as color)',\n",
    "    hover_data=['Position', 'Coef', 'Loss', 'Score'],\n",
    ")\n",
    "\n",
    "fig.update_traces(marker=dict(size=10))  # Adjust marker size\n",
    "fig.show()\n",
    "\n",
    "# line plot, one line for each coef, color by position, \n",
    "fig = px.scatter(\n",
    "    df, x='Loss', y='Score', color='Position',\n",
    "    labels={'Position': 'Position', 'Score': 'Score'},\n",
    "    title='Angry score vs Loss (Position as color)',\n",
    "    hover_data=['Position', 'Coef', 'Loss', 'Score'],\n",
    ")\n",
    "\n",
    "fig.update_traces(marker=dict(size=10))  # Adjust marker size\n",
    "fig.update_traces(mode='lines+markers')\n",
    "fig.show()\n",
    "\n"
   ]
  },
  {
   "cell_type": "code",
   "execution_count": null,
   "metadata": {},
   "outputs": [],
   "source": []
  },
  {
   "cell_type": "code",
   "execution_count": 50,
   "metadata": {},
   "outputs": [],
   "source": [
    " # would be cool to plot attention score vs sentiment score."
   ]
  },
  {
   "cell_type": "code",
   "execution_count": 51,
   "metadata": {},
   "outputs": [
    {
     "data": {
      "text/plain": [
       "tensor([[0.5312, 0.5195, 0.5742, 0.5820, 0.6055, 0.6328, 0.6953, 0.7852, 0.9648,\n",
       "         1.0000],\n",
       "        [0.6328, 0.6055, 0.5391, 0.6016, 0.6055, 0.5664, 0.6367, 0.6719, 0.6133,\n",
       "         0.6914],\n",
       "        [0.5469, 0.5391, 0.5938, 0.6289, 0.7148, 0.7109, 0.7148, 0.6875, 0.7266,\n",
       "         0.7461],\n",
       "        [0.5273, 0.5391, 0.5664, 0.5859, 0.6211, 0.6484, 0.6094, 0.6328, 0.6562,\n",
       "         0.7109],\n",
       "        [0.5078, 0.5312, 0.5430, 0.5938, 0.6484, 0.6094, 0.7148, 0.7109, 0.7227,\n",
       "         0.7734]])"
      ]
     },
     "execution_count": 51,
     "metadata": {},
     "output_type": "execute_result"
    }
   ],
   "source": [
    "score_matrix"
   ]
  },
  {
   "cell_type": "code",
   "execution_count": 52,
   "metadata": {},
   "outputs": [
    {
     "data": {
      "text/plain": [
       "tensor([[4.6271, 4.6195, 4.6122, 4.5932, 4.6124, 4.6527, 4.7310, 4.8348, 5.2087,\n",
       "         6.6238],\n",
       "        [4.6271, 4.6257, 4.6249, 4.6521, 4.6866, 4.7267, 4.7736, 4.8132, 4.8774,\n",
       "         4.9701],\n",
       "        [4.6271, 4.6264, 4.6262, 4.6660, 4.7032, 4.7470, 4.7969, 4.8347, 4.8923,\n",
       "         4.9738],\n",
       "        [4.6271, 4.6264, 4.6262, 4.6674, 4.7004, 4.7417, 4.7855, 4.8192, 4.8716,\n",
       "         4.9486],\n",
       "        [4.6271, 4.6276, 4.6290, 4.6775, 4.7132, 4.7545, 4.7980, 4.8314, 4.8844,\n",
       "         4.9619]])"
      ]
     },
     "execution_count": 52,
     "metadata": {},
     "output_type": "execute_result"
    }
   ],
   "source": [
    "loss_matrix"
   ]
  },
  {
   "cell_type": "code",
   "execution_count": null,
   "metadata": {},
   "outputs": [],
   "source": []
  },
  {
   "cell_type": "code",
   "execution_count": null,
   "metadata": {},
   "outputs": [],
   "source": []
  },
  {
   "cell_type": "code",
   "execution_count": null,
   "metadata": {},
   "outputs": [],
   "source": []
  },
  {
   "cell_type": "code",
   "execution_count": null,
   "metadata": {},
   "outputs": [],
   "source": []
  }
 ],
 "metadata": {
  "kernelspec": {
   "display_name": ".venv",
   "language": "python",
   "name": "python3"
  },
  "language_info": {
   "codemirror_mode": {
    "name": "ipython",
    "version": 3
   },
   "file_extension": ".py",
   "mimetype": "text/x-python",
   "name": "python",
   "nbconvert_exporter": "python",
   "pygments_lexer": "ipython3",
   "version": "3.10.13"
  }
 },
 "nbformat": 4,
 "nbformat_minor": 2
}
